{
 "cells": [
  {
   "cell_type": "markdown",
   "id": "e3d87c89",
   "metadata": {
    "papermill": {
     "duration": 0.109875,
     "end_time": "2024-03-25T17:42:15.936375",
     "exception": false,
     "start_time": "2024-03-25T17:42:15.826500",
     "status": "completed"
    },
    "tags": []
   },
   "source": [
    "# Twitter Sentiment Analysis with BERT and roBERTa Transformers"
   ]
  },
  {
   "cell_type": "markdown",
   "id": "623084eb",
   "metadata": {
    "papermill": {
     "duration": 0.107693,
     "end_time": "2024-03-25T17:42:16.154550",
     "exception": false,
     "start_time": "2024-03-25T17:42:16.046857",
     "status": "completed"
    },
    "tags": []
   },
   "source": [
    "This project is about the **analysis of tweets about coronavirus**, with the goal of performing a **Sentiment Analysis using BERT and roBERTa** algorithms to predict the emotion of a tweet (Positive, Negative or Neutral). In particular, both **BERT and roBERTa will be fine tuned** using the given dataset (\"Coronavirus tweets NLP - Text Classification\") in order to improve the model overall performance.<br>\n",
    "Before feeding the data to the algorithms, **the tweets will be deeply cleaned to remove links, hashtags at the end of the sentences and punctuation** to allow the algorithms to better understand the text and improve the prediction performance."
   ]
  },
  {
   "cell_type": "markdown",
   "id": "fdaec1bd",
   "metadata": {
    "execution": {
     "iopub.execute_input": "2021-12-07T16:04:36.962972Z",
     "iopub.status.busy": "2021-12-07T16:04:36.962613Z",
     "iopub.status.idle": "2021-12-07T16:04:36.982915Z",
     "shell.execute_reply": "2021-12-07T16:04:36.982267Z",
     "shell.execute_reply.started": "2021-12-07T16:04:36.962881Z"
    },
    "papermill": {
     "duration": 0.108759,
     "end_time": "2024-03-25T17:42:16.371963",
     "exception": false,
     "start_time": "2024-03-25T17:42:16.263204",
     "status": "completed"
    },
    "tags": []
   },
   "source": [
    "# Sentiment Analysis Results:"
   ]
  },
  {
   "cell_type": "markdown",
   "id": "4bfd9611",
   "metadata": {
    "papermill": {
     "duration": 0.107859,
     "end_time": "2024-03-25T17:42:16.587626",
     "exception": false,
     "start_time": "2024-03-25T17:42:16.479767",
     "status": "completed"
    },
    "tags": []
   },
   "source": [
    "**The two algorithms performed quite well on the dataset, showing F1 and accuracy scores around 90%.**<br> Such high scores can only be achieved by performing a good cleaning of the original data, allowing the algorithms to learn the most from it.<br> **In particular, also a baseline Naive Bayes Classifier model has been trained to perform the sentiment classification, with a resulting accuracy and F1 around 70% (much lower than BERT)**.<br>\n",
    "**The training of BERT and roBERTa took around 11 minutes per epoch (for a total of 4 epochs) on GPU** per algorithm, since both **the transformers parameters (more than 100 million) have been fine tuned** to perform the best on the given dataset. It is possible to train only the last layer of the transformer without fine tuning the other parameters: however, this usually leads to inferior results compared to the fine tuning approach."
   ]
  },
  {
   "cell_type": "markdown",
   "id": "92d79d19",
   "metadata": {
    "papermill": {
     "duration": 0.106885,
     "end_time": "2024-03-25T17:42:16.801695",
     "exception": false,
     "start_time": "2024-03-25T17:42:16.694810",
     "status": "completed"
    },
    "tags": []
   },
   "source": [
    "<img src=\"https://i.imgur.com/htll3Fu.png\" width=\"900px\">"
   ]
  },
  {
   "cell_type": "code",
   "execution_count": 1,
   "id": "d8bad664",
   "metadata": {
    "_cell_guid": "b1076dfc-b9ad-4769-8c92-a6c4dae69d19",
    "_kg_hide-input": true,
    "_uuid": "8f2839f25d086af736a60e9eeb907d3b93b6e0e5",
    "execution": {
     "iopub.execute_input": "2024-03-25T17:42:17.030214Z",
     "iopub.status.busy": "2024-03-25T17:42:17.029580Z",
     "iopub.status.idle": "2024-03-25T17:42:17.042427Z",
     "shell.execute_reply": "2024-03-25T17:42:17.041790Z",
     "shell.execute_reply.started": "2021-12-22T21:15:17.779117Z"
    },
    "papermill": {
     "duration": 0.132209,
     "end_time": "2024-03-25T17:42:17.042598",
     "exception": false,
     "start_time": "2024-03-25T17:42:16.910389",
     "status": "completed"
    },
    "tags": []
   },
   "outputs": [
    {
     "name": "stdout",
     "output_type": "stream",
     "text": [
      "/kaggle/input/covid-19-nlp-text-classification/Corona_NLP_test.csv\n",
      "/kaggle/input/covid-19-nlp-text-classification/Corona_NLP_train.csv\n"
     ]
    }
   ],
   "source": [
    "import os\n",
    "for dirname, _, filenames in os.walk('/kaggle/input'):\n",
    "    for filename in filenames:\n",
    "        print(os.path.join(dirname, filename))"
   ]
  },
  {
   "cell_type": "code",
   "execution_count": 2,
   "id": "44de00d6",
   "metadata": {
    "execution": {
     "iopub.execute_input": "2024-03-25T17:42:17.270603Z",
     "iopub.status.busy": "2024-03-25T17:42:17.269706Z",
     "iopub.status.idle": "2024-03-25T17:42:26.192422Z",
     "shell.execute_reply": "2024-03-25T17:42:26.192931Z",
     "shell.execute_reply.started": "2021-12-22T21:15:17.791678Z"
    },
    "papermill": {
     "duration": 9.041972,
     "end_time": "2024-03-25T17:42:26.193123",
     "exception": false,
     "start_time": "2024-03-25T17:42:17.151151",
     "status": "completed"
    },
    "tags": []
   },
   "outputs": [
    {
     "data": {
      "text/plain": [
       "<Figure size 432x288 with 0 Axes>"
      ]
     },
     "metadata": {},
     "output_type": "display_data"
    }
   ],
   "source": [
    "#general purpose packages\n",
    "import numpy as np\n",
    "import pandas as pd\n",
    "import tensorflow as tf\n",
    "import matplotlib.pyplot as plt\n",
    "import seaborn as sns\n",
    "\n",
    "#data processing\n",
    "import re, string\n",
    "import emoji\n",
    "import nltk\n",
    "\n",
    "from sklearn import preprocessing\n",
    "from imblearn.over_sampling import RandomOverSampler\n",
    "from sklearn.model_selection import train_test_split\n",
    "\n",
    "\n",
    "#Naive Bayes\n",
    "from sklearn.feature_extraction.text import CountVectorizer\n",
    "from sklearn.feature_extraction.text import TfidfTransformer\n",
    "from sklearn.naive_bayes import MultinomialNB\n",
    "\n",
    "#transformers\n",
    "from transformers import BertTokenizerFast\n",
    "from transformers import TFBertModel\n",
    "from transformers import RobertaTokenizerFast\n",
    "from transformers import TFRobertaModel\n",
    "\n",
    "#keras\n",
    "import tensorflow as tf\n",
    "from tensorflow import keras\n",
    "\n",
    "\n",
    "#metrics\n",
    "from sklearn.metrics import accuracy_score, f1_score\n",
    "from sklearn.metrics import classification_report, confusion_matrix\n",
    "\n",
    "#set seed for reproducibility\n",
    "seed=42\n",
    "\n",
    "#set style for plots\n",
    "sns.set_style(\"whitegrid\")\n",
    "sns.despine()\n",
    "plt.style.use(\"seaborn-whitegrid\")\n",
    "plt.rc(\"figure\", autolayout=True)\n",
    "plt.rc(\"axes\", labelweight=\"bold\", labelsize=\"large\", titleweight=\"bold\", titlepad=10)\n"
   ]
  },
  {
   "cell_type": "markdown",
   "id": "9f7c585e",
   "metadata": {
    "papermill": {
     "duration": 0.108659,
     "end_time": "2024-03-25T17:42:26.411786",
     "exception": false,
     "start_time": "2024-03-25T17:42:26.303127",
     "status": "completed"
    },
    "tags": []
   },
   "source": [
    "## Custom functions definition:"
   ]
  },
  {
   "cell_type": "code",
   "execution_count": 3,
   "id": "adf666e1",
   "metadata": {
    "_kg_hide-input": true,
    "execution": {
     "iopub.execute_input": "2024-03-25T17:42:26.638369Z",
     "iopub.status.busy": "2024-03-25T17:42:26.637405Z",
     "iopub.status.idle": "2024-03-25T17:42:26.640205Z",
     "shell.execute_reply": "2024-03-25T17:42:26.639573Z",
     "shell.execute_reply.started": "2021-12-22T21:15:17.810234Z"
    },
    "papermill": {
     "duration": 0.120083,
     "end_time": "2024-03-25T17:42:26.640338",
     "exception": false,
     "start_time": "2024-03-25T17:42:26.520255",
     "status": "completed"
    },
    "tags": []
   },
   "outputs": [],
   "source": [
    "def conf_matrix(y, y_pred, title):\n",
    "    fig, ax =plt.subplots(figsize=(5,5))\n",
    "    labels=['Negative', 'Neutral', 'Positive']\n",
    "    ax=sns.heatmap(confusion_matrix(y, y_pred), annot=True, cmap=\"Blues\", fmt='g', cbar=False, annot_kws={\"size\":25})\n",
    "    plt.title(title, fontsize=20)\n",
    "    ax.xaxis.set_ticklabels(labels, fontsize=17) \n",
    "    ax.yaxis.set_ticklabels(labels, fontsize=17)\n",
    "    ax.set_ylabel('Test', fontsize=20)\n",
    "    ax.set_xlabel('Predicted', fontsize=20)\n",
    "    plt.show()"
   ]
  },
  {
   "cell_type": "markdown",
   "id": "761496e5",
   "metadata": {
    "papermill": {
     "duration": 0.109389,
     "end_time": "2024-03-25T17:42:26.858700",
     "exception": false,
     "start_time": "2024-03-25T17:42:26.749311",
     "status": "completed"
    },
    "tags": []
   },
   "source": [
    "# Loading the data"
   ]
  },
  {
   "cell_type": "code",
   "execution_count": 4,
   "id": "123ce11a",
   "metadata": {
    "execution": {
     "iopub.execute_input": "2024-03-25T17:42:27.082244Z",
     "iopub.status.busy": "2024-03-25T17:42:27.081487Z",
     "iopub.status.idle": "2024-03-25T17:42:27.443780Z",
     "shell.execute_reply": "2024-03-25T17:42:27.443200Z",
     "shell.execute_reply.started": "2021-12-22T21:15:17.819059Z"
    },
    "papermill": {
     "duration": 0.476248,
     "end_time": "2024-03-25T17:42:27.443913",
     "exception": false,
     "start_time": "2024-03-25T17:42:26.967665",
     "status": "completed"
    },
    "tags": []
   },
   "outputs": [],
   "source": [
    "df = pd.read_csv('../input/covid-19-nlp-text-classification/Corona_NLP_train.csv',encoding='ISO-8859-1')\n",
    "df_test = pd.read_csv('../input/covid-19-nlp-text-classification/Corona_NLP_test.csv')"
   ]
  },
  {
   "cell_type": "markdown",
   "id": "11c55765",
   "metadata": {
    "papermill": {
     "duration": 0.110617,
     "end_time": "2024-03-25T17:42:27.666439",
     "exception": false,
     "start_time": "2024-03-25T17:42:27.555822",
     "status": "completed"
    },
    "tags": []
   },
   "source": [
    "NOTE: UTF-8 encoding does not work on the dataset when loading it with pandas 'read_csv' function. This lead to the use of 'ISO-8859-1'/latin-1 encoding. <br>\n",
    "It will be found later that some special characters like apostrophes are turned into '\\x92', which will be taken care of during the data cleaning process.\n",
    "                                                                                                         "
   ]
  },
  {
   "cell_type": "code",
   "execution_count": 5,
   "id": "4652c94f",
   "metadata": {
    "execution": {
     "iopub.execute_input": "2024-03-25T17:42:27.893214Z",
     "iopub.status.busy": "2024-03-25T17:42:27.892315Z",
     "iopub.status.idle": "2024-03-25T17:42:27.905153Z",
     "shell.execute_reply": "2024-03-25T17:42:27.905626Z",
     "shell.execute_reply.started": "2021-12-22T21:15:17.967519Z"
    },
    "papermill": {
     "duration": 0.130286,
     "end_time": "2024-03-25T17:42:27.905786",
     "exception": false,
     "start_time": "2024-03-25T17:42:27.775500",
     "status": "completed"
    },
    "tags": []
   },
   "outputs": [
    {
     "data": {
      "text/html": [
       "<div>\n",
       "<style scoped>\n",
       "    .dataframe tbody tr th:only-of-type {\n",
       "        vertical-align: middle;\n",
       "    }\n",
       "\n",
       "    .dataframe tbody tr th {\n",
       "        vertical-align: top;\n",
       "    }\n",
       "\n",
       "    .dataframe thead th {\n",
       "        text-align: right;\n",
       "    }\n",
       "</style>\n",
       "<table border=\"1\" class=\"dataframe\">\n",
       "  <thead>\n",
       "    <tr style=\"text-align: right;\">\n",
       "      <th></th>\n",
       "      <th>UserName</th>\n",
       "      <th>ScreenName</th>\n",
       "      <th>Location</th>\n",
       "      <th>TweetAt</th>\n",
       "      <th>OriginalTweet</th>\n",
       "      <th>Sentiment</th>\n",
       "    </tr>\n",
       "  </thead>\n",
       "  <tbody>\n",
       "    <tr>\n",
       "      <th>0</th>\n",
       "      <td>3799</td>\n",
       "      <td>48751</td>\n",
       "      <td>London</td>\n",
       "      <td>16-03-2020</td>\n",
       "      <td>@MeNyrbie @Phil_Gahan @Chrisitv https://t.co/i...</td>\n",
       "      <td>Neutral</td>\n",
       "    </tr>\n",
       "    <tr>\n",
       "      <th>1</th>\n",
       "      <td>3800</td>\n",
       "      <td>48752</td>\n",
       "      <td>UK</td>\n",
       "      <td>16-03-2020</td>\n",
       "      <td>advice Talk to your neighbours family to excha...</td>\n",
       "      <td>Positive</td>\n",
       "    </tr>\n",
       "    <tr>\n",
       "      <th>2</th>\n",
       "      <td>3801</td>\n",
       "      <td>48753</td>\n",
       "      <td>Vagabonds</td>\n",
       "      <td>16-03-2020</td>\n",
       "      <td>Coronavirus Australia: Woolworths to give elde...</td>\n",
       "      <td>Positive</td>\n",
       "    </tr>\n",
       "    <tr>\n",
       "      <th>3</th>\n",
       "      <td>3802</td>\n",
       "      <td>48754</td>\n",
       "      <td>NaN</td>\n",
       "      <td>16-03-2020</td>\n",
       "      <td>My food stock is not the only one which is emp...</td>\n",
       "      <td>Positive</td>\n",
       "    </tr>\n",
       "    <tr>\n",
       "      <th>4</th>\n",
       "      <td>3803</td>\n",
       "      <td>48755</td>\n",
       "      <td>NaN</td>\n",
       "      <td>16-03-2020</td>\n",
       "      <td>Me, ready to go at supermarket during the #COV...</td>\n",
       "      <td>Extremely Negative</td>\n",
       "    </tr>\n",
       "  </tbody>\n",
       "</table>\n",
       "</div>"
      ],
      "text/plain": [
       "   UserName  ScreenName   Location     TweetAt  \\\n",
       "0      3799       48751     London  16-03-2020   \n",
       "1      3800       48752         UK  16-03-2020   \n",
       "2      3801       48753  Vagabonds  16-03-2020   \n",
       "3      3802       48754        NaN  16-03-2020   \n",
       "4      3803       48755        NaN  16-03-2020   \n",
       "\n",
       "                                       OriginalTweet           Sentiment  \n",
       "0  @MeNyrbie @Phil_Gahan @Chrisitv https://t.co/i...             Neutral  \n",
       "1  advice Talk to your neighbours family to excha...            Positive  \n",
       "2  Coronavirus Australia: Woolworths to give elde...            Positive  \n",
       "3  My food stock is not the only one which is emp...            Positive  \n",
       "4  Me, ready to go at supermarket during the #COV...  Extremely Negative  "
      ]
     },
     "execution_count": 5,
     "metadata": {},
     "output_type": "execute_result"
    }
   ],
   "source": [
    "df.head()"
   ]
  },
  {
   "cell_type": "code",
   "execution_count": 6,
   "id": "4e93339f",
   "metadata": {
    "execution": {
     "iopub.execute_input": "2024-03-25T17:42:28.147518Z",
     "iopub.status.busy": "2024-03-25T17:42:28.146615Z",
     "iopub.status.idle": "2024-03-25T17:42:28.163770Z",
     "shell.execute_reply": "2024-03-25T17:42:28.164296Z",
     "shell.execute_reply.started": "2021-12-22T21:15:17.981005Z"
    },
    "papermill": {
     "duration": 0.149919,
     "end_time": "2024-03-25T17:42:28.164469",
     "exception": false,
     "start_time": "2024-03-25T17:42:28.014550",
     "status": "completed"
    },
    "tags": []
   },
   "outputs": [
    {
     "name": "stdout",
     "output_type": "stream",
     "text": [
      "<class 'pandas.core.frame.DataFrame'>\n",
      "RangeIndex: 41157 entries, 0 to 41156\n",
      "Data columns (total 6 columns):\n",
      " #   Column         Non-Null Count  Dtype \n",
      "---  ------         --------------  ----- \n",
      " 0   UserName       41157 non-null  int64 \n",
      " 1   ScreenName     41157 non-null  int64 \n",
      " 2   Location       32567 non-null  object\n",
      " 3   TweetAt        41157 non-null  object\n",
      " 4   OriginalTweet  41157 non-null  object\n",
      " 5   Sentiment      41157 non-null  object\n",
      "dtypes: int64(2), object(4)\n",
      "memory usage: 1.9+ MB\n"
     ]
    }
   ],
   "source": [
    "df.info()"
   ]
  },
  {
   "cell_type": "markdown",
   "id": "10455a60",
   "metadata": {
    "papermill": {
     "duration": 0.108211,
     "end_time": "2024-03-25T17:42:28.381174",
     "exception": false,
     "start_time": "2024-03-25T17:42:28.272963",
     "status": "completed"
    },
    "tags": []
   },
   "source": [
    "We convert the date column 'TweetAt' to pandas datetime format to improve its usability in the further analysis."
   ]
  },
  {
   "cell_type": "code",
   "execution_count": 7,
   "id": "614cf4e3",
   "metadata": {
    "execution": {
     "iopub.execute_input": "2024-03-25T17:42:28.621650Z",
     "iopub.status.busy": "2024-03-25T17:42:28.620816Z",
     "iopub.status.idle": "2024-03-25T17:42:28.628420Z",
     "shell.execute_reply": "2024-03-25T17:42:28.627801Z",
     "shell.execute_reply.started": "2021-12-22T21:15:18.012618Z"
    },
    "papermill": {
     "duration": 0.133998,
     "end_time": "2024-03-25T17:42:28.628584",
     "exception": false,
     "start_time": "2024-03-25T17:42:28.494586",
     "status": "completed"
    },
    "tags": []
   },
   "outputs": [],
   "source": [
    "df['TweetAt'] = pd.to_datetime(df['TweetAt'])"
   ]
  },
  {
   "cell_type": "markdown",
   "id": "3e468f9c",
   "metadata": {
    "papermill": {
     "duration": 0.109506,
     "end_time": "2024-03-25T17:42:28.848463",
     "exception": false,
     "start_time": "2024-03-25T17:42:28.738957",
     "status": "completed"
    },
    "tags": []
   },
   "source": [
    "## Duplicate tweets?"
   ]
  },
  {
   "cell_type": "code",
   "execution_count": 8,
   "id": "81219aa0",
   "metadata": {
    "execution": {
     "iopub.execute_input": "2024-03-25T17:42:29.081259Z",
     "iopub.status.busy": "2024-03-25T17:42:29.080624Z",
     "iopub.status.idle": "2024-03-25T17:42:29.114346Z",
     "shell.execute_reply": "2024-03-25T17:42:29.113685Z",
     "shell.execute_reply.started": "2021-12-22T21:15:18.026991Z"
    },
    "papermill": {
     "duration": 0.156321,
     "end_time": "2024-03-25T17:42:29.114497",
     "exception": false,
     "start_time": "2024-03-25T17:42:28.958176",
     "status": "completed"
    },
    "tags": []
   },
   "outputs": [],
   "source": [
    "df.drop_duplicates(subset='OriginalTweet',inplace=True)"
   ]
  },
  {
   "cell_type": "code",
   "execution_count": 9,
   "id": "7cdc639d",
   "metadata": {
    "execution": {
     "iopub.execute_input": "2024-03-25T17:42:29.352551Z",
     "iopub.status.busy": "2024-03-25T17:42:29.351855Z",
     "iopub.status.idle": "2024-03-25T17:42:29.361027Z",
     "shell.execute_reply": "2024-03-25T17:42:29.361509Z",
     "shell.execute_reply.started": "2021-12-22T21:15:18.069251Z"
    },
    "papermill": {
     "duration": 0.136178,
     "end_time": "2024-03-25T17:42:29.361701",
     "exception": false,
     "start_time": "2024-03-25T17:42:29.225523",
     "status": "completed"
    },
    "tags": []
   },
   "outputs": [
    {
     "name": "stdout",
     "output_type": "stream",
     "text": [
      "<class 'pandas.core.frame.DataFrame'>\n",
      "Int64Index: 41157 entries, 0 to 41156\n",
      "Data columns (total 6 columns):\n",
      " #   Column         Non-Null Count  Dtype         \n",
      "---  ------         --------------  -----         \n",
      " 0   UserName       41157 non-null  int64         \n",
      " 1   ScreenName     41157 non-null  int64         \n",
      " 2   Location       32567 non-null  object        \n",
      " 3   TweetAt        41157 non-null  datetime64[ns]\n",
      " 4   OriginalTweet  41157 non-null  object        \n",
      " 5   Sentiment      41157 non-null  object        \n",
      "dtypes: datetime64[ns](1), int64(2), object(3)\n",
      "memory usage: 2.2+ MB\n"
     ]
    }
   ],
   "source": [
    "df.info()"
   ]
  },
  {
   "cell_type": "markdown",
   "id": "dca78511",
   "metadata": {
    "papermill": {
     "duration": 0.108942,
     "end_time": "2024-03-25T17:42:29.583416",
     "exception": false,
     "start_time": "2024-03-25T17:42:29.474474",
     "status": "completed"
    },
    "tags": []
   },
   "source": [
    "Good news, No duplicate tweets !"
   ]
  },
  {
   "cell_type": "markdown",
   "id": "42ef07f0",
   "metadata": {
    "papermill": {
     "duration": 0.11039,
     "end_time": "2024-03-25T17:42:29.805871",
     "exception": false,
     "start_time": "2024-03-25T17:42:29.695481",
     "status": "completed"
    },
    "tags": []
   },
   "source": [
    "# Tweets count by date"
   ]
  },
  {
   "cell_type": "code",
   "execution_count": 10,
   "id": "fe93b8fd",
   "metadata": {
    "_kg_hide-input": true,
    "execution": {
     "iopub.execute_input": "2024-03-25T17:42:30.031549Z",
     "iopub.status.busy": "2024-03-25T17:42:30.030853Z",
     "iopub.status.idle": "2024-03-25T17:42:30.341476Z",
     "shell.execute_reply": "2024-03-25T17:42:30.340906Z",
     "shell.execute_reply.started": "2021-12-22T21:15:18.097047Z"
    },
    "papermill": {
     "duration": 0.425227,
     "end_time": "2024-03-25T17:42:30.341624",
     "exception": false,
     "start_time": "2024-03-25T17:42:29.916397",
     "status": "completed"
    },
    "tags": []
   },
   "outputs": [],
   "source": [
    "tweets_per_day = df['TweetAt'].dt.strftime('%m-%d').value_counts().sort_index().reset_index(name='counts')"
   ]
  },
  {
   "cell_type": "code",
   "execution_count": 11,
   "id": "02bdbd9c",
   "metadata": {
    "_kg_hide-input": true,
    "execution": {
     "iopub.execute_input": "2024-03-25T17:42:30.576769Z",
     "iopub.status.busy": "2024-03-25T17:42:30.571772Z",
     "iopub.status.idle": "2024-03-25T17:42:31.285383Z",
     "shell.execute_reply": "2024-03-25T17:42:31.285877Z",
     "shell.execute_reply.started": "2021-12-22T21:15:18.383781Z"
    },
    "papermill": {
     "duration": 0.831195,
     "end_time": "2024-03-25T17:42:31.286074",
     "exception": false,
     "start_time": "2024-03-25T17:42:30.454879",
     "status": "completed"
    },
    "tags": []
   },
   "outputs": [
    {
     "data": {
      "image/png": "[encoded data removed]",
      "text/plain": [
       "<Figure size 1440x360 with 1 Axes>"
      ]
     },
     "metadata": {},
     "output_type": "display_data"
    }
   ],
   "source": [
    "plt.figure(figsize=(20,5))\n",
    "ax = sns.barplot(x='index', y='counts', data=tweets_per_day,edgecolor = 'black',ci=False, palette='Blues_r')\n",
    "plt.title('Tweets count by date')\n",
    "plt.yticks([])\n",
    "ax.bar_label(ax.containers[0])\n",
    "plt.ylabel('count')\n",
    "plt.xlabel('')\n",
    "plt.show()"
   ]
  },
  {
   "cell_type": "markdown",
   "id": "06cd395d",
   "metadata": {
    "papermill": {
     "duration": 0.110815,
     "end_time": "2024-03-25T17:42:31.508483",
     "exception": false,
     "start_time": "2024-03-25T17:42:31.397668",
     "status": "completed"
    },
    "tags": []
   },
   "source": [
    "We notice that in the dataset there are some days without tweets in the dataset. Among the days with tweets, most of them are made around the end of March: from 18th of Match to the 26th of March."
   ]
  },
  {
   "cell_type": "markdown",
   "id": "cac6a1d9",
   "metadata": {
    "papermill": {
     "duration": 0.112015,
     "end_time": "2024-03-25T17:42:31.732422",
     "exception": false,
     "start_time": "2024-03-25T17:42:31.620407",
     "status": "completed"
    },
    "tags": []
   },
   "source": [
    "# Tweets per country and city"
   ]
  },
  {
   "cell_type": "code",
   "execution_count": 12,
   "id": "b387181c",
   "metadata": {
    "_kg_hide-input": true,
    "execution": {
     "iopub.execute_input": "2024-03-25T17:42:31.968668Z",
     "iopub.status.busy": "2024-03-25T17:42:31.967675Z",
     "iopub.status.idle": "2024-03-25T17:42:31.972900Z",
     "shell.execute_reply": "2024-03-25T17:42:31.972294Z",
     "shell.execute_reply.started": "2021-12-22T21:15:19.038697Z"
    },
    "papermill": {
     "duration": 0.129692,
     "end_time": "2024-03-25T17:42:31.973061",
     "exception": false,
     "start_time": "2024-03-25T17:42:31.843369",
     "status": "completed"
    },
    "tags": []
   },
   "outputs": [],
   "source": [
    "tweets_per_country = df['Location'].value_counts().loc[lambda x : x > 100].reset_index(name='counts')"
   ]
  },
  {
   "cell_type": "code",
   "execution_count": 13,
   "id": "1a0fa13b",
   "metadata": {
    "_kg_hide-input": true,
    "execution": {
     "iopub.execute_input": "2024-03-25T17:42:32.204962Z",
     "iopub.status.busy": "2024-03-25T17:42:32.201406Z",
     "iopub.status.idle": "2024-03-25T17:42:32.856734Z",
     "shell.execute_reply": "2024-03-25T17:42:32.857325Z",
     "shell.execute_reply.started": "2021-12-22T21:15:19.055874Z"
    },
    "papermill": {
     "duration": 0.774347,
     "end_time": "2024-03-25T17:42:32.857502",
     "exception": false,
     "start_time": "2024-03-25T17:42:32.083155",
     "status": "completed"
    },
    "tags": []
   },
   "outputs": [
    {
     "data": {
      "image/png": "[encoded data removed]",
      "text/plain": [
       "<Figure size 1080x432 with 1 Axes>"
      ]
     },
     "metadata": {},
     "output_type": "display_data"
    }
   ],
   "source": [
    "plt.figure(figsize=(15,6))\n",
    "ax = sns.barplot(x='index', y='counts', data=tweets_per_country,edgecolor = 'black',ci=False, palette='Spectral')\n",
    "plt.title('Tweets count by country')\n",
    "plt.xticks(rotation=70)\n",
    "plt.yticks([])\n",
    "ax.bar_label(ax.containers[0])\n",
    "plt.ylabel('count')\n",
    "plt.xlabel('')\n",
    "plt.show()"
   ]
  },
  {
   "cell_type": "markdown",
   "id": "39c49c8f",
   "metadata": {
    "papermill": {
     "duration": 0.12718,
     "end_time": "2024-03-25T17:42:33.099409",
     "exception": false,
     "start_time": "2024-03-25T17:42:32.972229",
     "status": "completed"
    },
    "tags": []
   },
   "source": [
    "The 'location' column contains both countries and cities. It could be interesting to separate cities and countries, however this wont be investigated in this work."
   ]
  },
  {
   "cell_type": "markdown",
   "id": "3743ed91",
   "metadata": {
    "papermill": {
     "duration": 0.112765,
     "end_time": "2024-03-25T17:42:33.332184",
     "exception": false,
     "start_time": "2024-03-25T17:42:33.219419",
     "status": "completed"
    },
    "tags": []
   },
   "source": [
    "# Tweets Deep Cleaning"
   ]
  },
  {
   "cell_type": "markdown",
   "id": "f1bfa501",
   "metadata": {
    "papermill": {
     "duration": 0.11624,
     "end_time": "2024-03-25T17:42:33.561897",
     "exception": false,
     "start_time": "2024-03-25T17:42:33.445657",
     "status": "completed"
    },
    "tags": []
   },
   "source": [
    "In the following, we will perform some data cleaning on the raw text of the tweets.<br>\n",
    "To simplify the analaysis, we will just keep the columns 'Originaltweet' (raw tweets) and the target column 'Sentiment'."
   ]
  },
  {
   "cell_type": "code",
   "execution_count": 14,
   "id": "251e3b27",
   "metadata": {
    "execution": {
     "iopub.execute_input": "2024-03-25T17:42:33.818961Z",
     "iopub.status.busy": "2024-03-25T17:42:33.818052Z",
     "iopub.status.idle": "2024-03-25T17:42:33.820131Z",
     "shell.execute_reply": "2024-03-25T17:42:33.820612Z",
     "shell.execute_reply.started": "2021-12-22T21:15:19.66685Z"
    },
    "papermill": {
     "duration": 0.141388,
     "end_time": "2024-03-25T17:42:33.820765",
     "exception": false,
     "start_time": "2024-03-25T17:42:33.679377",
     "status": "completed"
    },
    "tags": []
   },
   "outputs": [],
   "source": [
    "df = df[['OriginalTweet','Sentiment']]"
   ]
  },
  {
   "cell_type": "code",
   "execution_count": 15,
   "id": "c2723757",
   "metadata": {
    "execution": {
     "iopub.execute_input": "2024-03-25T17:42:34.055116Z",
     "iopub.status.busy": "2024-03-25T17:42:34.054285Z",
     "iopub.status.idle": "2024-03-25T17:42:34.056783Z",
     "shell.execute_reply": "2024-03-25T17:42:34.056194Z",
     "shell.execute_reply.started": "2021-12-22T21:15:19.675777Z"
    },
    "papermill": {
     "duration": 0.122091,
     "end_time": "2024-03-25T17:42:34.056911",
     "exception": false,
     "start_time": "2024-03-25T17:42:33.934820",
     "status": "completed"
    },
    "tags": []
   },
   "outputs": [],
   "source": [
    "df_test = df_test[['OriginalTweet','Sentiment']]"
   ]
  },
  {
   "cell_type": "markdown",
   "id": "1f6d966d",
   "metadata": {
    "papermill": {
     "duration": 0.111812,
     "end_time": "2024-03-25T17:42:34.283680",
     "exception": false,
     "start_time": "2024-03-25T17:42:34.171868",
     "status": "completed"
    },
    "tags": []
   },
   "source": [
    "**Then we define custom functions to clean the text of the tweets.**"
   ]
  },
  {
   "cell_type": "code",
   "execution_count": 16,
   "id": "5260bdeb",
   "metadata": {
    "execution": {
     "iopub.execute_input": "2024-03-25T17:42:34.523387Z",
     "iopub.status.busy": "2024-03-25T17:42:34.522691Z",
     "iopub.status.idle": "2024-03-25T17:42:34.525323Z",
     "shell.execute_reply": "2024-03-25T17:42:34.524788Z",
     "shell.execute_reply.started": "2021-12-22T21:15:19.687704Z"
    },
    "papermill": {
     "duration": 0.128218,
     "end_time": "2024-03-25T17:42:34.525471",
     "exception": false,
     "start_time": "2024-03-25T17:42:34.397253",
     "status": "completed"
    },
    "tags": []
   },
   "outputs": [],
   "source": [
    "##CUSTOM DEFINED FUNCTIONS TO CLEAN THE TWEETS\n",
    "\n",
    "#Clean emojis from text\n",
    "def strip_emoji(text):\n",
    "    return re.sub(emoji.get_emoji_regexp(), r\"\", text) #remove emoji\n",
    "\n",
    "#Remove punctuations, links, mentions and \\r\\n new line characters\n",
    "def strip_all_entities(text): \n",
    "    text = text.replace('\\r', '').replace('\\n', ' ').replace('\\n', ' ').lower() #remove \\n and \\r and lowercase\n",
    "    text = re.sub(r\"(?:\\@|https?\\://)\\S+\", \"\", text) #remove links and mentions\n",
    "    text = re.sub(r'[^\\x00-\\x7f]',r'', text) #remove non utf8/ascii characters such as '\\x9a\\x91\\x97\\x9a\\x97'\n",
    "    banned_list= string.punctuation + 'Ã'+'±'+'ã'+'¼'+'â'+'»'+'§'\n",
    "    table = str.maketrans('', '', banned_list)\n",
    "    text = text.translate(table)\n",
    "    return text\n",
    "\n",
    "#clean hashtags at the end of the sentence, and keep those in the middle of the sentence by removing just the # symbol\n",
    "def clean_hashtags(tweet):\n",
    "    new_tweet = \" \".join(word.strip() for word in re.split('#(?!(?:hashtag)\\b)[\\w-]+(?=(?:\\s+#[\\w-]+)*\\s*$)', tweet)) #remove last hashtags\n",
    "    new_tweet2 = \" \".join(word.strip() for word in re.split('#|_', new_tweet)) #remove hashtags symbol from words in the middle of the sentence\n",
    "    return new_tweet2\n",
    "\n",
    "#Filter special characters such as & and $ present in some words\n",
    "def filter_chars(a):\n",
    "    sent = []\n",
    "    for word in a.split(' '):\n",
    "        if ('$' in word) | ('&' in word):\n",
    "            sent.append('')\n",
    "        else:\n",
    "            sent.append(word)\n",
    "    return ' '.join(sent)\n",
    "\n",
    "def remove_mult_spaces(text): # remove multiple spaces\n",
    "    return re.sub(\"\\s\\s+\" , \" \", text)"
   ]
  },
  {
   "cell_type": "code",
   "execution_count": 17,
   "id": "3e9c0f2c",
   "metadata": {
    "execution": {
     "iopub.execute_input": "2024-03-25T17:42:34.819616Z",
     "iopub.status.busy": "2024-03-25T17:42:34.783450Z",
     "iopub.status.idle": "2024-03-25T17:43:42.354299Z",
     "shell.execute_reply": "2024-03-25T17:43:42.353709Z",
     "shell.execute_reply.started": "2021-12-22T21:15:19.701201Z"
    },
    "papermill": {
     "duration": 67.715265,
     "end_time": "2024-03-25T17:43:42.354470",
     "exception": false,
     "start_time": "2024-03-25T17:42:34.639205",
     "status": "completed"
    },
    "tags": []
   },
   "outputs": [],
   "source": [
    "texts_new = []\n",
    "for t in df.OriginalTweet:\n",
    "    texts_new.append(remove_mult_spaces(filter_chars(clean_hashtags(strip_all_entities(strip_emoji(t))))))"
   ]
  },
  {
   "cell_type": "code",
   "execution_count": 18,
   "id": "671801dd",
   "metadata": {
    "execution": {
     "iopub.execute_input": "2024-03-25T17:43:42.658305Z",
     "iopub.status.busy": "2024-03-25T17:43:42.615872Z",
     "iopub.status.idle": "2024-03-25T17:43:49.128997Z",
     "shell.execute_reply": "2024-03-25T17:43:49.128435Z",
     "shell.execute_reply.started": "2021-12-22T21:16:17.871667Z"
    },
    "papermill": {
     "duration": 6.661918,
     "end_time": "2024-03-25T17:43:49.129164",
     "exception": false,
     "start_time": "2024-03-25T17:43:42.467246",
     "status": "completed"
    },
    "tags": []
   },
   "outputs": [],
   "source": [
    "texts_new_test = []\n",
    "for t in df_test.OriginalTweet:\n",
    "    texts_new_test.append(remove_mult_spaces(filter_chars(clean_hashtags(strip_all_entities(strip_emoji(t))))))"
   ]
  },
  {
   "cell_type": "markdown",
   "id": "c6cf001d",
   "metadata": {
    "papermill": {
     "duration": 0.113012,
     "end_time": "2024-03-25T17:43:49.356073",
     "exception": false,
     "start_time": "2024-03-25T17:43:49.243061",
     "status": "completed"
    },
    "tags": []
   },
   "source": [
    "Now we can create a new column, for both train and test sets, to host the cleaned version of the tweets' text."
   ]
  },
  {
   "cell_type": "code",
   "execution_count": 19,
   "id": "e38bbce2",
   "metadata": {
    "execution": {
     "iopub.execute_input": "2024-03-25T17:43:49.594079Z",
     "iopub.status.busy": "2024-03-25T17:43:49.593405Z",
     "iopub.status.idle": "2024-03-25T17:43:49.595581Z",
     "shell.execute_reply": "2024-03-25T17:43:49.596034Z",
     "shell.execute_reply.started": "2021-12-22T21:16:23.199614Z"
    },
    "papermill": {
     "duration": 0.127564,
     "end_time": "2024-03-25T17:43:49.596197",
     "exception": false,
     "start_time": "2024-03-25T17:43:49.468633",
     "status": "completed"
    },
    "tags": []
   },
   "outputs": [],
   "source": [
    "df['text_clean'] = texts_new\n",
    "df_test['text_clean'] = texts_new_test"
   ]
  },
  {
   "cell_type": "code",
   "execution_count": 20,
   "id": "541bfdd7",
   "metadata": {
    "execution": {
     "iopub.execute_input": "2024-03-25T17:43:49.832722Z",
     "iopub.status.busy": "2024-03-25T17:43:49.832026Z",
     "iopub.status.idle": "2024-03-25T17:43:49.835712Z",
     "shell.execute_reply": "2024-03-25T17:43:49.835216Z",
     "shell.execute_reply.started": "2021-12-22T21:16:23.213708Z"
    },
    "papermill": {
     "duration": 0.124313,
     "end_time": "2024-03-25T17:43:49.835848",
     "exception": false,
     "start_time": "2024-03-25T17:43:49.711535",
     "status": "completed"
    },
    "tags": []
   },
   "outputs": [
    {
     "data": {
      "text/plain": [
       "0                                              and and\n",
       "1    advice talk to your neighbours family to excha...\n",
       "2    coronavirus australia woolworths to give elder...\n",
       "3    my food stock is not the only one which is emp...\n",
       "4    me ready to go at supermarket during the covid...\n",
       "Name: text_clean, dtype: object"
      ]
     },
     "execution_count": 20,
     "metadata": {},
     "output_type": "execute_result"
    }
   ],
   "source": [
    "df['text_clean'].head()"
   ]
  },
  {
   "cell_type": "code",
   "execution_count": 21,
   "id": "5a8192ce",
   "metadata": {
    "execution": {
     "iopub.execute_input": "2024-03-25T17:43:50.072854Z",
     "iopub.status.busy": "2024-03-25T17:43:50.072120Z",
     "iopub.status.idle": "2024-03-25T17:43:50.075807Z",
     "shell.execute_reply": "2024-03-25T17:43:50.075301Z",
     "shell.execute_reply.started": "2021-12-22T21:16:23.232647Z"
    },
    "papermill": {
     "duration": 0.124015,
     "end_time": "2024-03-25T17:43:50.075942",
     "exception": false,
     "start_time": "2024-03-25T17:43:49.951927",
     "status": "completed"
    },
    "tags": []
   },
   "outputs": [
    {
     "data": {
      "text/plain": [
       "0    trending new yorkers encounter empty supermark...\n",
       "1    when i couldnt find hand sanitizer at fred mey...\n",
       "2    find out how you can protect yourself and love...\n",
       "3    panic buying hits newyork city as anxious shop...\n",
       "4    toiletpaper dunnypaper coronavirus coronavirus...\n",
       "Name: text_clean, dtype: object"
      ]
     },
     "execution_count": 21,
     "metadata": {},
     "output_type": "execute_result"
    }
   ],
   "source": [
    "df_test['text_clean'].head()"
   ]
  },
  {
   "cell_type": "code",
   "execution_count": 22,
   "id": "caa5e8ef",
   "metadata": {
    "execution": {
     "iopub.execute_input": "2024-03-25T17:43:50.312119Z",
     "iopub.status.busy": "2024-03-25T17:43:50.311237Z",
     "iopub.status.idle": "2024-03-25T17:43:50.314801Z",
     "shell.execute_reply": "2024-03-25T17:43:50.314214Z",
     "shell.execute_reply.started": "2021-12-22T21:16:23.241461Z"
    },
    "papermill": {
     "duration": 0.122642,
     "end_time": "2024-03-25T17:43:50.314926",
     "exception": false,
     "start_time": "2024-03-25T17:43:50.192284",
     "status": "completed"
    },
    "tags": []
   },
   "outputs": [
    {
     "data": {
      "text/plain": [
       "array(['advice talk to your neighbours family to exchange phone numbers create contact list with phone numbers of neighbours schools employer chemist gp set up online shopping accounts if poss adequate supplies of regular meds but not over order',\n",
       "       'coronavirus australia woolworths to give elderly disabled dedicated shopping hours amid covid19 outbreak',\n",
       "       'my food stock is not the only one which is empty please dont panic there will be enough food for everyone if you do not take more than you need stay calm stay safe covid19france covid19 covid19 coronavirus confinement confinementotal confinementgeneral',\n",
       "       'me ready to go at supermarket during the covid19 outbreak not because im paranoid but because my food stock is litteraly empty the coronavirus is a serious thing but please dont panic it causes shortage coronavirusfrance restezchezvous stayathome confinement',\n",
       "       'as news of the regions first confirmed covid19 case came out of sullivan county last week people flocked to area stores to purchase cleaning supplies hand sanitizer food toilet paper and other goods reports',\n",
       "       'cashier at grocery store was sharing his insights on covid19 to prove his credibility he commented im in civics class so i know what im talking about',\n",
       "       'was at the supermarket today didnt buy toilet paper rebel toiletpapercrisis covid19'],\n",
       "      dtype=object)"
      ]
     },
     "execution_count": 22,
     "metadata": {},
     "output_type": "execute_result"
    }
   ],
   "source": [
    "df['text_clean'][1:8].values"
   ]
  },
  {
   "cell_type": "markdown",
   "id": "48d743ca",
   "metadata": {
    "papermill": {
     "duration": 0.1142,
     "end_time": "2024-03-25T17:43:50.543541",
     "exception": false,
     "start_time": "2024-03-25T17:43:50.429341",
     "status": "completed"
    },
    "tags": []
   },
   "source": [
    "Moreover, we will also create a column to host the lenght of the cleaned text, to check if by cleaning the text we removed too much text or almost entirely the tweet!"
   ]
  },
  {
   "cell_type": "code",
   "execution_count": 23,
   "id": "94bdc096",
   "metadata": {
    "execution": {
     "iopub.execute_input": "2024-03-25T17:43:50.845599Z",
     "iopub.status.busy": "2024-03-25T17:43:50.809392Z",
     "iopub.status.idle": "2024-03-25T17:43:50.874708Z",
     "shell.execute_reply": "2024-03-25T17:43:50.874163Z",
     "shell.execute_reply.started": "2021-12-22T21:16:23.252986Z"
    },
    "papermill": {
     "duration": 0.21527,
     "end_time": "2024-03-25T17:43:50.874841",
     "exception": false,
     "start_time": "2024-03-25T17:43:50.659571",
     "status": "completed"
    },
    "tags": []
   },
   "outputs": [],
   "source": [
    "text_len = []\n",
    "for text in df.text_clean:\n",
    "    tweet_len = len(text.split())\n",
    "    text_len.append(tweet_len)"
   ]
  },
  {
   "cell_type": "code",
   "execution_count": 24,
   "id": "d4bfe412",
   "metadata": {
    "execution": {
     "iopub.execute_input": "2024-03-25T17:43:51.127523Z",
     "iopub.status.busy": "2024-03-25T17:43:51.109489Z",
     "iopub.status.idle": "2024-03-25T17:43:51.130075Z",
     "shell.execute_reply": "2024-03-25T17:43:51.129448Z",
     "shell.execute_reply.started": "2021-12-22T21:16:23.348096Z"
    },
    "papermill": {
     "duration": 0.138742,
     "end_time": "2024-03-25T17:43:51.130214",
     "exception": false,
     "start_time": "2024-03-25T17:43:50.991472",
     "status": "completed"
    },
    "tags": []
   },
   "outputs": [],
   "source": [
    "df['text_len'] = text_len"
   ]
  },
  {
   "cell_type": "code",
   "execution_count": 25,
   "id": "1048fd4b",
   "metadata": {
    "execution": {
     "iopub.execute_input": "2024-03-25T17:43:51.374699Z",
     "iopub.status.busy": "2024-03-25T17:43:51.374078Z",
     "iopub.status.idle": "2024-03-25T17:43:51.376937Z",
     "shell.execute_reply": "2024-03-25T17:43:51.376439Z",
     "shell.execute_reply.started": "2021-12-22T21:16:23.371047Z"
    },
    "papermill": {
     "duration": 0.131267,
     "end_time": "2024-03-25T17:43:51.377085",
     "exception": false,
     "start_time": "2024-03-25T17:43:51.245818",
     "status": "completed"
    },
    "tags": []
   },
   "outputs": [],
   "source": [
    "text_len_test = []\n",
    "for text in df_test.text_clean:\n",
    "    tweet_len = len(text.split())\n",
    "    text_len_test.append(tweet_len)"
   ]
  },
  {
   "cell_type": "code",
   "execution_count": 26,
   "id": "312b9fa3",
   "metadata": {
    "execution": {
     "iopub.execute_input": "2024-03-25T17:43:51.613734Z",
     "iopub.status.busy": "2024-03-25T17:43:51.613099Z",
     "iopub.status.idle": "2024-03-25T17:43:51.615500Z",
     "shell.execute_reply": "2024-03-25T17:43:51.616045Z",
     "shell.execute_reply.started": "2021-12-22T21:16:23.389402Z"
    },
    "papermill": {
     "duration": 0.123822,
     "end_time": "2024-03-25T17:43:51.616210",
     "exception": false,
     "start_time": "2024-03-25T17:43:51.492388",
     "status": "completed"
    },
    "tags": []
   },
   "outputs": [],
   "source": [
    "df_test['text_len'] = text_len_test"
   ]
  },
  {
   "cell_type": "code",
   "execution_count": 27,
   "id": "6ab5e5d4",
   "metadata": {
    "_kg_hide-input": true,
    "execution": {
     "iopub.execute_input": "2024-03-25T17:43:51.853708Z",
     "iopub.status.busy": "2024-03-25T17:43:51.852729Z",
     "iopub.status.idle": "2024-03-25T17:43:52.168099Z",
     "shell.execute_reply": "2024-03-25T17:43:52.167594Z",
     "shell.execute_reply.started": "2021-12-22T21:16:23.400676Z"
    },
    "papermill": {
     "duration": 0.436984,
     "end_time": "2024-03-25T17:43:52.168238",
     "exception": false,
     "start_time": "2024-03-25T17:43:51.731254",
     "status": "completed"
    },
    "tags": []
   },
   "outputs": [
    {
     "data": {
      "image/png": "[encoded data removed]",
      "text/plain": [
       "<Figure size 504x360 with 1 Axes>"
      ]
     },
     "metadata": {},
     "output_type": "display_data"
    }
   ],
   "source": [
    "plt.figure(figsize=(7,5))\n",
    "ax = sns.countplot(x='text_len', data=df[df['text_len']<10], palette='mako')\n",
    "plt.title('Training tweets with less than 10 words')\n",
    "plt.yticks([])\n",
    "ax.bar_label(ax.containers[0])\n",
    "plt.ylabel('count')\n",
    "plt.xlabel('')\n",
    "plt.show()"
   ]
  },
  {
   "cell_type": "code",
   "execution_count": 28,
   "id": "b188b9ec",
   "metadata": {
    "_kg_hide-input": true,
    "execution": {
     "iopub.execute_input": "2024-03-25T17:43:52.456389Z",
     "iopub.status.busy": "2024-03-25T17:43:52.434399Z",
     "iopub.status.idle": "2024-03-25T17:43:52.700961Z",
     "shell.execute_reply": "2024-03-25T17:43:52.700353Z",
     "shell.execute_reply.started": "2021-12-22T21:16:23.672624Z"
    },
    "papermill": {
     "duration": 0.417524,
     "end_time": "2024-03-25T17:43:52.701115",
     "exception": false,
     "start_time": "2024-03-25T17:43:52.283591",
     "status": "completed"
    },
    "tags": []
   },
   "outputs": [
    {
     "data": {
      "image/png": "[encoded data removed]",
      "text/plain": [
       "<Figure size 504x360 with 1 Axes>"
      ]
     },
     "metadata": {},
     "output_type": "display_data"
    }
   ],
   "source": [
    "plt.figure(figsize=(7,5))\n",
    "ax = sns.countplot(x='text_len', data=df_test[df_test['text_len']<10], palette='mako')\n",
    "plt.title('Test tweets with less than 10 words')\n",
    "plt.yticks([])\n",
    "ax.bar_label(ax.containers[0])\n",
    "plt.ylabel('count')\n",
    "plt.xlabel('')\n",
    "plt.show()"
   ]
  },
  {
   "cell_type": "markdown",
   "id": "dbf3af96",
   "metadata": {
    "papermill": {
     "duration": 0.120653,
     "end_time": "2024-03-25T17:43:52.940840",
     "exception": false,
     "start_time": "2024-03-25T17:43:52.820187",
     "status": "completed"
    },
    "tags": []
   },
   "source": [
    "As we can see, there are lots of cleaned tweets with 0 words: this is due to the cleaning performed before. This means that some tweets contained only mentions, hashtags and links, which have been removed. We will drop these empty tweets and also those with less than 5 words."
   ]
  },
  {
   "cell_type": "code",
   "execution_count": 29,
   "id": "6c69d9fc",
   "metadata": {
    "execution": {
     "iopub.execute_input": "2024-03-25T17:43:53.180251Z",
     "iopub.status.busy": "2024-03-25T17:43:53.179573Z",
     "iopub.status.idle": "2024-03-25T17:43:53.182423Z",
     "shell.execute_reply": "2024-03-25T17:43:53.182973Z",
     "shell.execute_reply.started": "2021-12-22T21:16:23.92748Z"
    },
    "papermill": {
     "duration": 0.125333,
     "end_time": "2024-03-25T17:43:53.183154",
     "exception": false,
     "start_time": "2024-03-25T17:43:53.057821",
     "status": "completed"
    },
    "tags": []
   },
   "outputs": [
    {
     "name": "stdout",
     "output_type": "stream",
     "text": [
      " DF SHAPE: (41157, 4)\n",
      " DF TEST SHAPE: (3798, 4)\n"
     ]
    }
   ],
   "source": [
    "print(f\" DF SHAPE: {df.shape}\")\n",
    "print(f\" DF TEST SHAPE: {df_test.shape}\")"
   ]
  },
  {
   "cell_type": "code",
   "execution_count": 30,
   "id": "cbb16acb",
   "metadata": {
    "execution": {
     "iopub.execute_input": "2024-03-25T17:43:53.423830Z",
     "iopub.status.busy": "2024-03-25T17:43:53.423182Z",
     "iopub.status.idle": "2024-03-25T17:43:53.429439Z",
     "shell.execute_reply": "2024-03-25T17:43:53.429872Z",
     "shell.execute_reply.started": "2021-12-22T21:16:23.937695Z"
    },
    "papermill": {
     "duration": 0.129963,
     "end_time": "2024-03-25T17:43:53.430067",
     "exception": false,
     "start_time": "2024-03-25T17:43:53.300104",
     "status": "completed"
    },
    "tags": []
   },
   "outputs": [],
   "source": [
    "df = df[df['text_len'] > 4]"
   ]
  },
  {
   "cell_type": "code",
   "execution_count": 31,
   "id": "e57e8e2e",
   "metadata": {
    "execution": {
     "iopub.execute_input": "2024-03-25T17:43:53.677135Z",
     "iopub.status.busy": "2024-03-25T17:43:53.676173Z",
     "iopub.status.idle": "2024-03-25T17:43:53.679334Z",
     "shell.execute_reply": "2024-03-25T17:43:53.680061Z",
     "shell.execute_reply.started": "2021-12-22T21:16:23.949679Z"
    },
    "papermill": {
     "duration": 0.129142,
     "end_time": "2024-03-25T17:43:53.680238",
     "exception": false,
     "start_time": "2024-03-25T17:43:53.551096",
     "status": "completed"
    },
    "tags": []
   },
   "outputs": [],
   "source": [
    "df_test = df_test[df_test['text_len'] > 4]"
   ]
  },
  {
   "cell_type": "code",
   "execution_count": 32,
   "id": "151578a9",
   "metadata": {
    "execution": {
     "iopub.execute_input": "2024-03-25T17:43:53.933780Z",
     "iopub.status.busy": "2024-03-25T17:43:53.932859Z",
     "iopub.status.idle": "2024-03-25T17:43:53.937658Z",
     "shell.execute_reply": "2024-03-25T17:43:53.938152Z",
     "shell.execute_reply.started": "2021-12-22T21:16:23.958113Z"
    },
    "papermill": {
     "duration": 0.125855,
     "end_time": "2024-03-25T17:43:53.938311",
     "exception": false,
     "start_time": "2024-03-25T17:43:53.812456",
     "status": "completed"
    },
    "tags": []
   },
   "outputs": [
    {
     "name": "stdout",
     "output_type": "stream",
     "text": [
      " DF SHAPE: (40935, 4)\n",
      " DF TEST SHAPE: (3792, 4)\n"
     ]
    }
   ],
   "source": [
    "print(f\" DF SHAPE: {df.shape}\")\n",
    "print(f\" DF TEST SHAPE: {df_test.shape}\")"
   ]
  },
  {
   "cell_type": "markdown",
   "id": "1d1a2c37",
   "metadata": {
    "papermill": {
     "duration": 0.116189,
     "end_time": "2024-03-25T17:43:54.171930",
     "exception": false,
     "start_time": "2024-03-25T17:43:54.055741",
     "status": "completed"
    },
    "tags": []
   },
   "source": [
    "## Training data deeper cleaning"
   ]
  },
  {
   "cell_type": "markdown",
   "id": "4d1254d5",
   "metadata": {
    "papermill": {
     "duration": 0.11913,
     "end_time": "2024-03-25T17:43:54.409410",
     "exception": false,
     "start_time": "2024-03-25T17:43:54.290280",
     "status": "completed"
    },
    "tags": []
   },
   "source": [
    "Let's perform a further cleaning checking the tokenizer version of the sentences."
   ]
  },
  {
   "cell_type": "markdown",
   "id": "ab6593a4",
   "metadata": {
    "papermill": {
     "duration": 0.116583,
     "end_time": "2024-03-25T17:43:54.643430",
     "exception": false,
     "start_time": "2024-03-25T17:43:54.526847",
     "status": "completed"
    },
    "tags": []
   },
   "source": [
    "First, we import the BERT tokenizer."
   ]
  },
  {
   "cell_type": "code",
   "execution_count": 33,
   "id": "a304c2aa",
   "metadata": {
    "_kg_hide-output": true,
    "execution": {
     "iopub.execute_input": "2024-03-25T17:43:54.885778Z",
     "iopub.status.busy": "2024-03-25T17:43:54.885087Z",
     "iopub.status.idle": "2024-03-25T17:43:56.826475Z",
     "shell.execute_reply": "2024-03-25T17:43:56.825947Z",
     "shell.execute_reply.started": "2021-12-22T21:16:23.966837Z"
    },
    "papermill": {
     "duration": 2.06496,
     "end_time": "2024-03-25T17:43:56.826626",
     "exception": false,
     "start_time": "2024-03-25T17:43:54.761666",
     "status": "completed"
    },
    "tags": []
   },
   "outputs": [
    {
     "data": {
      "application/vnd.jupyter.widget-view+json": {
       "model_id": "8c31c76762c740339443773871410978",
       "version_major": 2,
       "version_minor": 0
      },
      "text/plain": [
       "Downloading:   0%|          | 0.00/226k [00:00<?, ?B/s]"
      ]
     },
     "metadata": {},
     "output_type": "display_data"
    },
    {
     "data": {
      "application/vnd.jupyter.widget-view+json": {
       "model_id": "f722fa8fd1e04921b84bd1ae4a0291f3",
       "version_major": 2,
       "version_minor": 0
      },
      "text/plain": [
       "Downloading:   0%|          | 0.00/455k [00:00<?, ?B/s]"
      ]
     },
     "metadata": {},
     "output_type": "display_data"
    },
    {
     "data": {
      "application/vnd.jupyter.widget-view+json": {
       "model_id": "56c249c3e9b544f59d4f2cfc60209055",
       "version_major": 2,
       "version_minor": 0
      },
      "text/plain": [
       "Downloading:   0%|          | 0.00/48.0 [00:00<?, ?B/s]"
      ]
     },
     "metadata": {},
     "output_type": "display_data"
    },
    {
     "data": {
      "application/vnd.jupyter.widget-view+json": {
       "model_id": "2bea3bfc531d46308efa9a47d43190ef",
       "version_major": 2,
       "version_minor": 0
      },
      "text/plain": [
       "Downloading:   0%|          | 0.00/570 [00:00<?, ?B/s]"
      ]
     },
     "metadata": {},
     "output_type": "display_data"
    }
   ],
   "source": [
    "tokenizer = BertTokenizerFast.from_pretrained('bert-base-uncased')"
   ]
  },
  {
   "cell_type": "code",
   "execution_count": 34,
   "id": "ac579248",
   "metadata": {
    "execution": {
     "iopub.execute_input": "2024-03-25T17:43:57.073497Z",
     "iopub.status.busy": "2024-03-25T17:43:57.072616Z",
     "iopub.status.idle": "2024-03-25T17:44:05.367304Z",
     "shell.execute_reply": "2024-03-25T17:44:05.366612Z",
     "shell.execute_reply.started": "2021-12-22T21:16:30.507082Z"
    },
    "papermill": {
     "duration": 8.421076,
     "end_time": "2024-03-25T17:44:05.367465",
     "exception": false,
     "start_time": "2024-03-25T17:43:56.946389",
     "status": "completed"
    },
    "tags": []
   },
   "outputs": [],
   "source": [
    "token_lens = []\n",
    "\n",
    "for txt in df['text_clean'].values:\n",
    "    tokens = tokenizer.encode(txt, max_length=512, truncation=True)\n",
    "    token_lens.append(len(tokens))\n",
    "    \n",
    "max_len=np.max(token_lens)"
   ]
  },
  {
   "cell_type": "code",
   "execution_count": 35,
   "id": "da342597",
   "metadata": {
    "execution": {
     "iopub.execute_input": "2024-03-25T17:44:05.611110Z",
     "iopub.status.busy": "2024-03-25T17:44:05.610454Z",
     "iopub.status.idle": "2024-03-25T17:44:05.613931Z",
     "shell.execute_reply": "2024-03-25T17:44:05.613433Z",
     "shell.execute_reply.started": "2021-12-22T21:16:38.614458Z"
    },
    "papermill": {
     "duration": 0.127018,
     "end_time": "2024-03-25T17:44:05.614110",
     "exception": false,
     "start_time": "2024-03-25T17:44:05.487092",
     "status": "completed"
    },
    "tags": []
   },
   "outputs": [
    {
     "name": "stdout",
     "output_type": "stream",
     "text": [
      "MAX TOKENIZED SENTENCE LENGTH: 100\n"
     ]
    }
   ],
   "source": [
    "print(f\"MAX TOKENIZED SENTENCE LENGTH: {max_len}\")"
   ]
  },
  {
   "cell_type": "markdown",
   "id": "f198b596",
   "metadata": {
    "execution": {
     "iopub.execute_input": "2021-12-07T12:49:48.842301Z",
     "iopub.status.busy": "2021-12-07T12:49:48.842045Z",
     "iopub.status.idle": "2021-12-07T12:49:48.848445Z",
     "shell.execute_reply": "2021-12-07T12:49:48.847098Z",
     "shell.execute_reply.started": "2021-12-07T12:49:48.842267Z"
    },
    "papermill": {
     "duration": 0.121091,
     "end_time": "2024-03-25T17:44:05.855892",
     "exception": false,
     "start_time": "2024-03-25T17:44:05.734801",
     "status": "completed"
    },
    "tags": []
   },
   "source": [
    "Let's check the long tokenized sentences (with more than 80 tokens ):"
   ]
  },
  {
   "cell_type": "code",
   "execution_count": 36,
   "id": "094903a0",
   "metadata": {
    "execution": {
     "iopub.execute_input": "2024-03-25T17:44:06.101585Z",
     "iopub.status.busy": "2024-03-25T17:44:06.100901Z",
     "iopub.status.idle": "2024-03-25T17:44:14.840910Z",
     "shell.execute_reply": "2024-03-25T17:44:14.840348Z",
     "shell.execute_reply.started": "2021-12-22T21:16:38.62789Z"
    },
    "papermill": {
     "duration": 8.865035,
     "end_time": "2024-03-25T17:44:14.841084",
     "exception": false,
     "start_time": "2024-03-25T17:44:05.976049",
     "status": "completed"
    },
    "tags": []
   },
   "outputs": [
    {
     "name": "stdout",
     "output_type": "stream",
     "text": [
      "INDEX: 1622, TEXT: zsah policie proti spekulantm s roukami na mj popud hejtman steckho kraje ve spoluprci s podle krizovho zkona zajistil tm 700 tisrouek od firmy kter je mla dodat na zdravotnkm ale na posledn chvli se snaila navyovat cenu spolutozvladneme\n",
      "INDEX: 13623, TEXT: hoy aplaudo a mi segunda familia aplaudoanuestrosheroes aquellos con los que he compartido tantas noches de trabajo y tanta alegra s que como siempre dan todo por el bien de su comunidad presidente por ellos tambin cuarentenanacionalya cuidemosalosquecuidan\n",
      "INDEX: 16548, TEXT: bir mddettir spermarketlerin lojistik hizmeti avusturya ordusu desteiyle yaplyor dn corona tedavisi iin 22 milyon luk bir aratrma gelitirme btesi aklad hkmet geen hafta da 35 milyon luk 2 yardm paketi aklanmt viyanadan haberler bu kadar\n",
      "INDEX: 36953, TEXT: 11 nisan cumartesi itibariyle bbnin tm hizmetleri sokaa kma serbestisi olanlar iin devam edecek halk ekmek ve hamidiye su 100 retime geti bb tm stanbulun gda ihtiyacna yetecek kapasitededir halkmz sakin olsun ve gvende hissetsin ltfen herkes evine dnsn\n"
     ]
    }
   ],
   "source": [
    "token_lens = []\n",
    "\n",
    "for i,txt in enumerate(df['text_clean'].values):\n",
    "    tokens = tokenizer.encode(txt, max_length=512, truncation=True)\n",
    "    token_lens.append(len(tokens))\n",
    "    if len(tokens)>80:\n",
    "        print(f\"INDEX: {i}, TEXT: {txt}\")  "
   ]
  },
  {
   "cell_type": "markdown",
   "id": "9d8295b7",
   "metadata": {
    "papermill": {
     "duration": 0.121743,
     "end_time": "2024-03-25T17:44:15.083461",
     "exception": false,
     "start_time": "2024-03-25T17:44:14.961718",
     "status": "completed"
    },
    "tags": []
   },
   "source": [
    "These sentences are not in english. They should be dropped."
   ]
  },
  {
   "cell_type": "code",
   "execution_count": 37,
   "id": "ba11d7e5",
   "metadata": {
    "execution": {
     "iopub.execute_input": "2024-03-25T17:44:15.345150Z",
     "iopub.status.busy": "2024-03-25T17:44:15.326227Z",
     "iopub.status.idle": "2024-03-25T17:44:15.347803Z",
     "shell.execute_reply": "2024-03-25T17:44:15.347219Z",
     "shell.execute_reply.started": "2021-12-22T21:16:45.920472Z"
    },
    "papermill": {
     "duration": 0.144234,
     "end_time": "2024-03-25T17:44:15.347933",
     "exception": false,
     "start_time": "2024-03-25T17:44:15.203699",
     "status": "completed"
    },
    "tags": []
   },
   "outputs": [],
   "source": [
    "df['token_lens'] = token_lens"
   ]
  },
  {
   "cell_type": "code",
   "execution_count": 38,
   "id": "e18a8c6e",
   "metadata": {
    "execution": {
     "iopub.execute_input": "2024-03-25T17:44:15.595150Z",
     "iopub.status.busy": "2024-03-25T17:44:15.594457Z",
     "iopub.status.idle": "2024-03-25T17:44:15.614493Z",
     "shell.execute_reply": "2024-03-25T17:44:15.613947Z",
     "shell.execute_reply.started": "2021-12-22T21:16:45.943779Z"
    },
    "papermill": {
     "duration": 0.146273,
     "end_time": "2024-03-25T17:44:15.614630",
     "exception": false,
     "start_time": "2024-03-25T17:44:15.468357",
     "status": "completed"
    },
    "tags": []
   },
   "outputs": [
    {
     "data": {
      "text/html": [
       "<div>\n",
       "<style scoped>\n",
       "    .dataframe tbody tr th:only-of-type {\n",
       "        vertical-align: middle;\n",
       "    }\n",
       "\n",
       "    .dataframe tbody tr th {\n",
       "        vertical-align: top;\n",
       "    }\n",
       "\n",
       "    .dataframe thead th {\n",
       "        text-align: right;\n",
       "    }\n",
       "</style>\n",
       "<table border=\"1\" class=\"dataframe\">\n",
       "  <thead>\n",
       "    <tr style=\"text-align: right;\">\n",
       "      <th></th>\n",
       "      <th>OriginalTweet</th>\n",
       "      <th>Sentiment</th>\n",
       "      <th>text_clean</th>\n",
       "      <th>text_len</th>\n",
       "      <th>token_lens</th>\n",
       "    </tr>\n",
       "  </thead>\n",
       "  <tbody>\n",
       "    <tr>\n",
       "      <th>1638</th>\n",
       "      <td>ZÃ¡sah policie proti spekulant?m s rouÂkami. ...</td>\n",
       "      <td>Neutral</td>\n",
       "      <td>zsah policie proti spekulantm s roukami na mj ...</td>\n",
       "      <td>39</td>\n",
       "      <td>100</td>\n",
       "    </tr>\n",
       "    <tr>\n",
       "      <th>37156</th>\n",
       "      <td>11 Nisan Cumartesi itibariyle ?BBÂnin tÃ¼m hi...</td>\n",
       "      <td>Neutral</td>\n",
       "      <td>11 nisan cumartesi itibariyle bbnin tm hizmetl...</td>\n",
       "      <td>39</td>\n",
       "      <td>98</td>\n",
       "    </tr>\n",
       "    <tr>\n",
       "      <th>16632</th>\n",
       "      <td>Bir mÃ¼ddettir sÃ¼permarketlerin lojistik hizm...</td>\n",
       "      <td>Neutral</td>\n",
       "      <td>bir mddettir spermarketlerin lojistik hizmeti ...</td>\n",
       "      <td>36</td>\n",
       "      <td>92</td>\n",
       "    </tr>\n",
       "    <tr>\n",
       "      <th>13691</th>\n",
       "      <td>Hoy aplaudo a mi segunda familia #AplaudoANues...</td>\n",
       "      <td>Neutral</td>\n",
       "      <td>hoy aplaudo a mi segunda familia aplaudoanuest...</td>\n",
       "      <td>38</td>\n",
       "      <td>84</td>\n",
       "    </tr>\n",
       "    <tr>\n",
       "      <th>27005</th>\n",
       "      <td>Supermercados Econo confirman que un empleado ...</td>\n",
       "      <td>Neutral</td>\n",
       "      <td>supermercados econo confirman que un empleado ...</td>\n",
       "      <td>39</td>\n",
       "      <td>80</td>\n",
       "    </tr>\n",
       "    <tr>\n",
       "      <th>14593</th>\n",
       "      <td>Na, wer war denn da am Werk? Gestern Nachmitta...</td>\n",
       "      <td>Extremely Negative</td>\n",
       "      <td>na wer war denn da am werk gestern nachmittag ...</td>\n",
       "      <td>37</td>\n",
       "      <td>80</td>\n",
       "    </tr>\n",
       "    <tr>\n",
       "      <th>28899</th>\n",
       "      <td>Kindly contact Us bamy global merchandise for ...</td>\n",
       "      <td>Positive</td>\n",
       "      <td>kindly contact us bamy global merchandise for ...</td>\n",
       "      <td>37</td>\n",
       "      <td>80</td>\n",
       "    </tr>\n",
       "    <tr>\n",
       "      <th>11213</th>\n",
       "      <td>Keine WertgegenstÃ¤nde im Fahrzeug lassen! - D...</td>\n",
       "      <td>Negative</td>\n",
       "      <td>keine wertgegenstnde im fahrzeug lassen diesen...</td>\n",
       "      <td>33</td>\n",
       "      <td>79</td>\n",
       "    </tr>\n",
       "    <tr>\n",
       "      <th>4844</th>\n",
       "      <td>Impct of #coronavirus i hve sen hw civilizd pp...</td>\n",
       "      <td>Extremely Negative</td>\n",
       "      <td>impct of coronavirus i hve sen hw civilizd ppl...</td>\n",
       "      <td>48</td>\n",
       "      <td>79</td>\n",
       "    </tr>\n",
       "    <tr>\n",
       "      <th>18913</th>\n",
       "      <td>#CroozefmNews \\r\\r\\nPresident Museveni has ord...</td>\n",
       "      <td>Extremely Negative</td>\n",
       "      <td>croozefmnews president museveni has ordered th...</td>\n",
       "      <td>35</td>\n",
       "      <td>79</td>\n",
       "    </tr>\n",
       "    <tr>\n",
       "      <th>30206</th>\n",
       "      <td>#LDA City Lahore Residential Files Prices Upda...</td>\n",
       "      <td>Neutral</td>\n",
       "      <td>lda city lahore residential files prices updat...</td>\n",
       "      <td>43</td>\n",
       "      <td>78</td>\n",
       "    </tr>\n",
       "    <tr>\n",
       "      <th>26678</th>\n",
       "      <td>Eine wahre #CoronaGeschichte:\\r\\r\\n\\r\\r\\nWenn ...</td>\n",
       "      <td>Neutral</td>\n",
       "      <td>eine wahre coronageschichte wenn dir an der su...</td>\n",
       "      <td>29</td>\n",
       "      <td>78</td>\n",
       "    </tr>\n",
       "    <tr>\n",
       "      <th>12389</th>\n",
       "      <td>Okay, so I just checked the drug prices for #P...</td>\n",
       "      <td>Positive</td>\n",
       "      <td>okay so i just checked the drug prices for pla...</td>\n",
       "      <td>35</td>\n",
       "      <td>77</td>\n",
       "    </tr>\n",
       "    <tr>\n",
       "      <th>1697</th>\n",
       "      <td>I work at a grocery store.\\r\\r\\nWe wont get an...</td>\n",
       "      <td>Positive</td>\n",
       "      <td>i work at a grocery store we wont get any toil...</td>\n",
       "      <td>37</td>\n",
       "      <td>77</td>\n",
       "    </tr>\n",
       "    <tr>\n",
       "      <th>8730</th>\n",
       "      <td>?Bitte anschauen! (1/2)\\r\\r\\n\\r\\r\\nEmotionaler...</td>\n",
       "      <td>Negative</td>\n",
       "      <td>bitte anschauen 12 emotionaler aufruf von geha...</td>\n",
       "      <td>36</td>\n",
       "      <td>77</td>\n",
       "    </tr>\n",
       "    <tr>\n",
       "      <th>14582</th>\n",
       "      <td>hiked prices in the face of the Covid-19 crise...</td>\n",
       "      <td>Negative</td>\n",
       "      <td>hiked prices in the face of the covid19 crises...</td>\n",
       "      <td>47</td>\n",
       "      <td>77</td>\n",
       "    </tr>\n",
       "    <tr>\n",
       "      <th>36305</th>\n",
       "      <td>Sterile disposable anti bacterial wet wipes an...</td>\n",
       "      <td>Negative</td>\n",
       "      <td>sterile disposable anti bacterial wet wipes an...</td>\n",
       "      <td>31</td>\n",
       "      <td>76</td>\n",
       "    </tr>\n",
       "    <tr>\n",
       "      <th>36306</th>\n",
       "      <td>For sell Sterile disposable anti bacterial wet...</td>\n",
       "      <td>Negative</td>\n",
       "      <td>for sell sterile disposable anti bacterial wet...</td>\n",
       "      <td>32</td>\n",
       "      <td>75</td>\n",
       "    </tr>\n",
       "    <tr>\n",
       "      <th>9238</th>\n",
       "      <td>Hi @Zomato I felt hungry loggd in ur app tryd ...</td>\n",
       "      <td>Extremely Positive</td>\n",
       "      <td>hi i felt hungry loggd in ur app tryd to add 4...</td>\n",
       "      <td>55</td>\n",
       "      <td>75</td>\n",
       "    </tr>\n",
       "    <tr>\n",
       "      <th>40778</th>\n",
       "      <td>#Covid_19 2days Stay-at-home activities\\r\\r\\nU...</td>\n",
       "      <td>Neutral</td>\n",
       "      <td>covid19 2days stayathome activities up 630am f...</td>\n",
       "      <td>37</td>\n",
       "      <td>75</td>\n",
       "    </tr>\n",
       "  </tbody>\n",
       "</table>\n",
       "</div>"
      ],
      "text/plain": [
       "                                           OriginalTweet           Sentiment  \\\n",
       "1638   ZÃ¡sah policie proti spekulant?m s rouÂkami. ...             Neutral   \n",
       "37156  11 Nisan Cumartesi itibariyle ?BBÂnin tÃ¼m hi...             Neutral   \n",
       "16632  Bir mÃ¼ddettir sÃ¼permarketlerin lojistik hizm...             Neutral   \n",
       "13691  Hoy aplaudo a mi segunda familia #AplaudoANues...             Neutral   \n",
       "27005  Supermercados Econo confirman que un empleado ...             Neutral   \n",
       "14593  Na, wer war denn da am Werk? Gestern Nachmitta...  Extremely Negative   \n",
       "28899  Kindly contact Us bamy global merchandise for ...            Positive   \n",
       "11213  Keine WertgegenstÃ¤nde im Fahrzeug lassen! - D...            Negative   \n",
       "4844   Impct of #coronavirus i hve sen hw civilizd pp...  Extremely Negative   \n",
       "18913  #CroozefmNews \\r\\r\\nPresident Museveni has ord...  Extremely Negative   \n",
       "30206  #LDA City Lahore Residential Files Prices Upda...             Neutral   \n",
       "26678  Eine wahre #CoronaGeschichte:\\r\\r\\n\\r\\r\\nWenn ...             Neutral   \n",
       "12389  Okay, so I just checked the drug prices for #P...            Positive   \n",
       "1697   I work at a grocery store.\\r\\r\\nWe wont get an...            Positive   \n",
       "8730   ?Bitte anschauen! (1/2)\\r\\r\\n\\r\\r\\nEmotionaler...            Negative   \n",
       "14582  hiked prices in the face of the Covid-19 crise...            Negative   \n",
       "36305  Sterile disposable anti bacterial wet wipes an...            Negative   \n",
       "36306  For sell Sterile disposable anti bacterial wet...            Negative   \n",
       "9238   Hi @Zomato I felt hungry loggd in ur app tryd ...  Extremely Positive   \n",
       "40778  #Covid_19 2days Stay-at-home activities\\r\\r\\nU...             Neutral   \n",
       "\n",
       "                                              text_clean  text_len  token_lens  \n",
       "1638   zsah policie proti spekulantm s roukami na mj ...        39         100  \n",
       "37156  11 nisan cumartesi itibariyle bbnin tm hizmetl...        39          98  \n",
       "16632  bir mddettir spermarketlerin lojistik hizmeti ...        36          92  \n",
       "13691  hoy aplaudo a mi segunda familia aplaudoanuest...        38          84  \n",
       "27005  supermercados econo confirman que un empleado ...        39          80  \n",
       "14593  na wer war denn da am werk gestern nachmittag ...        37          80  \n",
       "28899  kindly contact us bamy global merchandise for ...        37          80  \n",
       "11213  keine wertgegenstnde im fahrzeug lassen diesen...        33          79  \n",
       "4844   impct of coronavirus i hve sen hw civilizd ppl...        48          79  \n",
       "18913  croozefmnews president museveni has ordered th...        35          79  \n",
       "30206  lda city lahore residential files prices updat...        43          78  \n",
       "26678  eine wahre coronageschichte wenn dir an der su...        29          78  \n",
       "12389  okay so i just checked the drug prices for pla...        35          77  \n",
       "1697   i work at a grocery store we wont get any toil...        37          77  \n",
       "8730   bitte anschauen 12 emotionaler aufruf von geha...        36          77  \n",
       "14582  hiked prices in the face of the covid19 crises...        47          77  \n",
       "36305  sterile disposable anti bacterial wet wipes an...        31          76  \n",
       "36306  for sell sterile disposable anti bacterial wet...        32          75  \n",
       "9238   hi i felt hungry loggd in ur app tryd to add 4...        55          75  \n",
       "40778  covid19 2days stayathome activities up 630am f...        37          75  "
      ]
     },
     "execution_count": 38,
     "metadata": {},
     "output_type": "execute_result"
    }
   ],
   "source": [
    "df = df.sort_values(by='token_lens', ascending=False)\n",
    "df.head(20)"
   ]
  },
  {
   "cell_type": "code",
   "execution_count": 39,
   "id": "2a2b4e75",
   "metadata": {
    "execution": {
     "iopub.execute_input": "2024-03-25T17:44:15.870234Z",
     "iopub.status.busy": "2024-03-25T17:44:15.869504Z",
     "iopub.status.idle": "2024-03-25T17:44:15.873217Z",
     "shell.execute_reply": "2024-03-25T17:44:15.872704Z",
     "shell.execute_reply.started": "2021-12-22T21:16:45.968366Z"
    },
    "papermill": {
     "duration": 0.136998,
     "end_time": "2024-03-25T17:44:15.873358",
     "exception": false,
     "start_time": "2024-03-25T17:44:15.736360",
     "status": "completed"
    },
    "tags": []
   },
   "outputs": [
    {
     "data": {
      "text/html": [
       "<div>\n",
       "<style scoped>\n",
       "    .dataframe tbody tr th:only-of-type {\n",
       "        vertical-align: middle;\n",
       "    }\n",
       "\n",
       "    .dataframe tbody tr th {\n",
       "        vertical-align: top;\n",
       "    }\n",
       "\n",
       "    .dataframe thead th {\n",
       "        text-align: right;\n",
       "    }\n",
       "</style>\n",
       "<table border=\"1\" class=\"dataframe\">\n",
       "  <thead>\n",
       "    <tr style=\"text-align: right;\">\n",
       "      <th></th>\n",
       "      <th>OriginalTweet</th>\n",
       "      <th>Sentiment</th>\n",
       "      <th>text_clean</th>\n",
       "      <th>text_len</th>\n",
       "      <th>token_lens</th>\n",
       "    </tr>\n",
       "  </thead>\n",
       "  <tbody>\n",
       "    <tr>\n",
       "      <th>12389</th>\n",
       "      <td>Okay, so I just checked the drug prices for #P...</td>\n",
       "      <td>Positive</td>\n",
       "      <td>okay so i just checked the drug prices for pla...</td>\n",
       "      <td>35</td>\n",
       "      <td>77</td>\n",
       "    </tr>\n",
       "    <tr>\n",
       "      <th>1697</th>\n",
       "      <td>I work at a grocery store.\\r\\r\\nWe wont get an...</td>\n",
       "      <td>Positive</td>\n",
       "      <td>i work at a grocery store we wont get any toil...</td>\n",
       "      <td>37</td>\n",
       "      <td>77</td>\n",
       "    </tr>\n",
       "    <tr>\n",
       "      <th>8730</th>\n",
       "      <td>?Bitte anschauen! (1/2)\\r\\r\\n\\r\\r\\nEmotionaler...</td>\n",
       "      <td>Negative</td>\n",
       "      <td>bitte anschauen 12 emotionaler aufruf von geha...</td>\n",
       "      <td>36</td>\n",
       "      <td>77</td>\n",
       "    </tr>\n",
       "    <tr>\n",
       "      <th>14582</th>\n",
       "      <td>hiked prices in the face of the Covid-19 crise...</td>\n",
       "      <td>Negative</td>\n",
       "      <td>hiked prices in the face of the covid19 crises...</td>\n",
       "      <td>47</td>\n",
       "      <td>77</td>\n",
       "    </tr>\n",
       "    <tr>\n",
       "      <th>36305</th>\n",
       "      <td>Sterile disposable anti bacterial wet wipes an...</td>\n",
       "      <td>Negative</td>\n",
       "      <td>sterile disposable anti bacterial wet wipes an...</td>\n",
       "      <td>31</td>\n",
       "      <td>76</td>\n",
       "    </tr>\n",
       "  </tbody>\n",
       "</table>\n",
       "</div>"
      ],
      "text/plain": [
       "                                           OriginalTweet Sentiment  \\\n",
       "12389  Okay, so I just checked the drug prices for #P...  Positive   \n",
       "1697   I work at a grocery store.\\r\\r\\nWe wont get an...  Positive   \n",
       "8730   ?Bitte anschauen! (1/2)\\r\\r\\n\\r\\r\\nEmotionaler...  Negative   \n",
       "14582  hiked prices in the face of the Covid-19 crise...  Negative   \n",
       "36305  Sterile disposable anti bacterial wet wipes an...  Negative   \n",
       "\n",
       "                                              text_clean  text_len  token_lens  \n",
       "12389  okay so i just checked the drug prices for pla...        35          77  \n",
       "1697   i work at a grocery store we wont get any toil...        37          77  \n",
       "8730   bitte anschauen 12 emotionaler aufruf von geha...        36          77  \n",
       "14582  hiked prices in the face of the covid19 crises...        47          77  \n",
       "36305  sterile disposable anti bacterial wet wipes an...        31          76  "
      ]
     },
     "execution_count": 39,
     "metadata": {},
     "output_type": "execute_result"
    }
   ],
   "source": [
    "df = df.iloc[12:]\n",
    "df.head()"
   ]
  },
  {
   "cell_type": "markdown",
   "id": "3c1f660c",
   "metadata": {
    "papermill": {
     "duration": 0.123813,
     "end_time": "2024-03-25T17:44:16.120584",
     "exception": false,
     "start_time": "2024-03-25T17:44:15.996771",
     "status": "completed"
    },
    "tags": []
   },
   "source": [
    "The dataset looks more clean now. We will shuffle it and reset the index."
   ]
  },
  {
   "cell_type": "code",
   "execution_count": 40,
   "id": "cdb500c1",
   "metadata": {
    "execution": {
     "iopub.execute_input": "2024-03-25T17:44:16.369377Z",
     "iopub.status.busy": "2024-03-25T17:44:16.368745Z",
     "iopub.status.idle": "2024-03-25T17:44:16.379466Z",
     "shell.execute_reply": "2024-03-25T17:44:16.378925Z",
     "shell.execute_reply.started": "2021-12-22T21:16:45.981515Z"
    },
    "papermill": {
     "duration": 0.137654,
     "end_time": "2024-03-25T17:44:16.379604",
     "exception": false,
     "start_time": "2024-03-25T17:44:16.241950",
     "status": "completed"
    },
    "tags": []
   },
   "outputs": [],
   "source": [
    "df = df.sample(frac=1).reset_index(drop=True)"
   ]
  },
  {
   "cell_type": "markdown",
   "id": "2acbe5b9",
   "metadata": {
    "papermill": {
     "duration": 0.138267,
     "end_time": "2024-03-25T17:44:16.651129",
     "exception": false,
     "start_time": "2024-03-25T17:44:16.512862",
     "status": "completed"
    },
    "tags": []
   },
   "source": [
    "## Test data deeper cleaning"
   ]
  },
  {
   "cell_type": "markdown",
   "id": "c6e112f4",
   "metadata": {
    "papermill": {
     "duration": 0.132507,
     "end_time": "2024-03-25T17:44:16.913106",
     "exception": false,
     "start_time": "2024-03-25T17:44:16.780599",
     "status": "completed"
    },
    "tags": []
   },
   "source": [
    "We will perform the data cleaning based on the tokenized sentences on the test set."
   ]
  },
  {
   "cell_type": "code",
   "execution_count": 41,
   "id": "5b60b8f4",
   "metadata": {
    "execution": {
     "iopub.execute_input": "2024-03-25T17:44:17.168364Z",
     "iopub.status.busy": "2024-03-25T17:44:17.167699Z",
     "iopub.status.idle": "2024-03-25T17:44:17.986706Z",
     "shell.execute_reply": "2024-03-25T17:44:17.986069Z",
     "shell.execute_reply.started": "2021-12-22T21:16:45.996467Z"
    },
    "papermill": {
     "duration": 0.949341,
     "end_time": "2024-03-25T17:44:17.986845",
     "exception": false,
     "start_time": "2024-03-25T17:44:17.037504",
     "status": "completed"
    },
    "tags": []
   },
   "outputs": [],
   "source": [
    "token_lens_test = []\n",
    "\n",
    "for txt in df_test['text_clean'].values:\n",
    "    tokens = tokenizer.encode(txt, max_length=512, truncation=True)\n",
    "    token_lens_test.append(len(tokens))\n",
    "    \n",
    "max_len=np.max(token_lens_test)"
   ]
  },
  {
   "cell_type": "code",
   "execution_count": 42,
   "id": "71a0f57f",
   "metadata": {
    "execution": {
     "iopub.execute_input": "2024-03-25T17:44:18.242859Z",
     "iopub.status.busy": "2024-03-25T17:44:18.242193Z",
     "iopub.status.idle": "2024-03-25T17:44:18.245053Z",
     "shell.execute_reply": "2024-03-25T17:44:18.245586Z",
     "shell.execute_reply.started": "2021-12-22T21:16:46.751312Z"
    },
    "papermill": {
     "duration": 0.13097,
     "end_time": "2024-03-25T17:44:18.245762",
     "exception": false,
     "start_time": "2024-03-25T17:44:18.114792",
     "status": "completed"
    },
    "tags": []
   },
   "outputs": [
    {
     "name": "stdout",
     "output_type": "stream",
     "text": [
      "MAX TOKENIZED SENTENCE LENGTH: 96\n"
     ]
    }
   ],
   "source": [
    "print(f\"MAX TOKENIZED SENTENCE LENGTH: {max_len}\")"
   ]
  },
  {
   "cell_type": "code",
   "execution_count": 43,
   "id": "e6040d95",
   "metadata": {
    "execution": {
     "iopub.execute_input": "2024-03-25T17:44:18.501654Z",
     "iopub.status.busy": "2024-03-25T17:44:18.501049Z",
     "iopub.status.idle": "2024-03-25T17:44:19.307686Z",
     "shell.execute_reply": "2024-03-25T17:44:19.307148Z",
     "shell.execute_reply.started": "2021-12-22T21:16:46.758304Z"
    },
    "papermill": {
     "duration": 0.934309,
     "end_time": "2024-03-25T17:44:19.307832",
     "exception": false,
     "start_time": "2024-03-25T17:44:18.373523",
     "status": "completed"
    },
    "tags": []
   },
   "outputs": [
    {
     "name": "stdout",
     "output_type": "stream",
     "text": [
      "INDEX: 286, TEXT: so hard to decide as much as i want to hodl my 2 ccdcv4 token our place is declared to lock down due to covid19 i will use this to buy some food to stock txnid093bd1db0c0d3a62af15883138a5f57d4cef35ae14e31e602b74489dd2524c7f my b\n",
      "INDEX: 345, TEXT: informoval jsem zstupce vech obchodnch etzc o aktulnch opatench vldy etzce jsou zsobovny na 95 take nen dvod panikait zsoby potravin fakt nedojdou nen opravdu dvod dnes obsadit a vykoupit supermarkety\n",
      "INDEX: 2380, TEXT: ahora seguid llorando por el papel higinico que no he comprado porque an tengo seguid creando histeria y preocupacin poniendo fotos de gente en pnico y estanteras vacas que yo seguir yendo a comercios responsables de barrio donde nos cuidan hoy y siempre gracias\n"
     ]
    }
   ],
   "source": [
    "token_lens_test = []\n",
    "\n",
    "for i,txt in enumerate(df_test['text_clean'].values):\n",
    "    tokens = tokenizer.encode(txt, max_length=512, truncation=True)\n",
    "    token_lens_test.append(len(tokens))\n",
    "    if len(tokens)>80:\n",
    "        print(f\"INDEX: {i}, TEXT: {txt}\")"
   ]
  },
  {
   "cell_type": "code",
   "execution_count": 44,
   "id": "0e94f587",
   "metadata": {
    "execution": {
     "iopub.execute_input": "2024-03-25T17:44:19.563537Z",
     "iopub.status.busy": "2024-03-25T17:44:19.562787Z",
     "iopub.status.idle": "2024-03-25T17:44:19.565483Z",
     "shell.execute_reply": "2024-03-25T17:44:19.564876Z",
     "shell.execute_reply.started": "2021-12-22T21:16:47.502016Z"
    },
    "papermill": {
     "duration": 0.13148,
     "end_time": "2024-03-25T17:44:19.565619",
     "exception": false,
     "start_time": "2024-03-25T17:44:19.434139",
     "status": "completed"
    },
    "tags": []
   },
   "outputs": [],
   "source": [
    "df_test['token_lens'] = token_lens_test"
   ]
  },
  {
   "cell_type": "code",
   "execution_count": 45,
   "id": "e54931ca",
   "metadata": {
    "execution": {
     "iopub.execute_input": "2024-03-25T17:44:19.816763Z",
     "iopub.status.busy": "2024-03-25T17:44:19.815795Z",
     "iopub.status.idle": "2024-03-25T17:44:19.827732Z",
     "shell.execute_reply": "2024-03-25T17:44:19.827101Z",
     "shell.execute_reply.started": "2021-12-22T21:16:47.510311Z"
    },
    "papermill": {
     "duration": 0.13946,
     "end_time": "2024-03-25T17:44:19.827877",
     "exception": false,
     "start_time": "2024-03-25T17:44:19.688417",
     "status": "completed"
    },
    "tags": []
   },
   "outputs": [
    {
     "data": {
      "text/html": [
       "<div>\n",
       "<style scoped>\n",
       "    .dataframe tbody tr th:only-of-type {\n",
       "        vertical-align: middle;\n",
       "    }\n",
       "\n",
       "    .dataframe tbody tr th {\n",
       "        vertical-align: top;\n",
       "    }\n",
       "\n",
       "    .dataframe thead th {\n",
       "        text-align: right;\n",
       "    }\n",
       "</style>\n",
       "<table border=\"1\" class=\"dataframe\">\n",
       "  <thead>\n",
       "    <tr style=\"text-align: right;\">\n",
       "      <th></th>\n",
       "      <th>OriginalTweet</th>\n",
       "      <th>Sentiment</th>\n",
       "      <th>text_clean</th>\n",
       "      <th>text_len</th>\n",
       "      <th>token_lens</th>\n",
       "    </tr>\n",
       "  </thead>\n",
       "  <tbody>\n",
       "    <tr>\n",
       "      <th>286</th>\n",
       "      <td>@Rhett800cc So hard to decide??. As much as I ...</td>\n",
       "      <td>Negative</td>\n",
       "      <td>so hard to decide as much as i want to hodl my...</td>\n",
       "      <td>38</td>\n",
       "      <td>96</td>\n",
       "    </tr>\n",
       "    <tr>\n",
       "      <th>2383</th>\n",
       "      <td>Ahora seguid llorando por el papel higiénico (...</td>\n",
       "      <td>Negative</td>\n",
       "      <td>ahora seguid llorando por el papel higinico qu...</td>\n",
       "      <td>44</td>\n",
       "      <td>94</td>\n",
       "    </tr>\n",
       "    <tr>\n",
       "      <th>345</th>\n",
       "      <td>Informoval jsem zástupce vech obchodních ?et?...</td>\n",
       "      <td>Neutral</td>\n",
       "      <td>informoval jsem zstupce vech obchodnch etzc o ...</td>\n",
       "      <td>31</td>\n",
       "      <td>86</td>\n",
       "    </tr>\n",
       "    <tr>\n",
       "      <th>1485</th>\n",
       "      <td>DTF-Dont Touch Face\\r\\r\\nDWBH-Do Wash Both Ha...</td>\n",
       "      <td>Extremely Negative</td>\n",
       "      <td>dtfdont touch face dwbhdo wash both hands gtfo...</td>\n",
       "      <td>42</td>\n",
       "      <td>77</td>\n",
       "    </tr>\n",
       "    <tr>\n",
       "      <th>1209</th>\n",
       "      <td>Im in the DC/Maryland/Virginia (DMV) area &amp;am...</td>\n",
       "      <td>Positive</td>\n",
       "      <td>im in the dcmarylandvirginia dmv area amphave ...</td>\n",
       "      <td>45</td>\n",
       "      <td>74</td>\n",
       "    </tr>\n",
       "    <tr>\n",
       "      <th>3505</th>\n",
       "      <td>Stop misusing ur privilege amp grow up Some1 c...</td>\n",
       "      <td>Positive</td>\n",
       "      <td>stop misusing ur privilege amp grow up some1 c...</td>\n",
       "      <td>57</td>\n",
       "      <td>73</td>\n",
       "    </tr>\n",
       "    <tr>\n",
       "      <th>1789</th>\n",
       "      <td>For those that are cashlong, patient,calm&amp;amp;...</td>\n",
       "      <td>Extremely Positive</td>\n",
       "      <td>for those that are cashlong patientcalmamphave...</td>\n",
       "      <td>44</td>\n",
       "      <td>71</td>\n",
       "    </tr>\n",
       "    <tr>\n",
       "      <th>855</th>\n",
       "      <td>Lidl is total chaos, queues as long as the ais...</td>\n",
       "      <td>Extremely Negative</td>\n",
       "      <td>lidl is total chaos queues as long as the aisl...</td>\n",
       "      <td>62</td>\n",
       "      <td>70</td>\n",
       "    </tr>\n",
       "    <tr>\n",
       "      <th>2740</th>\n",
       "      <td>COVID-19: Your government will save ITSELF not...</td>\n",
       "      <td>Positive</td>\n",
       "      <td>covid19 your government will save itself not y...</td>\n",
       "      <td>43</td>\n",
       "      <td>70</td>\n",
       "    </tr>\n",
       "    <tr>\n",
       "      <th>2997</th>\n",
       "      <td>Stop #frenzybuying. You don't need most of wha...</td>\n",
       "      <td>Extremely Negative</td>\n",
       "      <td>stop frenzybuying you dont need most of what y...</td>\n",
       "      <td>38</td>\n",
       "      <td>70</td>\n",
       "    </tr>\n",
       "  </tbody>\n",
       "</table>\n",
       "</div>"
      ],
      "text/plain": [
       "                                          OriginalTweet           Sentiment  \\\n",
       "286   @Rhett800cc So hard to decide??. As much as I ...            Negative   \n",
       "2383  Ahora seguid llorando por el papel higiénico (...            Negative   \n",
       "345   Informoval jsem zástupce vech obchodních ?et?...             Neutral   \n",
       "1485  DTF-Dont Touch Face\\r\\r\\nDWBH-Do Wash Both Ha...  Extremely Negative   \n",
       "1209  Im in the DC/Maryland/Virginia (DMV) area &am...            Positive   \n",
       "3505  Stop misusing ur privilege amp grow up Some1 c...            Positive   \n",
       "1789  For those that are cashlong, patient,calm&amp;...  Extremely Positive   \n",
       "855   Lidl is total chaos, queues as long as the ais...  Extremely Negative   \n",
       "2740  COVID-19: Your government will save ITSELF not...            Positive   \n",
       "2997  Stop #frenzybuying. You don't need most of wha...  Extremely Negative   \n",
       "\n",
       "                                             text_clean  text_len  token_lens  \n",
       "286   so hard to decide as much as i want to hodl my...        38          96  \n",
       "2383  ahora seguid llorando por el papel higinico qu...        44          94  \n",
       "345   informoval jsem zstupce vech obchodnch etzc o ...        31          86  \n",
       "1485  dtfdont touch face dwbhdo wash both hands gtfo...        42          77  \n",
       "1209  im in the dcmarylandvirginia dmv area amphave ...        45          74  \n",
       "3505  stop misusing ur privilege amp grow up some1 c...        57          73  \n",
       "1789  for those that are cashlong patientcalmamphave...        44          71  \n",
       "855   lidl is total chaos queues as long as the aisl...        62          70  \n",
       "2740  covid19 your government will save itself not y...        43          70  \n",
       "2997  stop frenzybuying you dont need most of what y...        38          70  "
      ]
     },
     "execution_count": 45,
     "metadata": {},
     "output_type": "execute_result"
    }
   ],
   "source": [
    "df_test = df_test.sort_values(by='token_lens', ascending=False)\n",
    "df_test.head(10) "
   ]
  },
  {
   "cell_type": "code",
   "execution_count": 46,
   "id": "8394ea70",
   "metadata": {
    "execution": {
     "iopub.execute_input": "2024-03-25T17:44:20.088635Z",
     "iopub.status.busy": "2024-03-25T17:44:20.087746Z",
     "iopub.status.idle": "2024-03-25T17:44:20.091532Z",
     "shell.execute_reply": "2024-03-25T17:44:20.090773Z",
     "shell.execute_reply.started": "2021-12-22T21:16:47.529156Z"
    },
    "papermill": {
     "duration": 0.139014,
     "end_time": "2024-03-25T17:44:20.091681",
     "exception": false,
     "start_time": "2024-03-25T17:44:19.952667",
     "status": "completed"
    },
    "tags": []
   },
   "outputs": [
    {
     "data": {
      "text/html": [
       "<div>\n",
       "<style scoped>\n",
       "    .dataframe tbody tr th:only-of-type {\n",
       "        vertical-align: middle;\n",
       "    }\n",
       "\n",
       "    .dataframe tbody tr th {\n",
       "        vertical-align: top;\n",
       "    }\n",
       "\n",
       "    .dataframe thead th {\n",
       "        text-align: right;\n",
       "    }\n",
       "</style>\n",
       "<table border=\"1\" class=\"dataframe\">\n",
       "  <thead>\n",
       "    <tr style=\"text-align: right;\">\n",
       "      <th></th>\n",
       "      <th>OriginalTweet</th>\n",
       "      <th>Sentiment</th>\n",
       "      <th>text_clean</th>\n",
       "      <th>text_len</th>\n",
       "      <th>token_lens</th>\n",
       "    </tr>\n",
       "  </thead>\n",
       "  <tbody>\n",
       "    <tr>\n",
       "      <th>3505</th>\n",
       "      <td>Stop misusing ur privilege amp grow up Some1 c...</td>\n",
       "      <td>Positive</td>\n",
       "      <td>stop misusing ur privilege amp grow up some1 c...</td>\n",
       "      <td>57</td>\n",
       "      <td>73</td>\n",
       "    </tr>\n",
       "    <tr>\n",
       "      <th>1789</th>\n",
       "      <td>For those that are cashlong, patient,calm&amp;amp;...</td>\n",
       "      <td>Extremely Positive</td>\n",
       "      <td>for those that are cashlong patientcalmamphave...</td>\n",
       "      <td>44</td>\n",
       "      <td>71</td>\n",
       "    </tr>\n",
       "    <tr>\n",
       "      <th>855</th>\n",
       "      <td>Lidl is total chaos, queues as long as the ais...</td>\n",
       "      <td>Extremely Negative</td>\n",
       "      <td>lidl is total chaos queues as long as the aisl...</td>\n",
       "      <td>62</td>\n",
       "      <td>70</td>\n",
       "    </tr>\n",
       "  </tbody>\n",
       "</table>\n",
       "</div>"
      ],
      "text/plain": [
       "                                          OriginalTweet           Sentiment  \\\n",
       "3505  Stop misusing ur privilege amp grow up Some1 c...            Positive   \n",
       "1789  For those that are cashlong, patient,calm&amp;...  Extremely Positive   \n",
       "855   Lidl is total chaos, queues as long as the ais...  Extremely Negative   \n",
       "\n",
       "                                             text_clean  text_len  token_lens  \n",
       "3505  stop misusing ur privilege amp grow up some1 c...        57          73  \n",
       "1789  for those that are cashlong patientcalmamphave...        44          71  \n",
       "855   lidl is total chaos queues as long as the aisl...        62          70  "
      ]
     },
     "execution_count": 46,
     "metadata": {},
     "output_type": "execute_result"
    }
   ],
   "source": [
    "df_test = df_test.iloc[5:]\n",
    "df_test.head(3)"
   ]
  },
  {
   "cell_type": "code",
   "execution_count": 47,
   "id": "e2bec3af",
   "metadata": {
    "execution": {
     "iopub.execute_input": "2024-03-25T17:44:20.346957Z",
     "iopub.status.busy": "2024-03-25T17:44:20.346038Z",
     "iopub.status.idle": "2024-03-25T17:44:20.349353Z",
     "shell.execute_reply": "2024-03-25T17:44:20.349782Z",
     "shell.execute_reply.started": "2021-12-22T21:16:47.541662Z"
    },
    "papermill": {
     "duration": 0.132883,
     "end_time": "2024-03-25T17:44:20.349939",
     "exception": false,
     "start_time": "2024-03-25T17:44:20.217056",
     "status": "completed"
    },
    "tags": []
   },
   "outputs": [],
   "source": [
    "df_test = df_test.sample(frac=1).reset_index(drop=True)"
   ]
  },
  {
   "cell_type": "markdown",
   "id": "171de741",
   "metadata": {
    "papermill": {
     "duration": 0.124376,
     "end_time": "2024-03-25T17:44:20.598179",
     "exception": false,
     "start_time": "2024-03-25T17:44:20.473803",
     "status": "completed"
    },
    "tags": []
   },
   "source": [
    "Now the data cleaning is completed. I will perform more data cleaning if I have new ideas !! :)"
   ]
  },
  {
   "cell_type": "markdown",
   "id": "e2c0daa5",
   "metadata": {
    "papermill": {
     "duration": 0.124354,
     "end_time": "2024-03-25T17:44:20.847800",
     "exception": false,
     "start_time": "2024-03-25T17:44:20.723446",
     "status": "completed"
    },
    "tags": []
   },
   "source": [
    "# Sentiment column analysis"
   ]
  },
  {
   "cell_type": "markdown",
   "id": "eb476fbe",
   "metadata": {
    "papermill": {
     "duration": 0.125531,
     "end_time": "2024-03-25T17:44:21.097846",
     "exception": false,
     "start_time": "2024-03-25T17:44:20.972315",
     "status": "completed"
    },
    "tags": []
   },
   "source": [
    "Now we will look at the target column 'Sentiment'."
   ]
  },
  {
   "cell_type": "code",
   "execution_count": 48,
   "id": "4648cbfc",
   "metadata": {
    "execution": {
     "iopub.execute_input": "2024-03-25T17:44:21.358472Z",
     "iopub.status.busy": "2024-03-25T17:44:21.357651Z",
     "iopub.status.idle": "2024-03-25T17:44:21.361406Z",
     "shell.execute_reply": "2024-03-25T17:44:21.360889Z",
     "shell.execute_reply.started": "2021-12-22T21:16:47.550336Z"
    },
    "papermill": {
     "duration": 0.139047,
     "end_time": "2024-03-25T17:44:21.361541",
     "exception": false,
     "start_time": "2024-03-25T17:44:21.222494",
     "status": "completed"
    },
    "tags": []
   },
   "outputs": [
    {
     "data": {
      "text/plain": [
       "Positive              11381\n",
       "Negative               9889\n",
       "Neutral                7560\n",
       "Extremely Positive     6618\n",
       "Extremely Negative     5475\n",
       "Name: Sentiment, dtype: int64"
      ]
     },
     "execution_count": 48,
     "metadata": {},
     "output_type": "execute_result"
    }
   ],
   "source": [
    "df['Sentiment'].value_counts()"
   ]
  },
  {
   "cell_type": "markdown",
   "id": "581316ad",
   "metadata": {
    "execution": {
     "iopub.execute_input": "2021-12-05T11:35:57.748569Z",
     "iopub.status.busy": "2021-12-05T11:35:57.747932Z",
     "iopub.status.idle": "2021-12-05T11:35:57.753489Z",
     "shell.execute_reply": "2021-12-05T11:35:57.752685Z",
     "shell.execute_reply.started": "2021-12-05T11:35:57.748528Z"
    },
    "papermill": {
     "duration": 0.125034,
     "end_time": "2024-03-25T17:44:21.610673",
     "exception": false,
     "start_time": "2024-03-25T17:44:21.485639",
     "status": "completed"
    },
    "tags": []
   },
   "source": [
    "The first thing we can do is to encode the categories with numbers. We will also create just 3 possible emotions: Positive, Neutral and Negative."
   ]
  },
  {
   "cell_type": "code",
   "execution_count": 49,
   "id": "c0604674",
   "metadata": {
    "execution": {
     "iopub.execute_input": "2024-03-25T17:44:21.871054Z",
     "iopub.status.busy": "2024-03-25T17:44:21.870359Z",
     "iopub.status.idle": "2024-03-25T17:44:21.876461Z",
     "shell.execute_reply": "2024-03-25T17:44:21.876917Z",
     "shell.execute_reply.started": "2021-12-22T21:16:47.565975Z"
    },
    "papermill": {
     "duration": 0.141847,
     "end_time": "2024-03-25T17:44:21.877118",
     "exception": false,
     "start_time": "2024-03-25T17:44:21.735271",
     "status": "completed"
    },
    "tags": []
   },
   "outputs": [],
   "source": [
    "df['Sentiment'] = df['Sentiment'].map({'Extremely Negative':0,'Negative':0,'Neutral':1,'Positive':2,'Extremely Positive':2})"
   ]
  },
  {
   "cell_type": "code",
   "execution_count": 50,
   "id": "c27cd499",
   "metadata": {
    "execution": {
     "iopub.execute_input": "2024-03-25T17:44:22.135517Z",
     "iopub.status.busy": "2024-03-25T17:44:22.134816Z",
     "iopub.status.idle": "2024-03-25T17:44:22.137641Z",
     "shell.execute_reply": "2024-03-25T17:44:22.137071Z",
     "shell.execute_reply.started": "2021-12-22T21:16:47.582474Z"
    },
    "papermill": {
     "duration": 0.135763,
     "end_time": "2024-03-25T17:44:22.137788",
     "exception": false,
     "start_time": "2024-03-25T17:44:22.002025",
     "status": "completed"
    },
    "tags": []
   },
   "outputs": [],
   "source": [
    "df_test['Sentiment'] = df_test['Sentiment'].map({'Extremely Negative':0,'Negative':0,'Neutral':1,'Positive':2,'Extremely Positive':2})"
   ]
  },
  {
   "cell_type": "code",
   "execution_count": 51,
   "id": "d3493305",
   "metadata": {
    "execution": {
     "iopub.execute_input": "2024-03-25T17:44:22.394578Z",
     "iopub.status.busy": "2024-03-25T17:44:22.393830Z",
     "iopub.status.idle": "2024-03-25T17:44:22.397410Z",
     "shell.execute_reply": "2024-03-25T17:44:22.396775Z",
     "shell.execute_reply.started": "2021-12-22T21:16:47.592966Z"
    },
    "papermill": {
     "duration": 0.134881,
     "end_time": "2024-03-25T17:44:22.397552",
     "exception": false,
     "start_time": "2024-03-25T17:44:22.262671",
     "status": "completed"
    },
    "tags": []
   },
   "outputs": [
    {
     "data": {
      "text/plain": [
       "2    17999\n",
       "0    15364\n",
       "1     7560\n",
       "Name: Sentiment, dtype: int64"
      ]
     },
     "execution_count": 51,
     "metadata": {},
     "output_type": "execute_result"
    }
   ],
   "source": [
    "df['Sentiment'].value_counts()"
   ]
  },
  {
   "cell_type": "markdown",
   "id": "08570cdf",
   "metadata": {
    "papermill": {
     "duration": 0.125048,
     "end_time": "2024-03-25T17:44:22.648463",
     "exception": false,
     "start_time": "2024-03-25T17:44:22.523415",
     "status": "completed"
    },
    "tags": []
   },
   "source": [
    "We note that the three classes are imbalanced. We will proceed with oversampling the train test, to remove bias towards the majority classes."
   ]
  },
  {
   "cell_type": "markdown",
   "id": "db336749",
   "metadata": {
    "papermill": {
     "duration": 0.12518,
     "end_time": "2024-03-25T17:44:22.897601",
     "exception": false,
     "start_time": "2024-03-25T17:44:22.772421",
     "status": "completed"
    },
    "tags": []
   },
   "source": [
    "## Class Balancing by RandomOverSampler"
   ]
  },
  {
   "cell_type": "code",
   "execution_count": 52,
   "id": "29fc2bc8",
   "metadata": {
    "execution": {
     "iopub.execute_input": "2024-03-25T17:44:23.155171Z",
     "iopub.status.busy": "2024-03-25T17:44:23.154503Z",
     "iopub.status.idle": "2024-03-25T17:44:23.256248Z",
     "shell.execute_reply": "2024-03-25T17:44:23.255702Z",
     "shell.execute_reply.started": "2021-12-22T21:16:47.601678Z"
    },
    "papermill": {
     "duration": 0.234799,
     "end_time": "2024-03-25T17:44:23.256394",
     "exception": false,
     "start_time": "2024-03-25T17:44:23.021595",
     "status": "completed"
    },
    "tags": []
   },
   "outputs": [],
   "source": [
    "ros = RandomOverSampler()\n",
    "train_x, train_y = ros.fit_resample(np.array(df['text_clean']).reshape(-1, 1), np.array(df['Sentiment']).reshape(-1, 1));\n",
    "train_os = pd.DataFrame(list(zip([x[0] for x in train_x], train_y)), columns = ['text_clean', 'Sentiment']);"
   ]
  },
  {
   "cell_type": "code",
   "execution_count": 53,
   "id": "8cd874fc",
   "metadata": {
    "execution": {
     "iopub.execute_input": "2024-03-25T17:44:23.513721Z",
     "iopub.status.busy": "2024-03-25T17:44:23.513025Z",
     "iopub.status.idle": "2024-03-25T17:44:23.516668Z",
     "shell.execute_reply": "2024-03-25T17:44:23.516149Z",
     "shell.execute_reply.started": "2021-12-22T21:16:47.698894Z"
    },
    "papermill": {
     "duration": 0.134832,
     "end_time": "2024-03-25T17:44:23.516849",
     "exception": false,
     "start_time": "2024-03-25T17:44:23.382017",
     "status": "completed"
    },
    "tags": []
   },
   "outputs": [
    {
     "data": {
      "text/plain": [
       "1    17999\n",
       "0    17999\n",
       "2    17999\n",
       "Name: Sentiment, dtype: int64"
      ]
     },
     "execution_count": 53,
     "metadata": {},
     "output_type": "execute_result"
    }
   ],
   "source": [
    "train_os['Sentiment'].value_counts()"
   ]
  },
  {
   "cell_type": "markdown",
   "id": "0715db8e",
   "metadata": {
    "papermill": {
     "duration": 0.14259,
     "end_time": "2024-03-25T17:44:23.786835",
     "exception": false,
     "start_time": "2024-03-25T17:44:23.644245",
     "status": "completed"
    },
    "tags": []
   },
   "source": [
    "## Train - Validation - Test split"
   ]
  },
  {
   "cell_type": "code",
   "execution_count": 54,
   "id": "6c086c9c",
   "metadata": {
    "execution": {
     "iopub.execute_input": "2024-03-25T17:44:24.045087Z",
     "iopub.status.busy": "2024-03-25T17:44:24.044328Z",
     "iopub.status.idle": "2024-03-25T17:44:24.046823Z",
     "shell.execute_reply": "2024-03-25T17:44:24.046241Z",
     "shell.execute_reply.started": "2021-12-22T21:16:47.713294Z"
    },
    "papermill": {
     "duration": 0.134323,
     "end_time": "2024-03-25T17:44:24.046948",
     "exception": false,
     "start_time": "2024-03-25T17:44:23.912625",
     "status": "completed"
    },
    "tags": []
   },
   "outputs": [],
   "source": [
    "X = train_os['text_clean'].values\n",
    "y = train_os['Sentiment'].values"
   ]
  },
  {
   "cell_type": "markdown",
   "id": "04094d29",
   "metadata": {
    "papermill": {
     "duration": 0.12515,
     "end_time": "2024-03-25T17:44:24.298038",
     "exception": false,
     "start_time": "2024-03-25T17:44:24.172888",
     "status": "completed"
    },
    "tags": []
   },
   "source": [
    "A validation set will be extracted from the training set to monitor the validation accuracy, and so prevent overfitting."
   ]
  },
  {
   "cell_type": "code",
   "execution_count": 55,
   "id": "eed78a86",
   "metadata": {
    "execution": {
     "iopub.execute_input": "2024-03-25T17:44:24.553250Z",
     "iopub.status.busy": "2024-03-25T17:44:24.552566Z",
     "iopub.status.idle": "2024-03-25T17:44:24.595281Z",
     "shell.execute_reply": "2024-03-25T17:44:24.594686Z",
     "shell.execute_reply.started": "2021-12-22T21:16:47.719431Z"
    },
    "papermill": {
     "duration": 0.171529,
     "end_time": "2024-03-25T17:44:24.595422",
     "exception": false,
     "start_time": "2024-03-25T17:44:24.423893",
     "status": "completed"
    },
    "tags": []
   },
   "outputs": [],
   "source": [
    "X_train, X_valid, y_train, y_valid = train_test_split(X, y, test_size=0.1, stratify=y, random_state=seed)"
   ]
  },
  {
   "cell_type": "code",
   "execution_count": 56,
   "id": "ba1b4478",
   "metadata": {
    "execution": {
     "iopub.execute_input": "2024-03-25T17:44:24.851595Z",
     "iopub.status.busy": "2024-03-25T17:44:24.850927Z",
     "iopub.status.idle": "2024-03-25T17:44:24.853700Z",
     "shell.execute_reply": "2024-03-25T17:44:24.853096Z",
     "shell.execute_reply.started": "2021-12-22T21:16:47.762967Z"
    },
    "papermill": {
     "duration": 0.132599,
     "end_time": "2024-03-25T17:44:24.853829",
     "exception": false,
     "start_time": "2024-03-25T17:44:24.721230",
     "status": "completed"
    },
    "tags": []
   },
   "outputs": [],
   "source": [
    "X_test = df_test['text_clean'].values\n",
    "y_test = df_test['Sentiment'].values"
   ]
  },
  {
   "cell_type": "markdown",
   "id": "74b9fee8",
   "metadata": {
    "papermill": {
     "duration": 0.126084,
     "end_time": "2024-03-25T17:44:25.105326",
     "exception": false,
     "start_time": "2024-03-25T17:44:24.979242",
     "status": "completed"
    },
    "tags": []
   },
   "source": [
    "## One hot encoding"
   ]
  },
  {
   "cell_type": "markdown",
   "id": "f1503d9e",
   "metadata": {
    "papermill": {
     "duration": 0.124909,
     "end_time": "2024-03-25T17:44:25.356529",
     "exception": false,
     "start_time": "2024-03-25T17:44:25.231620",
     "status": "completed"
    },
    "tags": []
   },
   "source": [
    "After performing some tests, by using one hot encoding on the target variable we achieved higher accuracy. For this reason we will choose one hot enconding over label encoding. <br>\n",
    "EDIT: We will save a copy of the label encoded target columns since they could be useful for further analysis."
   ]
  },
  {
   "cell_type": "code",
   "execution_count": 57,
   "id": "bd57717c",
   "metadata": {
    "execution": {
     "iopub.execute_input": "2024-03-25T17:44:25.626448Z",
     "iopub.status.busy": "2024-03-25T17:44:25.625796Z",
     "iopub.status.idle": "2024-03-25T17:44:25.627875Z",
     "shell.execute_reply": "2024-03-25T17:44:25.628359Z",
     "shell.execute_reply.started": "2021-12-22T21:16:47.770878Z"
    },
    "papermill": {
     "duration": 0.135839,
     "end_time": "2024-03-25T17:44:25.628510",
     "exception": false,
     "start_time": "2024-03-25T17:44:25.492671",
     "status": "completed"
    },
    "tags": []
   },
   "outputs": [],
   "source": [
    "y_train_le = y_train.copy()\n",
    "y_valid_le = y_valid.copy()\n",
    "y_test_le = y_test.copy()"
   ]
  },
  {
   "cell_type": "code",
   "execution_count": 58,
   "id": "f728b945",
   "metadata": {
    "execution": {
     "iopub.execute_input": "2024-03-25T17:44:25.887070Z",
     "iopub.status.busy": "2024-03-25T17:44:25.886394Z",
     "iopub.status.idle": "2024-03-25T17:44:25.895171Z",
     "shell.execute_reply": "2024-03-25T17:44:25.895646Z",
     "shell.execute_reply.started": "2021-12-22T21:16:47.778739Z"
    },
    "papermill": {
     "duration": 0.141996,
     "end_time": "2024-03-25T17:44:25.895802",
     "exception": false,
     "start_time": "2024-03-25T17:44:25.753806",
     "status": "completed"
    },
    "tags": []
   },
   "outputs": [],
   "source": [
    "ohe = preprocessing.OneHotEncoder()\n",
    "y_train = ohe.fit_transform(np.array(y_train).reshape(-1, 1)).toarray()\n",
    "y_valid = ohe.fit_transform(np.array(y_valid).reshape(-1, 1)).toarray()\n",
    "y_test = ohe.fit_transform(np.array(y_test).reshape(-1, 1)).toarray()"
   ]
  },
  {
   "cell_type": "code",
   "execution_count": 59,
   "id": "8e90746f",
   "metadata": {
    "execution": {
     "iopub.execute_input": "2024-03-25T17:44:26.152091Z",
     "iopub.status.busy": "2024-03-25T17:44:26.151402Z",
     "iopub.status.idle": "2024-03-25T17:44:26.153916Z",
     "shell.execute_reply": "2024-03-25T17:44:26.154508Z",
     "shell.execute_reply.started": "2021-12-22T21:16:47.792822Z"
    },
    "papermill": {
     "duration": 0.133261,
     "end_time": "2024-03-25T17:44:26.154662",
     "exception": false,
     "start_time": "2024-03-25T17:44:26.021401",
     "status": "completed"
    },
    "tags": []
   },
   "outputs": [
    {
     "name": "stdout",
     "output_type": "stream",
     "text": [
      "TRAINING DATA: 48597\n",
      "VALIDATION DATA: 5400\n",
      "TESTING DATA: 3787\n"
     ]
    }
   ],
   "source": [
    "print(f\"TRAINING DATA: {X_train.shape[0]}\\nVALIDATION DATA: {X_valid.shape[0]}\\nTESTING DATA: {X_test.shape[0]}\" )"
   ]
  },
  {
   "cell_type": "markdown",
   "id": "aef956a2",
   "metadata": {
    "papermill": {
     "duration": 0.12729,
     "end_time": "2024-03-25T17:44:26.408475",
     "exception": false,
     "start_time": "2024-03-25T17:44:26.281185",
     "status": "completed"
    },
    "tags": []
   },
   "source": [
    "# Baseline model: Naive Bayes Classifier"
   ]
  },
  {
   "cell_type": "markdown",
   "id": "a825940b",
   "metadata": {
    "execution": {
     "iopub.execute_input": "2021-12-22T19:59:56.68241Z",
     "iopub.status.busy": "2021-12-22T19:59:56.681677Z",
     "iopub.status.idle": "2021-12-22T19:59:56.711837Z",
     "shell.execute_reply": "2021-12-22T19:59:56.71068Z",
     "shell.execute_reply.started": "2021-12-22T19:59:56.6823Z"
    },
    "papermill": {
     "duration": 0.123438,
     "end_time": "2024-03-25T17:44:26.656503",
     "exception": false,
     "start_time": "2024-03-25T17:44:26.533065",
     "status": "completed"
    },
    "tags": []
   },
   "source": [
    "Before implementing BERT, we will define a simple Naive Bayes baseline model to classify the tweets."
   ]
  },
  {
   "cell_type": "markdown",
   "id": "c6ce8f4f",
   "metadata": {
    "papermill": {
     "duration": 0.124846,
     "end_time": "2024-03-25T17:44:26.906501",
     "exception": false,
     "start_time": "2024-03-25T17:44:26.781655",
     "status": "completed"
    },
    "tags": []
   },
   "source": [
    "First we need to tokenize the tweets using CountVectorizer."
   ]
  },
  {
   "cell_type": "code",
   "execution_count": 60,
   "id": "6b6291ab",
   "metadata": {
    "execution": {
     "iopub.execute_input": "2024-03-25T17:44:27.297921Z",
     "iopub.status.busy": "2024-03-25T17:44:27.262018Z",
     "iopub.status.idle": "2024-03-25T17:44:29.251850Z",
     "shell.execute_reply": "2024-03-25T17:44:29.251188Z",
     "shell.execute_reply.started": "2021-12-22T21:16:47.799042Z"
    },
    "papermill": {
     "duration": 2.150847,
     "end_time": "2024-03-25T17:44:29.252006",
     "exception": false,
     "start_time": "2024-03-25T17:44:27.101159",
     "status": "completed"
    },
    "tags": []
   },
   "outputs": [],
   "source": [
    "clf = CountVectorizer()\n",
    "X_train_cv =  clf.fit_transform(X_train)\n",
    "X_test_cv = clf.transform(X_test)"
   ]
  },
  {
   "cell_type": "markdown",
   "id": "6a47920c",
   "metadata": {
    "papermill": {
     "duration": 0.125821,
     "end_time": "2024-03-25T17:44:29.504931",
     "exception": false,
     "start_time": "2024-03-25T17:44:29.379110",
     "status": "completed"
    },
    "tags": []
   },
   "source": [
    "Then we create the TF-IDF (term-frequency times inverse document-frequency) versions of the tokenized tweets."
   ]
  },
  {
   "cell_type": "code",
   "execution_count": 61,
   "id": "740e57f7",
   "metadata": {
    "execution": {
     "iopub.execute_input": "2024-03-25T17:44:29.763823Z",
     "iopub.status.busy": "2024-03-25T17:44:29.763177Z",
     "iopub.status.idle": "2024-03-25T17:44:29.884919Z",
     "shell.execute_reply": "2024-03-25T17:44:29.884394Z",
     "shell.execute_reply.started": "2021-12-22T21:16:49.890677Z"
    },
    "papermill": {
     "duration": 0.255095,
     "end_time": "2024-03-25T17:44:29.885089",
     "exception": false,
     "start_time": "2024-03-25T17:44:29.629994",
     "status": "completed"
    },
    "tags": []
   },
   "outputs": [],
   "source": [
    "tf_transformer = TfidfTransformer(use_idf=True).fit(X_train_cv)\n",
    "X_train_tf = tf_transformer.transform(X_train_cv)\n",
    "X_test_tf = tf_transformer.transform(X_test_cv)"
   ]
  },
  {
   "cell_type": "markdown",
   "id": "84528767",
   "metadata": {
    "papermill": {
     "duration": 0.126737,
     "end_time": "2024-03-25T17:44:30.137863",
     "exception": false,
     "start_time": "2024-03-25T17:44:30.011126",
     "status": "completed"
    },
    "tags": []
   },
   "source": [
    "Now we can define the Naive Bayes Classifier model"
   ]
  },
  {
   "cell_type": "code",
   "execution_count": 62,
   "id": "6e0b47dd",
   "metadata": {
    "execution": {
     "iopub.execute_input": "2024-03-25T17:44:30.393916Z",
     "iopub.status.busy": "2024-03-25T17:44:30.393311Z",
     "iopub.status.idle": "2024-03-25T17:44:30.396077Z",
     "shell.execute_reply": "2024-03-25T17:44:30.395427Z",
     "shell.execute_reply.started": "2021-12-22T21:16:49.986496Z"
    },
    "papermill": {
     "duration": 0.132455,
     "end_time": "2024-03-25T17:44:30.396213",
     "exception": false,
     "start_time": "2024-03-25T17:44:30.263758",
     "status": "completed"
    },
    "tags": []
   },
   "outputs": [],
   "source": [
    "nb_clf = MultinomialNB()"
   ]
  },
  {
   "cell_type": "code",
   "execution_count": 63,
   "id": "6b1f81cf",
   "metadata": {
    "execution": {
     "iopub.execute_input": "2024-03-25T17:44:30.651230Z",
     "iopub.status.busy": "2024-03-25T17:44:30.650571Z",
     "iopub.status.idle": "2024-03-25T17:44:30.676518Z",
     "shell.execute_reply": "2024-03-25T17:44:30.675884Z",
     "shell.execute_reply.started": "2021-12-22T21:16:49.992487Z"
    },
    "papermill": {
     "duration": 0.155294,
     "end_time": "2024-03-25T17:44:30.676668",
     "exception": false,
     "start_time": "2024-03-25T17:44:30.521374",
     "status": "completed"
    },
    "tags": []
   },
   "outputs": [
    {
     "data": {
      "text/plain": [
       "MultinomialNB()"
      ]
     },
     "execution_count": 63,
     "metadata": {},
     "output_type": "execute_result"
    }
   ],
   "source": [
    "nb_clf.fit(X_train_tf, y_train_le)"
   ]
  },
  {
   "cell_type": "code",
   "execution_count": 64,
   "id": "e40f3dca",
   "metadata": {
    "execution": {
     "iopub.execute_input": "2024-03-25T17:44:30.937727Z",
     "iopub.status.busy": "2024-03-25T17:44:30.937097Z",
     "iopub.status.idle": "2024-03-25T17:44:30.941345Z",
     "shell.execute_reply": "2024-03-25T17:44:30.940806Z",
     "shell.execute_reply.started": "2021-12-22T21:16:50.025776Z"
    },
    "papermill": {
     "duration": 0.137968,
     "end_time": "2024-03-25T17:44:30.941478",
     "exception": false,
     "start_time": "2024-03-25T17:44:30.803510",
     "status": "completed"
    },
    "tags": []
   },
   "outputs": [],
   "source": [
    "nb_pred = nb_clf.predict(X_test_tf)"
   ]
  },
  {
   "cell_type": "code",
   "execution_count": 65,
   "id": "23c451bb",
   "metadata": {
    "_kg_hide-input": true,
    "execution": {
     "iopub.execute_input": "2024-03-25T17:44:31.200243Z",
     "iopub.status.busy": "2024-03-25T17:44:31.199368Z",
     "iopub.status.idle": "2024-03-25T17:44:31.211693Z",
     "shell.execute_reply": "2024-03-25T17:44:31.211159Z",
     "shell.execute_reply.started": "2021-12-22T21:16:50.035146Z"
    },
    "papermill": {
     "duration": 0.142991,
     "end_time": "2024-03-25T17:44:31.211825",
     "exception": false,
     "start_time": "2024-03-25T17:44:31.068834",
     "status": "completed"
    },
    "tags": []
   },
   "outputs": [
    {
     "name": "stdout",
     "output_type": "stream",
     "text": [
      "\tClassification Report for Naive Bayes:\n",
      "\n",
      "               precision    recall  f1-score   support\n",
      "\n",
      "    Negative       0.71      0.78      0.74      1629\n",
      "     Neutral       0.60      0.45      0.52       614\n",
      "    Positive       0.73      0.73      0.73      1544\n",
      "\n",
      "    accuracy                           0.71      3787\n",
      "   macro avg       0.68      0.65      0.66      3787\n",
      "weighted avg       0.70      0.71      0.70      3787\n",
      "\n"
     ]
    }
   ],
   "source": [
    "print('\\tClassification Report for Naive Bayes:\\n\\n',classification_report(y_test_le,nb_pred, target_names=['Negative', 'Neutral', 'Positive']))"
   ]
  },
  {
   "cell_type": "markdown",
   "id": "a70fdcdf",
   "metadata": {
    "papermill": {
     "duration": 0.126344,
     "end_time": "2024-03-25T17:44:31.468863",
     "exception": false,
     "start_time": "2024-03-25T17:44:31.342519",
     "status": "completed"
    },
    "tags": []
   },
   "source": [
    "**The algorithm performance is not so bad. <br> The F1 score is around 70% for the more populated classes (Negative and Positive emotions), and lower for the Neutral class (F1=0.53).<br>\n",
    "In particular, the overall accuracy is 70%.**"
   ]
  },
  {
   "cell_type": "markdown",
   "id": "979aaff4",
   "metadata": {
    "papermill": {
     "duration": 0.126688,
     "end_time": "2024-03-25T17:44:31.721639",
     "exception": false,
     "start_time": "2024-03-25T17:44:31.594951",
     "status": "completed"
    },
    "tags": []
   },
   "source": [
    "In the next section we will perform the sentiment analysis using BERT."
   ]
  },
  {
   "cell_type": "markdown",
   "id": "3aea79e5",
   "metadata": {
    "papermill": {
     "duration": 0.12846,
     "end_time": "2024-03-25T17:44:31.977062",
     "exception": false,
     "start_time": "2024-03-25T17:44:31.848602",
     "status": "completed"
    },
    "tags": []
   },
   "source": [
    "# BERT Sentiment Analysis"
   ]
  },
  {
   "cell_type": "markdown",
   "id": "10aabdf0",
   "metadata": {
    "papermill": {
     "duration": 0.126689,
     "end_time": "2024-03-25T17:44:32.232579",
     "exception": false,
     "start_time": "2024-03-25T17:44:32.105890",
     "status": "completed"
    },
    "tags": []
   },
   "source": [
    "We already performed a basic analyis of the tokenized sentences, now we just need to define a custom tokenizer function and call the encode_plus method of the BERT tokenizer."
   ]
  },
  {
   "cell_type": "code",
   "execution_count": 66,
   "id": "ac60ba3c",
   "metadata": {
    "execution": {
     "iopub.execute_input": "2024-03-25T17:44:32.489586Z",
     "iopub.status.busy": "2024-03-25T17:44:32.488794Z",
     "iopub.status.idle": "2024-03-25T17:44:32.491628Z",
     "shell.execute_reply": "2024-03-25T17:44:32.490970Z",
     "shell.execute_reply.started": "2021-12-22T21:16:50.053103Z"
    },
    "papermill": {
     "duration": 0.132615,
     "end_time": "2024-03-25T17:44:32.491764",
     "exception": false,
     "start_time": "2024-03-25T17:44:32.359149",
     "status": "completed"
    },
    "tags": []
   },
   "outputs": [],
   "source": [
    "MAX_LEN=128"
   ]
  },
  {
   "cell_type": "code",
   "execution_count": 67,
   "id": "88fa1187",
   "metadata": {
    "execution": {
     "iopub.execute_input": "2024-03-25T17:44:32.754033Z",
     "iopub.status.busy": "2024-03-25T17:44:32.753088Z",
     "iopub.status.idle": "2024-03-25T17:44:32.755206Z",
     "shell.execute_reply": "2024-03-25T17:44:32.755649Z",
     "shell.execute_reply.started": "2021-12-22T21:16:50.05879Z"
    },
    "papermill": {
     "duration": 0.137426,
     "end_time": "2024-03-25T17:44:32.755849",
     "exception": false,
     "start_time": "2024-03-25T17:44:32.618423",
     "status": "completed"
    },
    "tags": []
   },
   "outputs": [],
   "source": [
    "def tokenize(data,max_len=MAX_LEN) :\n",
    "    input_ids = []\n",
    "    attention_masks = []\n",
    "    for i in range(len(data)):\n",
    "        encoded = tokenizer.encode_plus(\n",
    "            data[i],\n",
    "            add_special_tokens=True,\n",
    "            max_length=MAX_LEN,\n",
    "            padding='max_length',\n",
    "            return_attention_mask=True\n",
    "        )\n",
    "        input_ids.append(encoded['input_ids'])\n",
    "        attention_masks.append(encoded['attention_mask'])\n",
    "    return np.array(input_ids),np.array(attention_masks)"
   ]
  },
  {
   "cell_type": "markdown",
   "id": "8c0562cf",
   "metadata": {
    "papermill": {
     "duration": 0.126366,
     "end_time": "2024-03-25T17:44:33.008663",
     "exception": false,
     "start_time": "2024-03-25T17:44:32.882297",
     "status": "completed"
    },
    "tags": []
   },
   "source": [
    "Then, we apply the tokenizer function to the train, validation and test sets."
   ]
  },
  {
   "cell_type": "code",
   "execution_count": 68,
   "id": "02fa99f7",
   "metadata": {
    "execution": {
     "iopub.execute_input": "2024-03-25T17:44:33.276389Z",
     "iopub.status.busy": "2024-03-25T17:44:33.275466Z",
     "iopub.status.idle": "2024-03-25T17:44:50.184874Z",
     "shell.execute_reply": "2024-03-25T17:44:50.184335Z",
     "shell.execute_reply.started": "2021-12-22T21:16:50.068706Z"
    },
    "papermill": {
     "duration": 17.048663,
     "end_time": "2024-03-25T17:44:50.185038",
     "exception": false,
     "start_time": "2024-03-25T17:44:33.136375",
     "status": "completed"
    },
    "tags": []
   },
   "outputs": [],
   "source": [
    "train_input_ids, train_attention_masks = tokenize(X_train, MAX_LEN)\n",
    "val_input_ids, val_attention_masks = tokenize(X_valid, MAX_LEN)\n",
    "test_input_ids, test_attention_masks = tokenize(X_test, MAX_LEN)"
   ]
  },
  {
   "cell_type": "markdown",
   "id": "29c6a8ff",
   "metadata": {
    "papermill": {
     "duration": 0.127591,
     "end_time": "2024-03-25T17:44:50.440675",
     "exception": false,
     "start_time": "2024-03-25T17:44:50.313084",
     "status": "completed"
    },
    "tags": []
   },
   "source": [
    "# BERT modeling"
   ]
  },
  {
   "cell_type": "markdown",
   "id": "7c8c2ca4",
   "metadata": {
    "papermill": {
     "duration": 0.125718,
     "end_time": "2024-03-25T17:44:50.694716",
     "exception": false,
     "start_time": "2024-03-25T17:44:50.568998",
     "status": "completed"
    },
    "tags": []
   },
   "source": [
    "Now we can import the BERT model from the pretrained library from Hugging face."
   ]
  },
  {
   "cell_type": "code",
   "execution_count": 69,
   "id": "f00de04e",
   "metadata": {
    "_kg_hide-output": true,
    "execution": {
     "iopub.execute_input": "2024-03-25T17:44:50.955773Z",
     "iopub.status.busy": "2024-03-25T17:44:50.955122Z",
     "iopub.status.idle": "2024-03-25T17:45:10.918400Z",
     "shell.execute_reply": "2024-03-25T17:45:10.917787Z",
     "shell.execute_reply.started": "2021-12-22T21:17:05.895617Z"
    },
    "papermill": {
     "duration": 20.095815,
     "end_time": "2024-03-25T17:45:10.918549",
     "exception": false,
     "start_time": "2024-03-25T17:44:50.822734",
     "status": "completed"
    },
    "tags": []
   },
   "outputs": [
    {
     "data": {
      "application/vnd.jupyter.widget-view+json": {
       "model_id": "b59b8f220b9649388f407fddfa451083",
       "version_major": 2,
       "version_minor": 0
      },
      "text/plain": [
       "Downloading:   0%|          | 0.00/511M [00:00<?, ?B/s]"
      ]
     },
     "metadata": {},
     "output_type": "display_data"
    },
    {
     "name": "stderr",
     "output_type": "stream",
     "text": [
      "Some layers from the model checkpoint at bert-base-uncased were not used when initializing TFBertModel: ['mlm___cls', 'nsp___cls']\n",
      "- This IS expected if you are initializing TFBertModel from the checkpoint of a model trained on another task or with another architecture (e.g. initializing a BertForSequenceClassification model from a BertForPreTraining model).\n",
      "- This IS NOT expected if you are initializing TFBertModel from the checkpoint of a model that you expect to be exactly identical (initializing a BertForSequenceClassification model from a BertForSequenceClassification model).\n",
      "All the layers of TFBertModel were initialized from the model checkpoint at bert-base-uncased.\n",
      "If your task is similar to the task the model of the checkpoint was trained on, you can already use TFBertModel for predictions without further training.\n"
     ]
    }
   ],
   "source": [
    "bert_model = TFBertModel.from_pretrained('bert-base-uncased')"
   ]
  },
  {
   "cell_type": "markdown",
   "id": "6f2058ea",
   "metadata": {
    "papermill": {
     "duration": 0.127944,
     "end_time": "2024-03-25T17:45:11.174755",
     "exception": false,
     "start_time": "2024-03-25T17:45:11.046811",
     "status": "completed"
    },
    "tags": []
   },
   "source": [
    "Then, we create a custom function to host the pre trained BERT model, and attach to it a 3 neurons output layer, necessary to perform the classification of the 3 different classes of the dataset (the 3 emotions)."
   ]
  },
  {
   "cell_type": "code",
   "execution_count": 70,
   "id": "0b248ce5",
   "metadata": {
    "execution": {
     "iopub.execute_input": "2024-03-25T17:45:11.441480Z",
     "iopub.status.busy": "2024-03-25T17:45:11.440776Z",
     "iopub.status.idle": "2024-03-25T17:45:11.443384Z",
     "shell.execute_reply": "2024-03-25T17:45:11.442892Z",
     "shell.execute_reply.started": "2021-12-22T21:17:08.744596Z"
    },
    "papermill": {
     "duration": 0.139432,
     "end_time": "2024-03-25T17:45:11.443518",
     "exception": false,
     "start_time": "2024-03-25T17:45:11.304086",
     "status": "completed"
    },
    "tags": []
   },
   "outputs": [],
   "source": [
    "def create_model(bert_model, max_len=MAX_LEN):\n",
    "    \n",
    "    ##params###\n",
    "    opt = tf.keras.optimizers.Adam(learning_rate=1e-5, decay=1e-7)\n",
    "    loss = tf.keras.losses.CategoricalCrossentropy()\n",
    "    accuracy = tf.keras.metrics.CategoricalAccuracy()\n",
    "\n",
    "\n",
    "    input_ids = tf.keras.Input(shape=(max_len,),dtype='int32')\n",
    "    \n",
    "    attention_masks = tf.keras.Input(shape=(max_len,),dtype='int32')\n",
    "    \n",
    "    embeddings = bert_model([input_ids,attention_masks])[1]\n",
    "    \n",
    "    output = tf.keras.layers.Dense(3, activation=\"softmax\")(embeddings)\n",
    "    \n",
    "    model = tf.keras.models.Model(inputs = [input_ids,attention_masks], outputs = output)\n",
    "    \n",
    "    model.compile(opt, loss=loss, metrics=accuracy)\n",
    "    \n",
    "    \n",
    "    return model"
   ]
  },
  {
   "cell_type": "code",
   "execution_count": 71,
   "id": "9f47cdb7",
   "metadata": {
    "execution": {
     "iopub.execute_input": "2024-03-25T17:45:11.727962Z",
     "iopub.status.busy": "2024-03-25T17:45:11.727110Z",
     "iopub.status.idle": "2024-03-25T17:45:19.141414Z",
     "shell.execute_reply": "2024-03-25T17:45:19.140769Z",
     "shell.execute_reply.started": "2021-12-22T21:17:08.753596Z"
    },
    "papermill": {
     "duration": 7.57135,
     "end_time": "2024-03-25T17:45:19.141578",
     "exception": false,
     "start_time": "2024-03-25T17:45:11.570228",
     "status": "completed"
    },
    "tags": []
   },
   "outputs": [
    {
     "name": "stdout",
     "output_type": "stream",
     "text": [
      "Model: \"model\"\n",
      "__________________________________________________________________________________________________\n",
      "Layer (type)                    Output Shape         Param #     Connected to                     \n",
      "==================================================================================================\n",
      "input_1 (InputLayer)            [(None, 128)]        0                                            \n",
      "__________________________________________________________________________________________________\n",
      "input_2 (InputLayer)            [(None, 128)]        0                                            \n",
      "__________________________________________________________________________________________________\n",
      "tf_bert_model (TFBertModel)     TFBaseModelOutputWit 109482240   input_1[0][0]                    \n",
      "                                                                 input_2[0][0]                    \n",
      "__________________________________________________________________________________________________\n",
      "dense (Dense)                   (None, 3)            2307        tf_bert_model[0][1]              \n",
      "==================================================================================================\n",
      "Total params: 109,484,547\n",
      "Trainable params: 109,484,547\n",
      "Non-trainable params: 0\n",
      "__________________________________________________________________________________________________\n"
     ]
    }
   ],
   "source": [
    "model = create_model(bert_model, MAX_LEN)\n",
    "model.summary()"
   ]
  },
  {
   "cell_type": "markdown",
   "id": "f0767705",
   "metadata": {
    "papermill": {
     "duration": 0.127027,
     "end_time": "2024-03-25T17:45:19.398778",
     "exception": false,
     "start_time": "2024-03-25T17:45:19.271751",
     "status": "completed"
    },
    "tags": []
   },
   "source": [
    "Finally we can start fine tuning the BERT transformer !"
   ]
  },
  {
   "cell_type": "code",
   "execution_count": 72,
   "id": "a13d8d84",
   "metadata": {
    "execution": {
     "iopub.execute_input": "2024-03-25T17:45:19.662386Z",
     "iopub.status.busy": "2024-03-25T17:45:19.661718Z",
     "iopub.status.idle": "2024-03-25T18:34:40.834285Z",
     "shell.execute_reply": "2024-03-25T18:34:40.835124Z",
     "shell.execute_reply.started": "2021-12-22T21:17:10.213816Z"
    },
    "papermill": {
     "duration": 2961.309123,
     "end_time": "2024-03-25T18:34:40.835378",
     "exception": false,
     "start_time": "2024-03-25T17:45:19.526255",
     "status": "completed"
    },
    "tags": []
   },
   "outputs": [
    {
     "name": "stdout",
     "output_type": "stream",
     "text": [
      "Epoch 1/4\n",
      "1519/1519 [==============================] - 754s 486ms/step - loss: 0.5517 - categorical_accuracy: 0.7810 - val_loss: 0.3785 - val_categorical_accuracy: 0.8626\n",
      "Epoch 2/4\n",
      "1519/1519 [==============================] - 735s 484ms/step - loss: 0.2933 - categorical_accuracy: 0.8982 - val_loss: 0.2826 - val_categorical_accuracy: 0.8941\n",
      "Epoch 3/4\n",
      "1519/1519 [==============================] - 735s 484ms/step - loss: 0.1948 - categorical_accuracy: 0.9335 - val_loss: 0.2420 - val_categorical_accuracy: 0.9157\n",
      "Epoch 4/4\n",
      "1519/1519 [==============================] - 735s 484ms/step - loss: 0.1361 - categorical_accuracy: 0.9543 - val_loss: 0.2195 - val_categorical_accuracy: 0.9265\n"
     ]
    }
   ],
   "source": [
    "history_bert = model.fit([train_input_ids,train_attention_masks], y_train, validation_data=([val_input_ids,val_attention_masks], y_valid), epochs=4, batch_size=32)"
   ]
  },
  {
   "cell_type": "markdown",
   "id": "8b9f05ce",
   "metadata": {
    "papermill": {
     "duration": 2.091681,
     "end_time": "2024-03-25T18:34:45.056181",
     "exception": false,
     "start_time": "2024-03-25T18:34:42.964500",
     "status": "completed"
    },
    "tags": []
   },
   "source": [
    "# BERT results"
   ]
  },
  {
   "cell_type": "code",
   "execution_count": 73,
   "id": "7528a8ec",
   "metadata": {
    "execution": {
     "iopub.execute_input": "2024-03-25T18:34:49.266254Z",
     "iopub.status.busy": "2024-03-25T18:34:49.257548Z",
     "iopub.status.idle": "2024-03-25T18:35:10.537322Z",
     "shell.execute_reply": "2024-03-25T18:35:10.536724Z",
     "shell.execute_reply.started": "2021-12-22T22:06:54.441287Z"
    },
    "papermill": {
     "duration": 23.408281,
     "end_time": "2024-03-25T18:35:10.537489",
     "exception": false,
     "start_time": "2024-03-25T18:34:47.129208",
     "status": "completed"
    },
    "tags": []
   },
   "outputs": [],
   "source": [
    "result_bert = model.predict([test_input_ids,test_attention_masks])"
   ]
  },
  {
   "cell_type": "code",
   "execution_count": 74,
   "id": "8d96baf0",
   "metadata": {
    "execution": {
     "iopub.execute_input": "2024-03-25T18:35:14.749472Z",
     "iopub.status.busy": "2024-03-25T18:35:14.748785Z",
     "iopub.status.idle": "2024-03-25T18:35:14.751788Z",
     "shell.execute_reply": "2024-03-25T18:35:14.751208Z",
     "shell.execute_reply.started": "2021-12-22T22:07:16.081482Z"
    },
    "papermill": {
     "duration": 2.09681,
     "end_time": "2024-03-25T18:35:14.751915",
     "exception": false,
     "start_time": "2024-03-25T18:35:12.655105",
     "status": "completed"
    },
    "tags": []
   },
   "outputs": [],
   "source": [
    "y_pred_bert =  np.zeros_like(result_bert)\n",
    "y_pred_bert[np.arange(len(y_pred_bert)), result_bert.argmax(1)] = 1"
   ]
  },
  {
   "cell_type": "code",
   "execution_count": 75,
   "id": "9dcfe686",
   "metadata": {
    "_kg_hide-input": true,
    "execution": {
     "iopub.execute_input": "2024-03-25T18:35:18.951329Z",
     "iopub.status.busy": "2024-03-25T18:35:18.950045Z",
     "iopub.status.idle": "2024-03-25T18:35:19.223905Z",
     "shell.execute_reply": "2024-03-25T18:35:19.224616Z",
     "shell.execute_reply.started": "2021-12-22T22:07:16.089414Z"
    },
    "papermill": {
     "duration": 2.40813,
     "end_time": "2024-03-25T18:35:19.224854",
     "exception": false,
     "start_time": "2024-03-25T18:35:16.816724",
     "status": "completed"
    },
    "tags": []
   },
   "outputs": [
    {
     "data": {
      "image/png": "[encoded data removed]",
      "text/plain": [
       "<Figure size 360x360 with 1 Axes>"
      ]
     },
     "metadata": {},
     "output_type": "display_data"
    }
   ],
   "source": [
    "conf_matrix(y_test.argmax(1), y_pred_bert.argmax(1),'BERT Sentiment Analysis\\nConfusion Matrix')"
   ]
  },
  {
   "cell_type": "code",
   "execution_count": 76,
   "id": "bd074e4b",
   "metadata": {
    "_kg_hide-input": true,
    "execution": {
     "iopub.execute_input": "2024-03-25T18:35:23.433707Z",
     "iopub.status.busy": "2024-03-25T18:35:23.433036Z",
     "iopub.status.idle": "2024-03-25T18:35:23.454479Z",
     "shell.execute_reply": "2024-03-25T18:35:23.454906Z",
     "shell.execute_reply.started": "2021-12-22T22:07:16.320653Z"
    },
    "papermill": {
     "duration": 2.115437,
     "end_time": "2024-03-25T18:35:23.455116",
     "exception": false,
     "start_time": "2024-03-25T18:35:21.339679",
     "status": "completed"
    },
    "tags": []
   },
   "outputs": [
    {
     "name": "stdout",
     "output_type": "stream",
     "text": [
      "\tClassification Report for BERT:\n",
      "\n",
      "               precision    recall  f1-score   support\n",
      "\n",
      "    Negative       0.90      0.91      0.90      1629\n",
      "     Neutral       0.83      0.82      0.82       614\n",
      "    Positive       0.91      0.90      0.91      1544\n",
      "\n",
      "   micro avg       0.89      0.89      0.89      3787\n",
      "   macro avg       0.88      0.88      0.88      3787\n",
      "weighted avg       0.89      0.89      0.89      3787\n",
      " samples avg       0.89      0.89      0.89      3787\n",
      "\n"
     ]
    }
   ],
   "source": [
    "print('\\tClassification Report for BERT:\\n\\n',classification_report(y_test,y_pred_bert, target_names=['Negative', 'Neutral', 'Positive']))"
   ]
  },
  {
   "cell_type": "markdown",
   "id": "1c3eb77f",
   "metadata": {
    "papermill": {
     "duration": 2.121541,
     "end_time": "2024-03-25T18:35:27.676741",
     "exception": false,
     "start_time": "2024-03-25T18:35:25.555200",
     "status": "completed"
    },
    "tags": []
   },
   "source": [
    "# RoBERTa Sentiment Analysis"
   ]
  },
  {
   "cell_type": "markdown",
   "id": "eb0750a3",
   "metadata": {
    "papermill": {
     "duration": 2.073679,
     "end_time": "2024-03-25T18:35:31.887727",
     "exception": false,
     "start_time": "2024-03-25T18:35:29.814048",
     "status": "completed"
    },
    "tags": []
   },
   "source": [
    "As seen for BERT, we first import the tokenizer used to train the original roberta transformer by Facebook."
   ]
  },
  {
   "cell_type": "code",
   "execution_count": 77,
   "id": "fe6ac584",
   "metadata": {
    "_kg_hide-output": true,
    "execution": {
     "iopub.execute_input": "2024-03-25T18:35:36.171539Z",
     "iopub.status.busy": "2024-03-25T18:35:36.170822Z",
     "iopub.status.idle": "2024-03-25T18:35:38.533068Z",
     "shell.execute_reply": "2024-03-25T18:35:38.532434Z",
     "shell.execute_reply.started": "2021-12-22T22:08:43.116627Z"
    },
    "papermill": {
     "duration": 4.496952,
     "end_time": "2024-03-25T18:35:38.533219",
     "exception": false,
     "start_time": "2024-03-25T18:35:34.036267",
     "status": "completed"
    },
    "tags": []
   },
   "outputs": [
    {
     "data": {
      "application/vnd.jupyter.widget-view+json": {
       "model_id": "33dc4c9b19f94bf88d83546578647349",
       "version_major": 2,
       "version_minor": 0
      },
      "text/plain": [
       "Downloading:   0%|          | 0.00/878k [00:00<?, ?B/s]"
      ]
     },
     "metadata": {},
     "output_type": "display_data"
    },
    {
     "data": {
      "application/vnd.jupyter.widget-view+json": {
       "model_id": "fa5eec78b6c14e4795d9eea1a4c50652",
       "version_major": 2,
       "version_minor": 0
      },
      "text/plain": [
       "Downloading:   0%|          | 0.00/446k [00:00<?, ?B/s]"
      ]
     },
     "metadata": {},
     "output_type": "display_data"
    },
    {
     "data": {
      "application/vnd.jupyter.widget-view+json": {
       "model_id": "a80538e0596a427b89c8cc883b27fabf",
       "version_major": 2,
       "version_minor": 0
      },
      "text/plain": [
       "Downloading:   0%|          | 0.00/1.29M [00:00<?, ?B/s]"
      ]
     },
     "metadata": {},
     "output_type": "display_data"
    },
    {
     "data": {
      "application/vnd.jupyter.widget-view+json": {
       "model_id": "cefae18071d943558480e183972dcc37",
       "version_major": 2,
       "version_minor": 0
      },
      "text/plain": [
       "Downloading:   0%|          | 0.00/25.0 [00:00<?, ?B/s]"
      ]
     },
     "metadata": {},
     "output_type": "display_data"
    },
    {
     "data": {
      "application/vnd.jupyter.widget-view+json": {
       "model_id": "5cde363b4c99477b80145baeb2211335",
       "version_major": 2,
       "version_minor": 0
      },
      "text/plain": [
       "Downloading:   0%|          | 0.00/481 [00:00<?, ?B/s]"
      ]
     },
     "metadata": {},
     "output_type": "display_data"
    }
   ],
   "source": [
    "tokenizer_roberta = RobertaTokenizerFast.from_pretrained(\"roberta-base\")"
   ]
  },
  {
   "cell_type": "markdown",
   "id": "9010a618",
   "metadata": {
    "papermill": {
     "duration": 2.088358,
     "end_time": "2024-03-25T18:35:42.728275",
     "exception": false,
     "start_time": "2024-03-25T18:35:40.639917",
     "status": "completed"
    },
    "tags": []
   },
   "source": [
    "First, we check the length of the longest tokenized sentence by roberta tokenizer:"
   ]
  },
  {
   "cell_type": "code",
   "execution_count": 78,
   "id": "0944cd11",
   "metadata": {
    "execution": {
     "iopub.execute_input": "2024-03-25T18:35:46.976744Z",
     "iopub.status.busy": "2024-03-25T18:35:46.976025Z",
     "iopub.status.idle": "2024-03-25T18:35:56.006295Z",
     "shell.execute_reply": "2024-03-25T18:35:56.005710Z",
     "shell.execute_reply.started": "2021-12-22T22:08:50.651524Z"
    },
    "papermill": {
     "duration": 11.139369,
     "end_time": "2024-03-25T18:35:56.006443",
     "exception": false,
     "start_time": "2024-03-25T18:35:44.867074",
     "status": "completed"
    },
    "tags": []
   },
   "outputs": [
    {
     "data": {
      "text/plain": [
       "89"
      ]
     },
     "execution_count": 78,
     "metadata": {},
     "output_type": "execute_result"
    }
   ],
   "source": [
    "token_lens = []\n",
    "\n",
    "for txt in X_train:\n",
    "    tokens = tokenizer_roberta.encode(txt, max_length=512, truncation=True)\n",
    "    token_lens.append(len(tokens))\n",
    "max_length=np.max(token_lens)\n",
    "max_length"
   ]
  },
  {
   "cell_type": "code",
   "execution_count": 79,
   "id": "3048ce1d",
   "metadata": {
    "execution": {
     "iopub.execute_input": "2024-03-25T18:36:00.224187Z",
     "iopub.status.busy": "2024-03-25T18:36:00.223564Z",
     "iopub.status.idle": "2024-03-25T18:36:00.226534Z",
     "shell.execute_reply": "2024-03-25T18:36:00.226058Z",
     "shell.execute_reply.started": "2021-12-22T22:09:00.111146Z"
    },
    "papermill": {
     "duration": 2.088939,
     "end_time": "2024-03-25T18:36:00.226666",
     "exception": false,
     "start_time": "2024-03-25T18:35:58.137727",
     "status": "completed"
    },
    "tags": []
   },
   "outputs": [],
   "source": [
    "MAX_LEN=128"
   ]
  },
  {
   "cell_type": "markdown",
   "id": "d0591fe4",
   "metadata": {
    "papermill": {
     "duration": 2.12894,
     "end_time": "2024-03-25T18:36:04.433804",
     "exception": false,
     "start_time": "2024-03-25T18:36:02.304864",
     "status": "completed"
    },
    "tags": []
   },
   "source": [
    "Then we can define the tokenization function"
   ]
  },
  {
   "cell_type": "code",
   "execution_count": 80,
   "id": "899fb4df",
   "metadata": {
    "execution": {
     "iopub.execute_input": "2024-03-25T18:36:08.678253Z",
     "iopub.status.busy": "2024-03-25T18:36:08.677171Z",
     "iopub.status.idle": "2024-03-25T18:36:08.680138Z",
     "shell.execute_reply": "2024-03-25T18:36:08.679499Z",
     "shell.execute_reply.started": "2021-12-22T22:09:00.117704Z"
    },
    "papermill": {
     "duration": 2.135092,
     "end_time": "2024-03-25T18:36:08.680277",
     "exception": false,
     "start_time": "2024-03-25T18:36:06.545185",
     "status": "completed"
    },
    "tags": []
   },
   "outputs": [],
   "source": [
    "def tokenize_roberta(data,max_len=MAX_LEN) :\n",
    "    input_ids = []\n",
    "    attention_masks = []\n",
    "    for i in range(len(data)):\n",
    "        encoded = tokenizer_roberta.encode_plus(\n",
    "            data[i],\n",
    "            add_special_tokens=True,\n",
    "            max_length=max_len,\n",
    "            padding='max_length',\n",
    "            return_attention_mask=True\n",
    "        )\n",
    "        input_ids.append(encoded['input_ids'])\n",
    "        attention_masks.append(encoded['attention_mask'])\n",
    "    return np.array(input_ids),np.array(attention_masks)"
   ]
  },
  {
   "cell_type": "code",
   "execution_count": 81,
   "id": "76901efe",
   "metadata": {
    "execution": {
     "iopub.execute_input": "2024-03-25T18:36:12.838920Z",
     "iopub.status.busy": "2024-03-25T18:36:12.837970Z",
     "iopub.status.idle": "2024-03-25T18:36:28.873660Z",
     "shell.execute_reply": "2024-03-25T18:36:28.873112Z",
     "shell.execute_reply.started": "2021-12-22T22:09:00.128626Z"
    },
    "papermill": {
     "duration": 18.116191,
     "end_time": "2024-03-25T18:36:28.873809",
     "exception": false,
     "start_time": "2024-03-25T18:36:10.757618",
     "status": "completed"
    },
    "tags": []
   },
   "outputs": [],
   "source": [
    "train_input_ids, train_attention_masks = tokenize_roberta(X_train, MAX_LEN)\n",
    "val_input_ids, val_attention_masks = tokenize_roberta(X_valid, MAX_LEN)\n",
    "test_input_ids, test_attention_masks = tokenize_roberta(X_test, MAX_LEN)"
   ]
  },
  {
   "cell_type": "markdown",
   "id": "1de2c40e",
   "metadata": {
    "papermill": {
     "duration": 2.126953,
     "end_time": "2024-03-25T18:36:33.083756",
     "exception": false,
     "start_time": "2024-03-25T18:36:30.956803",
     "status": "completed"
    },
    "tags": []
   },
   "source": [
    "# RoBERTa modeling"
   ]
  },
  {
   "cell_type": "code",
   "execution_count": 82,
   "id": "b36e067b",
   "metadata": {
    "execution": {
     "iopub.execute_input": "2024-03-25T18:36:37.322566Z",
     "iopub.status.busy": "2024-03-25T18:36:37.321895Z",
     "iopub.status.idle": "2024-03-25T18:36:37.324545Z",
     "shell.execute_reply": "2024-03-25T18:36:37.324032Z",
     "shell.execute_reply.started": "2021-12-22T22:09:16.275433Z"
    },
    "papermill": {
     "duration": 2.133063,
     "end_time": "2024-03-25T18:36:37.324673",
     "exception": false,
     "start_time": "2024-03-25T18:36:35.191610",
     "status": "completed"
    },
    "tags": []
   },
   "outputs": [],
   "source": [
    "def create_model(bert_model, max_len=MAX_LEN):\n",
    "    \n",
    "    opt = tf.keras.optimizers.Adam(learning_rate=1e-5, decay=1e-7)\n",
    "    loss = tf.keras.losses.CategoricalCrossentropy()\n",
    "    accuracy = tf.keras.metrics.CategoricalAccuracy()\n",
    "\n",
    "    input_ids = tf.keras.Input(shape=(max_len,),dtype='int32')\n",
    "    attention_masks = tf.keras.Input(shape=(max_len,),dtype='int32')\n",
    "    output = bert_model([input_ids,attention_masks])\n",
    "    output = output[1]\n",
    "    output = tf.keras.layers.Dense(3, activation=tf.nn.softmax)(output)\n",
    "    model = tf.keras.models.Model(inputs = [input_ids,attention_masks],outputs = output)\n",
    "    model.compile(opt, loss=loss, metrics=accuracy)\n",
    "    return model"
   ]
  },
  {
   "cell_type": "code",
   "execution_count": 83,
   "id": "34fe5624",
   "metadata": {
    "_kg_hide-output": true,
    "execution": {
     "iopub.execute_input": "2024-03-25T18:36:41.566994Z",
     "iopub.status.busy": "2024-03-25T18:36:41.566368Z",
     "iopub.status.idle": "2024-03-25T18:36:58.210037Z",
     "shell.execute_reply": "2024-03-25T18:36:58.209523Z",
     "shell.execute_reply.started": "2021-12-22T22:09:16.284069Z"
    },
    "papermill": {
     "duration": 18.77378,
     "end_time": "2024-03-25T18:36:58.210172",
     "exception": false,
     "start_time": "2024-03-25T18:36:39.436392",
     "status": "completed"
    },
    "tags": []
   },
   "outputs": [
    {
     "data": {
      "application/vnd.jupyter.widget-view+json": {
       "model_id": "d78b90f9e79b4ff89d1b168c85dd58fd",
       "version_major": 2,
       "version_minor": 0
      },
      "text/plain": [
       "Downloading:   0%|          | 0.00/627M [00:00<?, ?B/s]"
      ]
     },
     "metadata": {},
     "output_type": "display_data"
    },
    {
     "name": "stderr",
     "output_type": "stream",
     "text": [
      "Some layers from the model checkpoint at roberta-base were not used when initializing TFRobertaModel: ['lm_head']\n",
      "- This IS expected if you are initializing TFRobertaModel from the checkpoint of a model trained on another task or with another architecture (e.g. initializing a BertForSequenceClassification model from a BertForPreTraining model).\n",
      "- This IS NOT expected if you are initializing TFRobertaModel from the checkpoint of a model that you expect to be exactly identical (initializing a BertForSequenceClassification model from a BertForSequenceClassification model).\n",
      "All the layers of TFRobertaModel were initialized from the model checkpoint at roberta-base.\n",
      "If your task is similar to the task the model of the checkpoint was trained on, you can already use TFRobertaModel for predictions without further training.\n"
     ]
    }
   ],
   "source": [
    "roberta_model = TFRobertaModel.from_pretrained('roberta-base')"
   ]
  },
  {
   "cell_type": "code",
   "execution_count": 84,
   "id": "de99fc10",
   "metadata": {
    "execution": {
     "iopub.execute_input": "2024-03-25T18:37:02.387356Z",
     "iopub.status.busy": "2024-03-25T18:37:02.386398Z",
     "iopub.status.idle": "2024-03-25T18:37:06.990336Z",
     "shell.execute_reply": "2024-03-25T18:37:06.990919Z",
     "shell.execute_reply.started": "2021-12-22T22:09:19.203453Z"
    },
    "papermill": {
     "duration": 6.70135,
     "end_time": "2024-03-25T18:37:06.991119",
     "exception": false,
     "start_time": "2024-03-25T18:37:00.289769",
     "status": "completed"
    },
    "tags": []
   },
   "outputs": [
    {
     "name": "stdout",
     "output_type": "stream",
     "text": [
      "Model: \"model_1\"\n",
      "__________________________________________________________________________________________________\n",
      "Layer (type)                    Output Shape         Param #     Connected to                     \n",
      "==================================================================================================\n",
      "input_3 (InputLayer)            [(None, 128)]        0                                            \n",
      "__________________________________________________________________________________________________\n",
      "input_4 (InputLayer)            [(None, 128)]        0                                            \n",
      "__________________________________________________________________________________________________\n",
      "tf_roberta_model (TFRobertaMode TFBaseModelOutputWit 124645632   input_3[0][0]                    \n",
      "                                                                 input_4[0][0]                    \n",
      "__________________________________________________________________________________________________\n",
      "dense_1 (Dense)                 (None, 3)            2307        tf_roberta_model[0][1]           \n",
      "==================================================================================================\n",
      "Total params: 124,647,939\n",
      "Trainable params: 124,647,939\n",
      "Non-trainable params: 0\n",
      "__________________________________________________________________________________________________\n"
     ]
    }
   ],
   "source": [
    "model = create_model(roberta_model, MAX_LEN)\n",
    "model.summary()"
   ]
  },
  {
   "cell_type": "code",
   "execution_count": 85,
   "id": "0d77daea",
   "metadata": {
    "execution": {
     "iopub.execute_input": "2024-03-25T18:37:11.242537Z",
     "iopub.status.busy": "2024-03-25T18:37:11.241818Z",
     "iopub.status.idle": "2024-03-25T19:28:16.969751Z",
     "shell.execute_reply": "2024-03-25T19:28:16.970347Z",
     "shell.execute_reply.started": "2021-12-22T22:09:21.497746Z"
    },
    "papermill": {
     "duration": 3067.840658,
     "end_time": "2024-03-25T19:28:16.970529",
     "exception": false,
     "start_time": "2024-03-25T18:37:09.129871",
     "status": "completed"
    },
    "tags": []
   },
   "outputs": [
    {
     "name": "stdout",
     "output_type": "stream",
     "text": [
      "Epoch 1/4\n",
      "1620/1620 [==============================] - 777s 471ms/step - loss: 0.5605 - categorical_accuracy: 0.7749 - val_loss: 0.4362 - val_categorical_accuracy: 0.8446\n",
      "Epoch 2/4\n",
      "1620/1620 [==============================] - 762s 470ms/step - loss: 0.3361 - categorical_accuracy: 0.8802 - val_loss: 0.3497 - val_categorical_accuracy: 0.8774\n",
      "Epoch 3/4\n",
      "1620/1620 [==============================] - 761s 470ms/step - loss: 0.2509 - categorical_accuracy: 0.9121 - val_loss: 0.2831 - val_categorical_accuracy: 0.8983\n",
      "Epoch 4/4\n",
      "1620/1620 [==============================] - 761s 470ms/step - loss: 0.1943 - categorical_accuracy: 0.9327 - val_loss: 0.2514 - val_categorical_accuracy: 0.9143\n"
     ]
    }
   ],
   "source": [
    "history_2 = model.fit([train_input_ids,train_attention_masks], y_train, validation_data=([val_input_ids,val_attention_masks], y_valid), epochs=4, batch_size=30)"
   ]
  },
  {
   "cell_type": "markdown",
   "id": "fd9af628",
   "metadata": {
    "papermill": {
     "duration": 4.318806,
     "end_time": "2024-03-25T19:28:25.481397",
     "exception": false,
     "start_time": "2024-03-25T19:28:21.162591",
     "status": "completed"
    },
    "tags": []
   },
   "source": [
    "# RoBERTa results"
   ]
  },
  {
   "cell_type": "code",
   "execution_count": 86,
   "id": "38a09591",
   "metadata": {
    "execution": {
     "iopub.execute_input": "2024-03-25T19:28:33.943163Z",
     "iopub.status.busy": "2024-03-25T19:28:33.942516Z",
     "iopub.status.idle": "2024-03-25T19:28:55.624024Z",
     "shell.execute_reply": "2024-03-25T19:28:55.624550Z",
     "shell.execute_reply.started": "2021-12-22T23:01:57.162754Z"
    },
    "papermill": {
     "duration": 25.9058,
     "end_time": "2024-03-25T19:28:55.624739",
     "exception": false,
     "start_time": "2024-03-25T19:28:29.718939",
     "status": "completed"
    },
    "tags": []
   },
   "outputs": [],
   "source": [
    "result_roberta = model.predict([test_input_ids,test_attention_masks])"
   ]
  },
  {
   "cell_type": "code",
   "execution_count": 87,
   "id": "a299913a",
   "metadata": {
    "execution": {
     "iopub.execute_input": "2024-03-25T19:29:04.079884Z",
     "iopub.status.busy": "2024-03-25T19:29:04.078938Z",
     "iopub.status.idle": "2024-03-25T19:29:04.081414Z",
     "shell.execute_reply": "2024-03-25T19:29:04.080872Z",
     "shell.execute_reply.started": "2021-12-22T23:02:18.818691Z"
    },
    "papermill": {
     "duration": 4.279981,
     "end_time": "2024-03-25T19:29:04.081556",
     "exception": false,
     "start_time": "2024-03-25T19:28:59.801575",
     "status": "completed"
    },
    "tags": []
   },
   "outputs": [],
   "source": [
    "y_pred_roberta =  np.zeros_like(result_roberta)\n",
    "y_pred_roberta[np.arange(len(y_pred_roberta)), result_roberta.argmax(1)] = 1"
   ]
  },
  {
   "cell_type": "code",
   "execution_count": 88,
   "id": "ec1a14c1",
   "metadata": {
    "_kg_hide-input": true,
    "execution": {
     "iopub.execute_input": "2024-03-25T19:29:12.519502Z",
     "iopub.status.busy": "2024-03-25T19:29:12.518849Z",
     "iopub.status.idle": "2024-03-25T19:29:12.682794Z",
     "shell.execute_reply": "2024-03-25T19:29:12.683755Z",
     "shell.execute_reply.started": "2021-12-22T23:02:18.826804Z"
    },
    "papermill": {
     "duration": 4.447578,
     "end_time": "2024-03-25T19:29:12.684064",
     "exception": false,
     "start_time": "2024-03-25T19:29:08.236486",
     "status": "completed"
    },
    "tags": []
   },
   "outputs": [
    {
     "data": {
      "image/png": "[encoded data removed]",
      "text/plain": [
       "<Figure size 360x360 with 1 Axes>"
      ]
     },
     "metadata": {},
     "output_type": "display_data"
    }
   ],
   "source": [
    "conf_matrix(y_test.argmax(1),y_pred_roberta.argmax(1),'RoBERTa Sentiment Analysis\\nConfusion Matrix')"
   ]
  },
  {
   "cell_type": "code",
   "execution_count": 89,
   "id": "38f37699",
   "metadata": {
    "_kg_hide-input": true,
    "execution": {
     "iopub.execute_input": "2024-03-25T19:29:21.097384Z",
     "iopub.status.busy": "2024-03-25T19:29:21.096426Z",
     "iopub.status.idle": "2024-03-25T19:29:21.115465Z",
     "shell.execute_reply": "2024-03-25T19:29:21.115940Z",
     "shell.execute_reply.started": "2021-12-22T23:02:19.071583Z"
    },
    "papermill": {
     "duration": 4.218126,
     "end_time": "2024-03-25T19:29:21.116165",
     "exception": false,
     "start_time": "2024-03-25T19:29:16.898039",
     "status": "completed"
    },
    "tags": []
   },
   "outputs": [
    {
     "name": "stdout",
     "output_type": "stream",
     "text": [
      "\tClassification Report for RoBERTa:\n",
      "\n",
      "               precision    recall  f1-score   support\n",
      "\n",
      "    Negative       0.88      0.91      0.89      1629\n",
      "     Neutral       0.81      0.78      0.79       614\n",
      "    Positive       0.91      0.89      0.90      1544\n",
      "\n",
      "   micro avg       0.88      0.88      0.88      3787\n",
      "   macro avg       0.87      0.86      0.86      3787\n",
      "weighted avg       0.88      0.88      0.88      3787\n",
      " samples avg       0.88      0.88      0.88      3787\n",
      "\n"
     ]
    }
   ],
   "source": [
    "print('\\tClassification Report for RoBERTa:\\n\\n',classification_report(y_test,y_pred_roberta, target_names=['Negative', 'Neutral', 'Positive']))"
   ]
  },
  {
   "cell_type": "markdown",
   "id": "91aa0ab7",
   "metadata": {
    "papermill": {
     "duration": 4.336526,
     "end_time": "2024-03-25T19:29:29.740711",
     "exception": false,
     "start_time": "2024-03-25T19:29:25.404185",
     "status": "completed"
    },
    "tags": []
   },
   "source": [
    "# Results Summary"
   ]
  },
  {
   "cell_type": "markdown",
   "id": "3584f250",
   "metadata": {
    "papermill": {
     "duration": 4.212905,
     "end_time": "2024-03-25T19:29:38.240804",
     "exception": false,
     "start_time": "2024-03-25T19:29:34.027899",
     "status": "completed"
    },
    "tags": []
   },
   "source": [
    "## BERT Classification Report"
   ]
  },
  {
   "cell_type": "code",
   "execution_count": 90,
   "id": "4cad2de9",
   "metadata": {
    "_kg_hide-input": true,
    "execution": {
     "iopub.execute_input": "2024-03-25T19:29:46.763090Z",
     "iopub.status.busy": "2024-03-25T19:29:46.762172Z",
     "iopub.status.idle": "2024-03-25T19:29:46.780831Z",
     "shell.execute_reply": "2024-03-25T19:29:46.781305Z",
     "shell.execute_reply.started": "2021-12-22T23:03:50.712244Z"
    },
    "papermill": {
     "duration": 4.25175,
     "end_time": "2024-03-25T19:29:46.781467",
     "exception": false,
     "start_time": "2024-03-25T19:29:42.529717",
     "status": "completed"
    },
    "tags": []
   },
   "outputs": [
    {
     "name": "stdout",
     "output_type": "stream",
     "text": [
      "Classification Report for BERT:\n",
      "               precision    recall  f1-score   support\n",
      "\n",
      "    Negative       0.90      0.91      0.90      1629\n",
      "     Neutral       0.83      0.82      0.82       614\n",
      "    Positive       0.91      0.90      0.91      1544\n",
      "\n",
      "   micro avg       0.89      0.89      0.89      3787\n",
      "   macro avg       0.88      0.88      0.88      3787\n",
      "weighted avg       0.89      0.89      0.89      3787\n",
      " samples avg       0.89      0.89      0.89      3787\n",
      "\n"
     ]
    }
   ],
   "source": [
    "print('Classification Report for BERT:\\n',classification_report(y_test,y_pred_bert, target_names=['Negative', 'Neutral', 'Positive']))"
   ]
  },
  {
   "cell_type": "markdown",
   "id": "fe0b52ed",
   "metadata": {
    "papermill": {
     "duration": 4.225614,
     "end_time": "2024-03-25T19:29:55.261019",
     "exception": false,
     "start_time": "2024-03-25T19:29:51.035405",
     "status": "completed"
    },
    "tags": []
   },
   "source": [
    "## RoBERTa Classification Report"
   ]
  },
  {
   "cell_type": "code",
   "execution_count": 91,
   "id": "a31307fe",
   "metadata": {
    "_kg_hide-input": true,
    "execution": {
     "iopub.execute_input": "2024-03-25T19:30:03.817280Z",
     "iopub.status.busy": "2024-03-25T19:30:03.816550Z",
     "iopub.status.idle": "2024-03-25T19:30:03.836436Z",
     "shell.execute_reply": "2024-03-25T19:30:03.835935Z",
     "shell.execute_reply.started": "2021-12-22T23:03:51.065394Z"
    },
    "papermill": {
     "duration": 4.324085,
     "end_time": "2024-03-25T19:30:03.836568",
     "exception": false,
     "start_time": "2024-03-25T19:29:59.512483",
     "status": "completed"
    },
    "tags": []
   },
   "outputs": [
    {
     "name": "stdout",
     "output_type": "stream",
     "text": [
      "Classification Report for RoBERTa:\n",
      "               precision    recall  f1-score   support\n",
      "\n",
      "    Negative       0.88      0.91      0.89      1629\n",
      "     Neutral       0.81      0.78      0.79       614\n",
      "    Positive       0.91      0.89      0.90      1544\n",
      "\n",
      "   micro avg       0.88      0.88      0.88      3787\n",
      "   macro avg       0.87      0.86      0.86      3787\n",
      "weighted avg       0.88      0.88      0.88      3787\n",
      " samples avg       0.88      0.88      0.88      3787\n",
      "\n"
     ]
    }
   ],
   "source": [
    "print('Classification Report for RoBERTa:\\n',classification_report(y_test,y_pred_roberta, target_names=['Negative', 'Neutral', 'Positive']))"
   ]
  },
  {
   "cell_type": "markdown",
   "id": "291a4304",
   "metadata": {
    "papermill": {
     "duration": 4.246121,
     "end_time": "2024-03-25T19:30:12.274080",
     "exception": false,
     "start_time": "2024-03-25T19:30:08.027959",
     "status": "completed"
    },
    "tags": []
   },
   "source": [
    "## Classification Matrix Comparison"
   ]
  },
  {
   "cell_type": "code",
   "execution_count": 92,
   "id": "1a9c9ca7",
   "metadata": {
    "_kg_hide-input": true,
    "execution": {
     "iopub.execute_input": "2024-03-25T19:30:20.853798Z",
     "iopub.status.busy": "2024-03-25T19:30:20.825276Z",
     "iopub.status.idle": "2024-03-25T19:30:21.316463Z",
     "shell.execute_reply": "2024-03-25T19:30:21.316931Z",
     "shell.execute_reply.started": "2021-12-22T23:03:51.670727Z"
    },
    "papermill": {
     "duration": 4.759047,
     "end_time": "2024-03-25T19:30:21.317108",
     "exception": false,
     "start_time": "2024-03-25T19:30:16.558061",
     "status": "completed"
    },
    "tags": []
   },
   "outputs": [
    {
     "data": {
      "image/png": "[encoded data removed]",
      "text/plain": [
       "<Figure size 648x396 with 2 Axes>"
      ]
     },
     "metadata": {},
     "output_type": "display_data"
    }
   ],
   "source": [
    "fig, ax = plt.subplots(1,2,figsize=(9,5.5))\n",
    "\n",
    "labels = ['Negative', 'Neutral', 'Positive']\n",
    "plt.suptitle('Sentiment Analysis Comparison\\n Confusion Matrix', fontsize=20)\n",
    "\n",
    "\n",
    "sns.heatmap(confusion_matrix(y_test.argmax(1),y_pred_bert.argmax(1)), annot=True, cmap=\"Blues\", fmt='g', cbar=False, ax=ax[0], annot_kws={\"size\":25})\n",
    "\n",
    "ax[0].set_title('BERT Classifier', fontsize=20)\n",
    "ax[0].set_yticklabels(labels, fontsize=17);\n",
    "ax[0].set_xticklabels(labels, fontsize=17);\n",
    "ax[0].set_ylabel('Test', fontsize=20)\n",
    "ax[0].set_xlabel('Predicted', fontsize=20)\n",
    "\n",
    "sns.heatmap(confusion_matrix(y_test.argmax(1),y_pred_roberta.argmax(1)), annot=True, cmap=\"Blues\", fmt='g', cbar=False, ax=ax[1], annot_kws={\"size\":25})\n",
    "ax[1].set_title('RoBERTa Classifier', fontsize=20)\n",
    "ax[1].set_yticklabels(labels, fontsize=17);\n",
    "ax[1].set_xticklabels(labels, fontsize=17);\n",
    "ax[1].set_ylabel('Test', fontsize=20)\n",
    "ax[1].set_xlabel('Predicted', fontsize=20)\n",
    "\n",
    "\n",
    "plt.show()"
   ]
  },
  {
   "cell_type": "markdown",
   "id": "aff2d86d",
   "metadata": {
    "papermill": {
     "duration": 4.315137,
     "end_time": "2024-03-25T19:30:29.849156",
     "exception": false,
     "start_time": "2024-03-25T19:30:25.534019",
     "status": "completed"
    },
    "tags": []
   },
   "source": [
    "We can see that both the algorithms performed well on the classification task, with performance scores around 90%."
   ]
  },
  {
   "cell_type": "markdown",
   "id": "869d9b2f",
   "metadata": {
    "papermill": {
     "duration": 4.174161,
     "end_time": "2024-03-25T19:30:38.233513",
     "exception": false,
     "start_time": "2024-03-25T19:30:34.059352",
     "status": "completed"
    },
    "tags": []
   },
   "source": [
    "**Thank you for reading my notebook!! Let me know if you have any question or if you want me to check out your works !! :)**"
   ]
  }
 ],
 "metadata": {
  "kaggle": {
   "accelerator": "gpu",
   "dataSources": [
    {
     "datasetId": 863934,
     "sourceId": 1472453,
     "sourceType": "datasetVersion"
    }
   ],
   "dockerImageVersionId": 30153,
   "isGpuEnabled": true,
   "isInternetEnabled": true,
   "language": "python",
   "sourceType": "notebook"
  },
  "kernelspec": {
   "display_name": "Python 3",
   "language": "python",
   "name": "python3"
  },
  "language_info": {
   "codemirror_mode": {
    "name": "ipython",
    "version": 3
   },
   "file_extension": ".py",
   "mimetype": "text/x-python",
   "name": "python",
   "nbconvert_exporter": "python",
   "pygments_lexer": "ipython3",
   "version": "3.7.12"
  },
  "papermill": {
   "default_parameters": {},
   "duration": 6519.660211,
   "end_time": "2024-03-25T19:30:45.910757",
   "environment_variables": {},
   "exception": null,
   "input_path": "__notebook__.ipynb",
   "output_path": "__notebook__.ipynb",
   "parameters": {},
   "start_time": "2024-03-25T17:42:06.250546",
   "version": "2.3.3"
  },
  "widgets": {
   "application/vnd.jupyter.widget-state+json": {
    "state": {
     "033b3960828e4f03a39964ed951e49f6": {
      "model_module": "@jupyter-widgets/controls",
      "model_module_version": "1.5.0",
      "model_name": "ProgressStyleModel",
      "state": {
       "_model_module": "@jupyter-widgets/controls",
       "_model_module_version": "1.5.0",
       "_model_name": "ProgressStyleModel",
       "_view_count": null,
       "_view_module": "@jupyter-widgets/base",
       "_view_module_version": "1.2.0",
       "_view_name": "StyleView",
       "bar_color": null,
       "description_width": ""
      }
     },
     "03b54f5e399c47ed98d166f49c68e1bc": {
      "model_module": "@jupyter-widgets/base",
      "model_module_version": "1.2.0",
      "model_name": "LayoutModel",
      "state": {
       "_model_module": "@jupyter-widgets/base",
       "_model_module_version": "1.2.0",
       "_model_name": "LayoutModel",
       "_view_count": null,
       "_view_module": "@jupyter-widgets/base",
       "_view_module_version": "1.2.0",
       "_view_name": "LayoutView",
       "align_content": null,
       "align_items": null,
       "align_self": null,
       "border": null,
       "bottom": null,
       "display": null,
       "flex": null,
       "flex_flow": null,
       "grid_area": null,
       "grid_auto_columns": null,
       "grid_auto_flow": null,
       "grid_auto_rows": null,
       "grid_column": null,
       "grid_gap": null,
       "grid_row": null,
       "grid_template_areas": null,
       "grid_template_columns": null,
       "grid_template_rows": null,
       "height": null,
       "justify_content": null,
       "justify_items": null,
       "left": null,
       "margin": null,
       "max_height": null,
       "max_width": null,
       "min_height": null,
       "min_width": null,
       "object_fit": null,
       "object_position": null,
       "order": null,
       "overflow": null,
       "overflow_x": null,
       "overflow_y": null,
       "padding": null,
       "right": null,
       "top": null,
       "visibility": null,
       "width": null
      }
     },
     "04e9c77ccc9f4d92a7c622a6e1658c76": {
      "model_module": "@jupyter-widgets/controls",
      "model_module_version": "1.5.0",
      "model_name": "FloatProgressModel",
      "state": {
       "_dom_classes": [],
       "_model_module": "@jupyter-widgets/controls",
       "_model_module_version": "1.5.0",
       "_model_name": "FloatProgressModel",
       "_view_count": null,
       "_view_module": "@jupyter-widgets/controls",
       "_view_module_version": "1.5.0",
       "_view_name": "ProgressView",
       "bar_style": "success",
       "description": "",
       "description_tooltip": null,
       "layout": "IPY_MODEL_e00dffa4798f427ebfa2664a1fb7f457",
       "max": 570.0,
       "min": 0.0,
       "orientation": "horizontal",
       "style": "IPY_MODEL_a7bb90c292c6458d9ef2cb6b2a019dc9",
       "value": 570.0
      }
     },
     "086b212cc4a348ec96839e491582770b": {
      "model_module": "@jupyter-widgets/base",
      "model_module_version": "1.2.0",
      "model_name": "LayoutModel",
      "state": {
       "_model_module": "@jupyter-widgets/base",
       "_model_module_version": "1.2.0",
       "_model_name": "LayoutModel",
       "_view_count": null,
       "_view_module": "@jupyter-widgets/base",
       "_view_module_version": "1.2.0",
       "_view_name": "LayoutView",
       "align_content": null,
       "align_items": null,
       "align_self": null,
       "border": null,
       "bottom": null,
       "display": null,
       "flex": null,
       "flex_flow": null,
       "grid_area": null,
       "grid_auto_columns": null,
       "grid_auto_flow": null,
       "grid_auto_rows": null,
       "grid_column": null,
       "grid_gap": null,
       "grid_row": null,
       "grid_template_areas": null,
       "grid_template_columns": null,
       "grid_template_rows": null,
       "height": null,
       "justify_content": null,
       "justify_items": null,
       "left": null,
       "margin": null,
       "max_height": null,
       "max_width": null,
       "min_height": null,
       "min_width": null,
       "object_fit": null,
       "object_position": null,
       "order": null,
       "overflow": null,
       "overflow_x": null,
       "overflow_y": null,
       "padding": null,
       "right": null,
       "top": null,
       "visibility": null,
       "width": null
      }
     },
     "08be3fbe72ac4cc8815263a53501e17f": {
      "model_module": "@jupyter-widgets/controls",
      "model_module_version": "1.5.0",
      "model_name": "DescriptionStyleModel",
      "state": {
       "_model_module": "@jupyter-widgets/controls",
       "_model_module_version": "1.5.0",
       "_model_name": "DescriptionStyleModel",
       "_view_count": null,
       "_view_module": "@jupyter-widgets/base",
       "_view_module_version": "1.2.0",
       "_view_name": "StyleView",
       "description_width": ""
      }
     },
     "0ba203efc1eb4030a5481da032060c25": {
      "model_module": "@jupyter-widgets/controls",
      "model_module_version": "1.5.0",
      "model_name": "DescriptionStyleModel",
      "state": {
       "_model_module": "@jupyter-widgets/controls",
       "_model_module_version": "1.5.0",
       "_model_name": "DescriptionStyleModel",
       "_view_count": null,
       "_view_module": "@jupyter-widgets/base",
       "_view_module_version": "1.2.0",
       "_view_name": "StyleView",
       "description_width": ""
      }
     },
     "0c328591d79e4ea1b5f5fb47f3d245f2": {
      "model_module": "@jupyter-widgets/controls",
      "model_module_version": "1.5.0",
      "model_name": "ProgressStyleModel",
      "state": {
       "_model_module": "@jupyter-widgets/controls",
       "_model_module_version": "1.5.0",
       "_model_name": "ProgressStyleModel",
       "_view_count": null,
       "_view_module": "@jupyter-widgets/base",
       "_view_module_version": "1.2.0",
       "_view_name": "StyleView",
       "bar_color": null,
       "description_width": ""
      }
     },
     "0c40eb7a274f4e33b1b6796361471982": {
      "model_module": "@jupyter-widgets/controls",
      "model_module_version": "1.5.0",
      "model_name": "FloatProgressModel",
      "state": {
       "_dom_classes": [],
       "_model_module": "@jupyter-widgets/controls",
       "_model_module_version": "1.5.0",
       "_model_name": "FloatProgressModel",
       "_view_count": null,
       "_view_module": "@jupyter-widgets/controls",
       "_view_module_version": "1.5.0",
       "_view_name": "ProgressView",
       "bar_style": "success",
       "description": "",
       "description_tooltip": null,
       "layout": "IPY_MODEL_30e8e242233d4d11afda545e69913842",
       "max": 466062.0,
       "min": 0.0,
       "orientation": "horizontal",
       "style": "IPY_MODEL_8fa4e39c177a4933abf37c33b4ddd08a",
       "value": 466062.0
      }
     },
     "0d7a6d4156c44cbb95322353f5e4ac94": {
      "model_module": "@jupyter-widgets/controls",
      "model_module_version": "1.5.0",
      "model_name": "FloatProgressModel",
      "state": {
       "_dom_classes": [],
       "_model_module": "@jupyter-widgets/controls",
       "_model_module_version": "1.5.0",
       "_model_name": "FloatProgressModel",
       "_view_count": null,
       "_view_module": "@jupyter-widgets/controls",
       "_view_module_version": "1.5.0",
       "_view_name": "ProgressView",
       "bar_style": "success",
       "description": "",
       "description_tooltip": null,
       "layout": "IPY_MODEL_fae2f566fa664f9f942ea8b834d0b724",
       "max": 25.0,
       "min": 0.0,
       "orientation": "horizontal",
       "style": "IPY_MODEL_a2eb17c4123542bfa329ee9bcba833e6",
       "value": 25.0
      }
     },
     "10279acf81c84005a4494d87922ec9de": {
      "model_module": "@jupyter-widgets/controls",
      "model_module_version": "1.5.0",
      "model_name": "DescriptionStyleModel",
      "state": {
       "_model_module": "@jupyter-widgets/controls",
       "_model_module_version": "1.5.0",
       "_model_name": "DescriptionStyleModel",
       "_view_count": null,
       "_view_module": "@jupyter-widgets/base",
       "_view_module_version": "1.2.0",
       "_view_name": "StyleView",
       "description_width": ""
      }
     },
     "107ae6f7250d47c5869fbfa0c249d9c0": {
      "model_module": "@jupyter-widgets/base",
      "model_module_version": "1.2.0",
      "model_name": "LayoutModel",
      "state": {
       "_model_module": "@jupyter-widgets/base",
       "_model_module_version": "1.2.0",
       "_model_name": "LayoutModel",
       "_view_count": null,
       "_view_module": "@jupyter-widgets/base",
       "_view_module_version": "1.2.0",
       "_view_name": "LayoutView",
       "align_content": null,
       "align_items": null,
       "align_self": null,
       "border": null,
       "bottom": null,
       "display": null,
       "flex": null,
       "flex_flow": null,
       "grid_area": null,
       "grid_auto_columns": null,
       "grid_auto_flow": null,
       "grid_auto_rows": null,
       "grid_column": null,
       "grid_gap": null,
       "grid_row": null,
       "grid_template_areas": null,
       "grid_template_columns": null,
       "grid_template_rows": null,
       "height": null,
       "justify_content": null,
       "justify_items": null,
       "left": null,
       "margin": null,
       "max_height": null,
       "max_width": null,
       "min_height": null,
       "min_width": null,
       "object_fit": null,
       "object_position": null,
       "order": null,
       "overflow": null,
       "overflow_x": null,
       "overflow_y": null,
       "padding": null,
       "right": null,
       "top": null,
       "visibility": null,
       "width": null
      }
     },
     "16097bb803254c86b33ef7adb4c88336": {
      "model_module": "@jupyter-widgets/controls",
      "model_module_version": "1.5.0",
      "model_name": "FloatProgressModel",
      "state": {
       "_dom_classes": [],
       "_model_module": "@jupyter-widgets/controls",
       "_model_module_version": "1.5.0",
       "_model_name": "FloatProgressModel",
       "_view_count": null,
       "_view_module": "@jupyter-widgets/controls",
       "_view_module_version": "1.5.0",
       "_view_name": "ProgressView",
       "bar_style": "success",
       "description": "",
       "description_tooltip": null,
       "layout": "IPY_MODEL_8bef588957fb40a0b10889bdc9117fdc",
       "max": 898823.0,
       "min": 0.0,
       "orientation": "horizontal",
       "style": "IPY_MODEL_c28c317b07b94df891ec778544f47544",
       "value": 898823.0
      }
     },
     "172a7ce6449d49279a15d97f2bc7bf37": {
      "model_module": "@jupyter-widgets/controls",
      "model_module_version": "1.5.0",
      "model_name": "DescriptionStyleModel",
      "state": {
       "_model_module": "@jupyter-widgets/controls",
       "_model_module_version": "1.5.0",
       "_model_name": "DescriptionStyleModel",
       "_view_count": null,
       "_view_module": "@jupyter-widgets/base",
       "_view_module_version": "1.2.0",
       "_view_name": "StyleView",
       "description_width": ""
      }
     },
     "1c3ad33ecc2349988af14293f7337fcd": {
      "model_module": "@jupyter-widgets/controls",
      "model_module_version": "1.5.0",
      "model_name": "HTMLModel",
      "state": {
       "_dom_classes": [],
       "_model_module": "@jupyter-widgets/controls",
       "_model_module_version": "1.5.0",
       "_model_name": "HTMLModel",
       "_view_count": null,
       "_view_module": "@jupyter-widgets/controls",
       "_view_module_version": "1.5.0",
       "_view_name": "HTMLView",
       "description": "",
       "description_tooltip": null,
       "layout": "IPY_MODEL_7f251ab2438a4b3daa5728f2baf5ccc2",
       "placeholder": "​",
       "style": "IPY_MODEL_10279acf81c84005a4494d87922ec9de",
       "value": " 627M/627M [00:15&lt;00:00, 45.0MB/s]"
      }
     },
     "266f4cbd8c8941c5a7642c023a132fa7": {
      "model_module": "@jupyter-widgets/controls",
      "model_module_version": "1.5.0",
      "model_name": "DescriptionStyleModel",
      "state": {
       "_model_module": "@jupyter-widgets/controls",
       "_model_module_version": "1.5.0",
       "_model_name": "DescriptionStyleModel",
       "_view_count": null,
       "_view_module": "@jupyter-widgets/base",
       "_view_module_version": "1.2.0",
       "_view_name": "StyleView",
       "description_width": ""
      }
     },
     "271436334a934d67ad439e377e3a424e": {
      "model_module": "@jupyter-widgets/controls",
      "model_module_version": "1.5.0",
      "model_name": "ProgressStyleModel",
      "state": {
       "_model_module": "@jupyter-widgets/controls",
       "_model_module_version": "1.5.0",
       "_model_name": "ProgressStyleModel",
       "_view_count": null,
       "_view_module": "@jupyter-widgets/base",
       "_view_module_version": "1.2.0",
       "_view_name": "StyleView",
       "bar_color": null,
       "description_width": ""
      }
     },
     "27e97755a7914a858e2a9e3285363a16": {
      "model_module": "@jupyter-widgets/base",
      "model_module_version": "1.2.0",
      "model_name": "LayoutModel",
      "state": {
       "_model_module": "@jupyter-widgets/base",
       "_model_module_version": "1.2.0",
       "_model_name": "LayoutModel",
       "_view_count": null,
       "_view_module": "@jupyter-widgets/base",
       "_view_module_version": "1.2.0",
       "_view_name": "LayoutView",
       "align_content": null,
       "align_items": null,
       "align_self": null,
       "border": null,
       "bottom": null,
       "display": null,
       "flex": null,
       "flex_flow": null,
       "grid_area": null,
       "grid_auto_columns": null,
       "grid_auto_flow": null,
       "grid_auto_rows": null,
       "grid_column": null,
       "grid_gap": null,
       "grid_row": null,
       "grid_template_areas": null,
       "grid_template_columns": null,
       "grid_template_rows": null,
       "height": null,
       "justify_content": null,
       "justify_items": null,
       "left": null,
       "margin": null,
       "max_height": null,
       "max_width": null,
       "min_height": null,
       "min_width": null,
       "object_fit": null,
       "object_position": null,
       "order": null,
       "overflow": null,
       "overflow_x": null,
       "overflow_y": null,
       "padding": null,
       "right": null,
       "top": null,
       "visibility": null,
       "width": null
      }
     },
     "2b41db4877124156bbaf301ce11d75c2": {
      "model_module": "@jupyter-widgets/controls",
      "model_module_version": "1.5.0",
      "model_name": "ProgressStyleModel",
      "state": {
       "_model_module": "@jupyter-widgets/controls",
       "_model_module_version": "1.5.0",
       "_model_name": "ProgressStyleModel",
       "_view_count": null,
       "_view_module": "@jupyter-widgets/base",
       "_view_module_version": "1.2.0",
       "_view_name": "StyleView",
       "bar_color": null,
       "description_width": ""
      }
     },
     "2bea3bfc531d46308efa9a47d43190ef": {
      "model_module": "@jupyter-widgets/controls",
      "model_module_version": "1.5.0",
      "model_name": "HBoxModel",
      "state": {
       "_dom_classes": [],
       "_model_module": "@jupyter-widgets/controls",
       "_model_module_version": "1.5.0",
       "_model_name": "HBoxModel",
       "_view_count": null,
       "_view_module": "@jupyter-widgets/controls",
       "_view_module_version": "1.5.0",
       "_view_name": "HBoxView",
       "box_style": "",
       "children": [
        "IPY_MODEL_6b8343e2961840e2841fc0d1848c750b",
        "IPY_MODEL_04e9c77ccc9f4d92a7c622a6e1658c76",
        "IPY_MODEL_bb7acb65586d4f989cd309e206bcdc45"
       ],
       "layout": "IPY_MODEL_c6104b9648bc491cba94095a0f026c2a"
      }
     },
     "30e8e242233d4d11afda545e69913842": {
      "model_module": "@jupyter-widgets/base",
      "model_module_version": "1.2.0",
      "model_name": "LayoutModel",
      "state": {
       "_model_module": "@jupyter-widgets/base",
       "_model_module_version": "1.2.0",
       "_model_name": "LayoutModel",
       "_view_count": null,
       "_view_module": "@jupyter-widgets/base",
       "_view_module_version": "1.2.0",
       "_view_name": "LayoutView",
       "align_content": null,
       "align_items": null,
       "align_self": null,
       "border": null,
       "bottom": null,
       "display": null,
       "flex": null,
       "flex_flow": null,
       "grid_area": null,
       "grid_auto_columns": null,
       "grid_auto_flow": null,
       "grid_auto_rows": null,
       "grid_column": null,
       "grid_gap": null,
       "grid_row": null,
       "grid_template_areas": null,
       "grid_template_columns": null,
       "grid_template_rows": null,
       "height": null,
       "justify_content": null,
       "justify_items": null,
       "left": null,
       "margin": null,
       "max_height": null,
       "max_width": null,
       "min_height": null,
       "min_width": null,
       "object_fit": null,
       "object_position": null,
       "order": null,
       "overflow": null,
       "overflow_x": null,
       "overflow_y": null,
       "padding": null,
       "right": null,
       "top": null,
       "visibility": null,
       "width": null
      }
     },
     "31173dc8b8904026b31a959029b8f49d": {
      "model_module": "@jupyter-widgets/base",
      "model_module_version": "1.2.0",
      "model_name": "LayoutModel",
      "state": {
       "_model_module": "@jupyter-widgets/base",
       "_model_module_version": "1.2.0",
       "_model_name": "LayoutModel",
       "_view_count": null,
       "_view_module": "@jupyter-widgets/base",
       "_view_module_version": "1.2.0",
       "_view_name": "LayoutView",
       "align_content": null,
       "align_items": null,
       "align_self": null,
       "border": null,
       "bottom": null,
       "display": null,
       "flex": null,
       "flex_flow": null,
       "grid_area": null,
       "grid_auto_columns": null,
       "grid_auto_flow": null,
       "grid_auto_rows": null,
       "grid_column": null,
       "grid_gap": null,
       "grid_row": null,
       "grid_template_areas": null,
       "grid_template_columns": null,
       "grid_template_rows": null,
       "height": null,
       "justify_content": null,
       "justify_items": null,
       "left": null,
       "margin": null,
       "max_height": null,
       "max_width": null,
       "min_height": null,
       "min_width": null,
       "object_fit": null,
       "object_position": null,
       "order": null,
       "overflow": null,
       "overflow_x": null,
       "overflow_y": null,
       "padding": null,
       "right": null,
       "top": null,
       "visibility": null,
       "width": null
      }
     },
     "321bda6809044f35baf58eb276ab4dd9": {
      "model_module": "@jupyter-widgets/controls",
      "model_module_version": "1.5.0",
      "model_name": "HTMLModel",
      "state": {
       "_dom_classes": [],
       "_model_module": "@jupyter-widgets/controls",
       "_model_module_version": "1.5.0",
       "_model_name": "HTMLModel",
       "_view_count": null,
       "_view_module": "@jupyter-widgets/controls",
       "_view_module_version": "1.5.0",
       "_view_name": "HTMLView",
       "description": "",
       "description_tooltip": null,
       "layout": "IPY_MODEL_ff3d33cd9502485db00c3c4f61b29da8",
       "placeholder": "​",
       "style": "IPY_MODEL_5dcb7f6cc70c41c7ad3f88b4e4795654",
       "value": "Downloading: 100%"
      }
     },
     "321eb7b9aca04713a516aff5cfc68f5a": {
      "model_module": "@jupyter-widgets/controls",
      "model_module_version": "1.5.0",
      "model_name": "HTMLModel",
      "state": {
       "_dom_classes": [],
       "_model_module": "@jupyter-widgets/controls",
       "_model_module_version": "1.5.0",
       "_model_name": "HTMLModel",
       "_view_count": null,
       "_view_module": "@jupyter-widgets/controls",
       "_view_module_version": "1.5.0",
       "_view_name": "HTMLView",
       "description": "",
       "description_tooltip": null,
       "layout": "IPY_MODEL_f183d29fdc2f453dba699f22df0c3188",
       "placeholder": "​",
       "style": "IPY_MODEL_b3255151a6e343bbbae78984ab8f5860",
       "value": " 226k/226k [00:00&lt;00:00, 4.22MB/s]"
      }
     },
     "3337637ffb3a40e997aa6cf586a5b2b9": {
      "model_module": "@jupyter-widgets/base",
      "model_module_version": "1.2.0",
      "model_name": "LayoutModel",
      "state": {
       "_model_module": "@jupyter-widgets/base",
       "_model_module_version": "1.2.0",
       "_model_name": "LayoutModel",
       "_view_count": null,
       "_view_module": "@jupyter-widgets/base",
       "_view_module_version": "1.2.0",
       "_view_name": "LayoutView",
       "align_content": null,
       "align_items": null,
       "align_self": null,
       "border": null,
       "bottom": null,
       "display": null,
       "flex": null,
       "flex_flow": null,
       "grid_area": null,
       "grid_auto_columns": null,
       "grid_auto_flow": null,
       "grid_auto_rows": null,
       "grid_column": null,
       "grid_gap": null,
       "grid_row": null,
       "grid_template_areas": null,
       "grid_template_columns": null,
       "grid_template_rows": null,
       "height": null,
       "justify_content": null,
       "justify_items": null,
       "left": null,
       "margin": null,
       "max_height": null,
       "max_width": null,
       "min_height": null,
       "min_width": null,
       "object_fit": null,
       "object_position": null,
       "order": null,
       "overflow": null,
       "overflow_x": null,
       "overflow_y": null,
       "padding": null,
       "right": null,
       "top": null,
       "visibility": null,
       "width": null
      }
     },
     "33dc4c9b19f94bf88d83546578647349": {
      "model_module": "@jupyter-widgets/controls",
      "model_module_version": "1.5.0",
      "model_name": "HBoxModel",
      "state": {
       "_dom_classes": [],
       "_model_module": "@jupyter-widgets/controls",
       "_model_module_version": "1.5.0",
       "_model_name": "HBoxModel",
       "_view_count": null,
       "_view_module": "@jupyter-widgets/controls",
       "_view_module_version": "1.5.0",
       "_view_name": "HBoxView",
       "box_style": "",
       "children": [
        "IPY_MODEL_522a74dbc72543baa97f853e99f65031",
        "IPY_MODEL_16097bb803254c86b33ef7adb4c88336",
        "IPY_MODEL_c1e02b235dda4927af6f1a8b2796dfae"
       ],
       "layout": "IPY_MODEL_53e639f738834d41a4fc0bc661b7348e"
      }
     },
     "391cc7e591a54e4994431c54966f5b45": {
      "model_module": "@jupyter-widgets/controls",
      "model_module_version": "1.5.0",
      "model_name": "FloatProgressModel",
      "state": {
       "_dom_classes": [],
       "_model_module": "@jupyter-widgets/controls",
       "_model_module_version": "1.5.0",
       "_model_name": "FloatProgressModel",
       "_view_count": null,
       "_view_module": "@jupyter-widgets/controls",
       "_view_module_version": "1.5.0",
       "_view_name": "ProgressView",
       "bar_style": "success",
       "description": "",
       "description_tooltip": null,
       "layout": "IPY_MODEL_e8dbdc71c67e40ef9a42be6b697c864d",
       "max": 536063208.0,
       "min": 0.0,
       "orientation": "horizontal",
       "style": "IPY_MODEL_65fb963b540a4686888c4de632dfd3ad",
       "value": 536063208.0
      }
     },
     "3a2f5144f4fc4593badb1986ded3f748": {
      "model_module": "@jupyter-widgets/controls",
      "model_module_version": "1.5.0",
      "model_name": "DescriptionStyleModel",
      "state": {
       "_model_module": "@jupyter-widgets/controls",
       "_model_module_version": "1.5.0",
       "_model_name": "DescriptionStyleModel",
       "_view_count": null,
       "_view_module": "@jupyter-widgets/base",
       "_view_module_version": "1.2.0",
       "_view_name": "StyleView",
       "description_width": ""
      }
     },
     "3ac3b59f62e1426b9adc56a4641202ae": {
      "model_module": "@jupyter-widgets/base",
      "model_module_version": "1.2.0",
      "model_name": "LayoutModel",
      "state": {
       "_model_module": "@jupyter-widgets/base",
       "_model_module_version": "1.2.0",
       "_model_name": "LayoutModel",
       "_view_count": null,
       "_view_module": "@jupyter-widgets/base",
       "_view_module_version": "1.2.0",
       "_view_name": "LayoutView",
       "align_content": null,
       "align_items": null,
       "align_self": null,
       "border": null,
       "bottom": null,
       "display": null,
       "flex": null,
       "flex_flow": null,
       "grid_area": null,
       "grid_auto_columns": null,
       "grid_auto_flow": null,
       "grid_auto_rows": null,
       "grid_column": null,
       "grid_gap": null,
       "grid_row": null,
       "grid_template_areas": null,
       "grid_template_columns": null,
       "grid_template_rows": null,
       "height": null,
       "justify_content": null,
       "justify_items": null,
       "left": null,
       "margin": null,
       "max_height": null,
       "max_width": null,
       "min_height": null,
       "min_width": null,
       "object_fit": null,
       "object_position": null,
       "order": null,
       "overflow": null,
       "overflow_x": null,
       "overflow_y": null,
       "padding": null,
       "right": null,
       "top": null,
       "visibility": null,
       "width": null
      }
     },
     "3b1aa5da6670496cbd45adf54aaa3cdc": {
      "model_module": "@jupyter-widgets/base",
      "model_module_version": "1.2.0",
      "model_name": "LayoutModel",
      "state": {
       "_model_module": "@jupyter-widgets/base",
       "_model_module_version": "1.2.0",
       "_model_name": "LayoutModel",
       "_view_count": null,
       "_view_module": "@jupyter-widgets/base",
       "_view_module_version": "1.2.0",
       "_view_name": "LayoutView",
       "align_content": null,
       "align_items": null,
       "align_self": null,
       "border": null,
       "bottom": null,
       "display": null,
       "flex": null,
       "flex_flow": null,
       "grid_area": null,
       "grid_auto_columns": null,
       "grid_auto_flow": null,
       "grid_auto_rows": null,
       "grid_column": null,
       "grid_gap": null,
       "grid_row": null,
       "grid_template_areas": null,
       "grid_template_columns": null,
       "grid_template_rows": null,
       "height": null,
       "justify_content": null,
       "justify_items": null,
       "left": null,
       "margin": null,
       "max_height": null,
       "max_width": null,
       "min_height": null,
       "min_width": null,
       "object_fit": null,
       "object_position": null,
       "order": null,
       "overflow": null,
       "overflow_x": null,
       "overflow_y": null,
       "padding": null,
       "right": null,
       "top": null,
       "visibility": null,
       "width": null
      }
     },
     "3b8b4cfdb6d6496a86fc408544bbcfff": {
      "model_module": "@jupyter-widgets/base",
      "model_module_version": "1.2.0",
      "model_name": "LayoutModel",
      "state": {
       "_model_module": "@jupyter-widgets/base",
       "_model_module_version": "1.2.0",
       "_model_name": "LayoutModel",
       "_view_count": null,
       "_view_module": "@jupyter-widgets/base",
       "_view_module_version": "1.2.0",
       "_view_name": "LayoutView",
       "align_content": null,
       "align_items": null,
       "align_self": null,
       "border": null,
       "bottom": null,
       "display": null,
       "flex": null,
       "flex_flow": null,
       "grid_area": null,
       "grid_auto_columns": null,
       "grid_auto_flow": null,
       "grid_auto_rows": null,
       "grid_column": null,
       "grid_gap": null,
       "grid_row": null,
       "grid_template_areas": null,
       "grid_template_columns": null,
       "grid_template_rows": null,
       "height": null,
       "justify_content": null,
       "justify_items": null,
       "left": null,
       "margin": null,
       "max_height": null,
       "max_width": null,
       "min_height": null,
       "min_width": null,
       "object_fit": null,
       "object_position": null,
       "order": null,
       "overflow": null,
       "overflow_x": null,
       "overflow_y": null,
       "padding": null,
       "right": null,
       "top": null,
       "visibility": null,
       "width": null
      }
     },
     "3bd5834b659043a590b03b4da184c265": {
      "model_module": "@jupyter-widgets/base",
      "model_module_version": "1.2.0",
      "model_name": "LayoutModel",
      "state": {
       "_model_module": "@jupyter-widgets/base",
       "_model_module_version": "1.2.0",
       "_model_name": "LayoutModel",
       "_view_count": null,
       "_view_module": "@jupyter-widgets/base",
       "_view_module_version": "1.2.0",
       "_view_name": "LayoutView",
       "align_content": null,
       "align_items": null,
       "align_self": null,
       "border": null,
       "bottom": null,
       "display": null,
       "flex": null,
       "flex_flow": null,
       "grid_area": null,
       "grid_auto_columns": null,
       "grid_auto_flow": null,
       "grid_auto_rows": null,
       "grid_column": null,
       "grid_gap": null,
       "grid_row": null,
       "grid_template_areas": null,
       "grid_template_columns": null,
       "grid_template_rows": null,
       "height": null,
       "justify_content": null,
       "justify_items": null,
       "left": null,
       "margin": null,
       "max_height": null,
       "max_width": null,
       "min_height": null,
       "min_width": null,
       "object_fit": null,
       "object_position": null,
       "order": null,
       "overflow": null,
       "overflow_x": null,
       "overflow_y": null,
       "padding": null,
       "right": null,
       "top": null,
       "visibility": null,
       "width": null
      }
     },
     "43be282ccfb7474ba0c1520e6c279a62": {
      "model_module": "@jupyter-widgets/controls",
      "model_module_version": "1.5.0",
      "model_name": "FloatProgressModel",
      "state": {
       "_dom_classes": [],
       "_model_module": "@jupyter-widgets/controls",
       "_model_module_version": "1.5.0",
       "_model_name": "FloatProgressModel",
       "_view_count": null,
       "_view_module": "@jupyter-widgets/controls",
       "_view_module_version": "1.5.0",
       "_view_name": "ProgressView",
       "bar_style": "success",
       "description": "",
       "description_tooltip": null,
       "layout": "IPY_MODEL_750f92bc97cd47db9e6b37d13ce77a6c",
       "max": 1355863.0,
       "min": 0.0,
       "orientation": "horizontal",
       "style": "IPY_MODEL_2b41db4877124156bbaf301ce11d75c2",
       "value": 1355863.0
      }
     },
     "46426b7ce91442f0abf324437d06d493": {
      "model_module": "@jupyter-widgets/controls",
      "model_module_version": "1.5.0",
      "model_name": "HTMLModel",
      "state": {
       "_dom_classes": [],
       "_model_module": "@jupyter-widgets/controls",
       "_model_module_version": "1.5.0",
       "_model_name": "HTMLModel",
       "_view_count": null,
       "_view_module": "@jupyter-widgets/controls",
       "_view_module_version": "1.5.0",
       "_view_name": "HTMLView",
       "description": "",
       "description_tooltip": null,
       "layout": "IPY_MODEL_c3a727e30fdc40ada12fdcf790147615",
       "placeholder": "​",
       "style": "IPY_MODEL_172a7ce6449d49279a15d97f2bc7bf37",
       "value": " 446k/446k [00:00&lt;00:00, 4.15MB/s]"
      }
     },
     "522a74dbc72543baa97f853e99f65031": {
      "model_module": "@jupyter-widgets/controls",
      "model_module_version": "1.5.0",
      "model_name": "HTMLModel",
      "state": {
       "_dom_classes": [],
       "_model_module": "@jupyter-widgets/controls",
       "_model_module_version": "1.5.0",
       "_model_name": "HTMLModel",
       "_view_count": null,
       "_view_module": "@jupyter-widgets/controls",
       "_view_module_version": "1.5.0",
       "_view_name": "HTMLView",
       "description": "",
       "description_tooltip": null,
       "layout": "IPY_MODEL_e125982d3ca04fec8e525b238f88b4a5",
       "placeholder": "​",
       "style": "IPY_MODEL_e6584f5bf7064e649047ff3e9e92c90d",
       "value": "Downloading: 100%"
      }
     },
     "52ff7a9e47f743a6a7c58be5589a263d": {
      "model_module": "@jupyter-widgets/controls",
      "model_module_version": "1.5.0",
      "model_name": "DescriptionStyleModel",
      "state": {
       "_model_module": "@jupyter-widgets/controls",
       "_model_module_version": "1.5.0",
       "_model_name": "DescriptionStyleModel",
       "_view_count": null,
       "_view_module": "@jupyter-widgets/base",
       "_view_module_version": "1.2.0",
       "_view_name": "StyleView",
       "description_width": ""
      }
     },
     "53e639f738834d41a4fc0bc661b7348e": {
      "model_module": "@jupyter-widgets/base",
      "model_module_version": "1.2.0",
      "model_name": "LayoutModel",
      "state": {
       "_model_module": "@jupyter-widgets/base",
       "_model_module_version": "1.2.0",
       "_model_name": "LayoutModel",
       "_view_count": null,
       "_view_module": "@jupyter-widgets/base",
       "_view_module_version": "1.2.0",
       "_view_name": "LayoutView",
       "align_content": null,
       "align_items": null,
       "align_self": null,
       "border": null,
       "bottom": null,
       "display": null,
       "flex": null,
       "flex_flow": null,
       "grid_area": null,
       "grid_auto_columns": null,
       "grid_auto_flow": null,
       "grid_auto_rows": null,
       "grid_column": null,
       "grid_gap": null,
       "grid_row": null,
       "grid_template_areas": null,
       "grid_template_columns": null,
       "grid_template_rows": null,
       "height": null,
       "justify_content": null,
       "justify_items": null,
       "left": null,
       "margin": null,
       "max_height": null,
       "max_width": null,
       "min_height": null,
       "min_width": null,
       "object_fit": null,
       "object_position": null,
       "order": null,
       "overflow": null,
       "overflow_x": null,
       "overflow_y": null,
       "padding": null,
       "right": null,
       "top": null,
       "visibility": null,
       "width": null
      }
     },
     "56c249c3e9b544f59d4f2cfc60209055": {
      "model_module": "@jupyter-widgets/controls",
      "model_module_version": "1.5.0",
      "model_name": "HBoxModel",
      "state": {
       "_dom_classes": [],
       "_model_module": "@jupyter-widgets/controls",
       "_model_module_version": "1.5.0",
       "_model_name": "HBoxModel",
       "_view_count": null,
       "_view_module": "@jupyter-widgets/controls",
       "_view_module_version": "1.5.0",
       "_view_name": "HBoxView",
       "box_style": "",
       "children": [
        "IPY_MODEL_321bda6809044f35baf58eb276ab4dd9",
        "IPY_MODEL_d79e99ab145445acb0afaf12a1bfe1c0",
        "IPY_MODEL_ba2de774f0df4c68806bb2f84d90b0b7"
       ],
       "layout": "IPY_MODEL_daf230a41e204b17b0506ec012a24996"
      }
     },
     "58bfe2bfdec44261a7d4a80432489af9": {
      "model_module": "@jupyter-widgets/controls",
      "model_module_version": "1.5.0",
      "model_name": "HTMLModel",
      "state": {
       "_dom_classes": [],
       "_model_module": "@jupyter-widgets/controls",
       "_model_module_version": "1.5.0",
       "_model_name": "HTMLModel",
       "_view_count": null,
       "_view_module": "@jupyter-widgets/controls",
       "_view_module_version": "1.5.0",
       "_view_name": "HTMLView",
       "description": "",
       "description_tooltip": null,
       "layout": "IPY_MODEL_cf52b7aae2e94735a2d1a47359d7b8aa",
       "placeholder": "​",
       "style": "IPY_MODEL_f5cdf97b54f24e769a0c55a25dcbcb17",
       "value": "Downloading: 100%"
      }
     },
     "5cde363b4c99477b80145baeb2211335": {
      "model_module": "@jupyter-widgets/controls",
      "model_module_version": "1.5.0",
      "model_name": "HBoxModel",
      "state": {
       "_dom_classes": [],
       "_model_module": "@jupyter-widgets/controls",
       "_model_module_version": "1.5.0",
       "_model_name": "HBoxModel",
       "_view_count": null,
       "_view_module": "@jupyter-widgets/controls",
       "_view_module_version": "1.5.0",
       "_view_name": "HBoxView",
       "box_style": "",
       "children": [
        "IPY_MODEL_5f26acbd48d64fe2b5fca4f35c55ddfa",
        "IPY_MODEL_782c8ea85b774892b058dabcc0dda273",
        "IPY_MODEL_ba39817012e343c8986d21f73da7cdd7"
       ],
       "layout": "IPY_MODEL_64b79743aa5847c8a638602c77099c16"
      }
     },
     "5cf0a4c4745e440f8460e8f4e0489082": {
      "model_module": "@jupyter-widgets/base",
      "model_module_version": "1.2.0",
      "model_name": "LayoutModel",
      "state": {
       "_model_module": "@jupyter-widgets/base",
       "_model_module_version": "1.2.0",
       "_model_name": "LayoutModel",
       "_view_count": null,
       "_view_module": "@jupyter-widgets/base",
       "_view_module_version": "1.2.0",
       "_view_name": "LayoutView",
       "align_content": null,
       "align_items": null,
       "align_self": null,
       "border": null,
       "bottom": null,
       "display": null,
       "flex": null,
       "flex_flow": null,
       "grid_area": null,
       "grid_auto_columns": null,
       "grid_auto_flow": null,
       "grid_auto_rows": null,
       "grid_column": null,
       "grid_gap": null,
       "grid_row": null,
       "grid_template_areas": null,
       "grid_template_columns": null,
       "grid_template_rows": null,
       "height": null,
       "justify_content": null,
       "justify_items": null,
       "left": null,
       "margin": null,
       "max_height": null,
       "max_width": null,
       "min_height": null,
       "min_width": null,
       "object_fit": null,
       "object_position": null,
       "order": null,
       "overflow": null,
       "overflow_x": null,
       "overflow_y": null,
       "padding": null,
       "right": null,
       "top": null,
       "visibility": null,
       "width": null
      }
     },
     "5dcb7f6cc70c41c7ad3f88b4e4795654": {
      "model_module": "@jupyter-widgets/controls",
      "model_module_version": "1.5.0",
      "model_name": "DescriptionStyleModel",
      "state": {
       "_model_module": "@jupyter-widgets/controls",
       "_model_module_version": "1.5.0",
       "_model_name": "DescriptionStyleModel",
       "_view_count": null,
       "_view_module": "@jupyter-widgets/base",
       "_view_module_version": "1.2.0",
       "_view_name": "StyleView",
       "description_width": ""
      }
     },
     "5f26acbd48d64fe2b5fca4f35c55ddfa": {
      "model_module": "@jupyter-widgets/controls",
      "model_module_version": "1.5.0",
      "model_name": "HTMLModel",
      "state": {
       "_dom_classes": [],
       "_model_module": "@jupyter-widgets/controls",
       "_model_module_version": "1.5.0",
       "_model_name": "HTMLModel",
       "_view_count": null,
       "_view_module": "@jupyter-widgets/controls",
       "_view_module_version": "1.5.0",
       "_view_name": "HTMLView",
       "description": "",
       "description_tooltip": null,
       "layout": "IPY_MODEL_27e97755a7914a858e2a9e3285363a16",
       "placeholder": "​",
       "style": "IPY_MODEL_08be3fbe72ac4cc8815263a53501e17f",
       "value": "Downloading: 100%"
      }
     },
     "63616e40c787480d929446981f7a666a": {
      "model_module": "@jupyter-widgets/controls",
      "model_module_version": "1.5.0",
      "model_name": "FloatProgressModel",
      "state": {
       "_dom_classes": [],
       "_model_module": "@jupyter-widgets/controls",
       "_model_module_version": "1.5.0",
       "_model_name": "FloatProgressModel",
       "_view_count": null,
       "_view_module": "@jupyter-widgets/controls",
       "_view_module_version": "1.5.0",
       "_view_name": "ProgressView",
       "bar_style": "success",
       "description": "",
       "description_tooltip": null,
       "layout": "IPY_MODEL_3bd5834b659043a590b03b4da184c265",
       "max": 231508.0,
       "min": 0.0,
       "orientation": "horizontal",
       "style": "IPY_MODEL_0c328591d79e4ea1b5f5fb47f3d245f2",
       "value": 231508.0
      }
     },
     "64a473bd83044d659d47317e71be28db": {
      "model_module": "@jupyter-widgets/base",
      "model_module_version": "1.2.0",
      "model_name": "LayoutModel",
      "state": {
       "_model_module": "@jupyter-widgets/base",
       "_model_module_version": "1.2.0",
       "_model_name": "LayoutModel",
       "_view_count": null,
       "_view_module": "@jupyter-widgets/base",
       "_view_module_version": "1.2.0",
       "_view_name": "LayoutView",
       "align_content": null,
       "align_items": null,
       "align_self": null,
       "border": null,
       "bottom": null,
       "display": null,
       "flex": null,
       "flex_flow": null,
       "grid_area": null,
       "grid_auto_columns": null,
       "grid_auto_flow": null,
       "grid_auto_rows": null,
       "grid_column": null,
       "grid_gap": null,
       "grid_row": null,
       "grid_template_areas": null,
       "grid_template_columns": null,
       "grid_template_rows": null,
       "height": null,
       "justify_content": null,
       "justify_items": null,
       "left": null,
       "margin": null,
       "max_height": null,
       "max_width": null,
       "min_height": null,
       "min_width": null,
       "object_fit": null,
       "object_position": null,
       "order": null,
       "overflow": null,
       "overflow_x": null,
       "overflow_y": null,
       "padding": null,
       "right": null,
       "top": null,
       "visibility": null,
       "width": null
      }
     },
     "64b79743aa5847c8a638602c77099c16": {
      "model_module": "@jupyter-widgets/base",
      "model_module_version": "1.2.0",
      "model_name": "LayoutModel",
      "state": {
       "_model_module": "@jupyter-widgets/base",
       "_model_module_version": "1.2.0",
       "_model_name": "LayoutModel",
       "_view_count": null,
       "_view_module": "@jupyter-widgets/base",
       "_view_module_version": "1.2.0",
       "_view_name": "LayoutView",
       "align_content": null,
       "align_items": null,
       "align_self": null,
       "border": null,
       "bottom": null,
       "display": null,
       "flex": null,
       "flex_flow": null,
       "grid_area": null,
       "grid_auto_columns": null,
       "grid_auto_flow": null,
       "grid_auto_rows": null,
       "grid_column": null,
       "grid_gap": null,
       "grid_row": null,
       "grid_template_areas": null,
       "grid_template_columns": null,
       "grid_template_rows": null,
       "height": null,
       "justify_content": null,
       "justify_items": null,
       "left": null,
       "margin": null,
       "max_height": null,
       "max_width": null,
       "min_height": null,
       "min_width": null,
       "object_fit": null,
       "object_position": null,
       "order": null,
       "overflow": null,
       "overflow_x": null,
       "overflow_y": null,
       "padding": null,
       "right": null,
       "top": null,
       "visibility": null,
       "width": null
      }
     },
     "65fb963b540a4686888c4de632dfd3ad": {
      "model_module": "@jupyter-widgets/controls",
      "model_module_version": "1.5.0",
      "model_name": "ProgressStyleModel",
      "state": {
       "_model_module": "@jupyter-widgets/controls",
       "_model_module_version": "1.5.0",
       "_model_name": "ProgressStyleModel",
       "_view_count": null,
       "_view_module": "@jupyter-widgets/base",
       "_view_module_version": "1.2.0",
       "_view_name": "StyleView",
       "bar_color": null,
       "description_width": ""
      }
     },
     "6b8343e2961840e2841fc0d1848c750b": {
      "model_module": "@jupyter-widgets/controls",
      "model_module_version": "1.5.0",
      "model_name": "HTMLModel",
      "state": {
       "_dom_classes": [],
       "_model_module": "@jupyter-widgets/controls",
       "_model_module_version": "1.5.0",
       "_model_name": "HTMLModel",
       "_view_count": null,
       "_view_module": "@jupyter-widgets/controls",
       "_view_module_version": "1.5.0",
       "_view_name": "HTMLView",
       "description": "",
       "description_tooltip": null,
       "layout": "IPY_MODEL_d4664ec087f34b979f40220a970ff6f6",
       "placeholder": "​",
       "style": "IPY_MODEL_0ba203efc1eb4030a5481da032060c25",
       "value": "Downloading: 100%"
      }
     },
     "70248deb26f3464491c2e14e28a4d0b2": {
      "model_module": "@jupyter-widgets/base",
      "model_module_version": "1.2.0",
      "model_name": "LayoutModel",
      "state": {
       "_model_module": "@jupyter-widgets/base",
       "_model_module_version": "1.2.0",
       "_model_name": "LayoutModel",
       "_view_count": null,
       "_view_module": "@jupyter-widgets/base",
       "_view_module_version": "1.2.0",
       "_view_name": "LayoutView",
       "align_content": null,
       "align_items": null,
       "align_self": null,
       "border": null,
       "bottom": null,
       "display": null,
       "flex": null,
       "flex_flow": null,
       "grid_area": null,
       "grid_auto_columns": null,
       "grid_auto_flow": null,
       "grid_auto_rows": null,
       "grid_column": null,
       "grid_gap": null,
       "grid_row": null,
       "grid_template_areas": null,
       "grid_template_columns": null,
       "grid_template_rows": null,
       "height": null,
       "justify_content": null,
       "justify_items": null,
       "left": null,
       "margin": null,
       "max_height": null,
       "max_width": null,
       "min_height": null,
       "min_width": null,
       "object_fit": null,
       "object_position": null,
       "order": null,
       "overflow": null,
       "overflow_x": null,
       "overflow_y": null,
       "padding": null,
       "right": null,
       "top": null,
       "visibility": null,
       "width": null
      }
     },
     "73703450e5ef4d9aa7ae2fd309655cae": {
      "model_module": "@jupyter-widgets/controls",
      "model_module_version": "1.5.0",
      "model_name": "DescriptionStyleModel",
      "state": {
       "_model_module": "@jupyter-widgets/controls",
       "_model_module_version": "1.5.0",
       "_model_name": "DescriptionStyleModel",
       "_view_count": null,
       "_view_module": "@jupyter-widgets/base",
       "_view_module_version": "1.2.0",
       "_view_name": "StyleView",
       "description_width": ""
      }
     },
     "750f92bc97cd47db9e6b37d13ce77a6c": {
      "model_module": "@jupyter-widgets/base",
      "model_module_version": "1.2.0",
      "model_name": "LayoutModel",
      "state": {
       "_model_module": "@jupyter-widgets/base",
       "_model_module_version": "1.2.0",
       "_model_name": "LayoutModel",
       "_view_count": null,
       "_view_module": "@jupyter-widgets/base",
       "_view_module_version": "1.2.0",
       "_view_name": "LayoutView",
       "align_content": null,
       "align_items": null,
       "align_self": null,
       "border": null,
       "bottom": null,
       "display": null,
       "flex": null,
       "flex_flow": null,
       "grid_area": null,
       "grid_auto_columns": null,
       "grid_auto_flow": null,
       "grid_auto_rows": null,
       "grid_column": null,
       "grid_gap": null,
       "grid_row": null,
       "grid_template_areas": null,
       "grid_template_columns": null,
       "grid_template_rows": null,
       "height": null,
       "justify_content": null,
       "justify_items": null,
       "left": null,
       "margin": null,
       "max_height": null,
       "max_width": null,
       "min_height": null,
       "min_width": null,
       "object_fit": null,
       "object_position": null,
       "order": null,
       "overflow": null,
       "overflow_x": null,
       "overflow_y": null,
       "padding": null,
       "right": null,
       "top": null,
       "visibility": null,
       "width": null
      }
     },
     "76598ebd725045128dbb83c84b99d7d0": {
      "model_module": "@jupyter-widgets/base",
      "model_module_version": "1.2.0",
      "model_name": "LayoutModel",
      "state": {
       "_model_module": "@jupyter-widgets/base",
       "_model_module_version": "1.2.0",
       "_model_name": "LayoutModel",
       "_view_count": null,
       "_view_module": "@jupyter-widgets/base",
       "_view_module_version": "1.2.0",
       "_view_name": "LayoutView",
       "align_content": null,
       "align_items": null,
       "align_self": null,
       "border": null,
       "bottom": null,
       "display": null,
       "flex": null,
       "flex_flow": null,
       "grid_area": null,
       "grid_auto_columns": null,
       "grid_auto_flow": null,
       "grid_auto_rows": null,
       "grid_column": null,
       "grid_gap": null,
       "grid_row": null,
       "grid_template_areas": null,
       "grid_template_columns": null,
       "grid_template_rows": null,
       "height": null,
       "justify_content": null,
       "justify_items": null,
       "left": null,
       "margin": null,
       "max_height": null,
       "max_width": null,
       "min_height": null,
       "min_width": null,
       "object_fit": null,
       "object_position": null,
       "order": null,
       "overflow": null,
       "overflow_x": null,
       "overflow_y": null,
       "padding": null,
       "right": null,
       "top": null,
       "visibility": null,
       "width": null
      }
     },
     "782c8ea85b774892b058dabcc0dda273": {
      "model_module": "@jupyter-widgets/controls",
      "model_module_version": "1.5.0",
      "model_name": "FloatProgressModel",
      "state": {
       "_dom_classes": [],
       "_model_module": "@jupyter-widgets/controls",
       "_model_module_version": "1.5.0",
       "_model_name": "FloatProgressModel",
       "_view_count": null,
       "_view_module": "@jupyter-widgets/controls",
       "_view_module_version": "1.5.0",
       "_view_name": "ProgressView",
       "bar_style": "success",
       "description": "",
       "description_tooltip": null,
       "layout": "IPY_MODEL_7b00b0af04e843769b7cb86042c64960",
       "max": 481.0,
       "min": 0.0,
       "orientation": "horizontal",
       "style": "IPY_MODEL_271436334a934d67ad439e377e3a424e",
       "value": 481.0
      }
     },
     "7b00b0af04e843769b7cb86042c64960": {
      "model_module": "@jupyter-widgets/base",
      "model_module_version": "1.2.0",
      "model_name": "LayoutModel",
      "state": {
       "_model_module": "@jupyter-widgets/base",
       "_model_module_version": "1.2.0",
       "_model_name": "LayoutModel",
       "_view_count": null,
       "_view_module": "@jupyter-widgets/base",
       "_view_module_version": "1.2.0",
       "_view_name": "LayoutView",
       "align_content": null,
       "align_items": null,
       "align_self": null,
       "border": null,
       "bottom": null,
       "display": null,
       "flex": null,
       "flex_flow": null,
       "grid_area": null,
       "grid_auto_columns": null,
       "grid_auto_flow": null,
       "grid_auto_rows": null,
       "grid_column": null,
       "grid_gap": null,
       "grid_row": null,
       "grid_template_areas": null,
       "grid_template_columns": null,
       "grid_template_rows": null,
       "height": null,
       "justify_content": null,
       "justify_items": null,
       "left": null,
       "margin": null,
       "max_height": null,
       "max_width": null,
       "min_height": null,
       "min_width": null,
       "object_fit": null,
       "object_position": null,
       "order": null,
       "overflow": null,
       "overflow_x": null,
       "overflow_y": null,
       "padding": null,
       "right": null,
       "top": null,
       "visibility": null,
       "width": null
      }
     },
     "7bdb0aca76fd4d178b2e6b07f81aff04": {
      "model_module": "@jupyter-widgets/controls",
      "model_module_version": "1.5.0",
      "model_name": "HTMLModel",
      "state": {
       "_dom_classes": [],
       "_model_module": "@jupyter-widgets/controls",
       "_model_module_version": "1.5.0",
       "_model_name": "HTMLModel",
       "_view_count": null,
       "_view_module": "@jupyter-widgets/controls",
       "_view_module_version": "1.5.0",
       "_view_name": "HTMLView",
       "description": "",
       "description_tooltip": null,
       "layout": "IPY_MODEL_107ae6f7250d47c5869fbfa0c249d9c0",
       "placeholder": "​",
       "style": "IPY_MODEL_3a2f5144f4fc4593badb1986ded3f748",
       "value": " 1.29M/1.29M [00:00&lt;00:00, 3.29MB/s]"
      }
     },
     "7f251ab2438a4b3daa5728f2baf5ccc2": {
      "model_module": "@jupyter-widgets/base",
      "model_module_version": "1.2.0",
      "model_name": "LayoutModel",
      "state": {
       "_model_module": "@jupyter-widgets/base",
       "_model_module_version": "1.2.0",
       "_model_name": "LayoutModel",
       "_view_count": null,
       "_view_module": "@jupyter-widgets/base",
       "_view_module_version": "1.2.0",
       "_view_name": "LayoutView",
       "align_content": null,
       "align_items": null,
       "align_self": null,
       "border": null,
       "bottom": null,
       "display": null,
       "flex": null,
       "flex_flow": null,
       "grid_area": null,
       "grid_auto_columns": null,
       "grid_auto_flow": null,
       "grid_auto_rows": null,
       "grid_column": null,
       "grid_gap": null,
       "grid_row": null,
       "grid_template_areas": null,
       "grid_template_columns": null,
       "grid_template_rows": null,
       "height": null,
       "justify_content": null,
       "justify_items": null,
       "left": null,
       "margin": null,
       "max_height": null,
       "max_width": null,
       "min_height": null,
       "min_width": null,
       "object_fit": null,
       "object_position": null,
       "order": null,
       "overflow": null,
       "overflow_x": null,
       "overflow_y": null,
       "padding": null,
       "right": null,
       "top": null,
       "visibility": null,
       "width": null
      }
     },
     "7fae43b4b05b44dfbc6faea4b2e24b2a": {
      "model_module": "@jupyter-widgets/base",
      "model_module_version": "1.2.0",
      "model_name": "LayoutModel",
      "state": {
       "_model_module": "@jupyter-widgets/base",
       "_model_module_version": "1.2.0",
       "_model_name": "LayoutModel",
       "_view_count": null,
       "_view_module": "@jupyter-widgets/base",
       "_view_module_version": "1.2.0",
       "_view_name": "LayoutView",
       "align_content": null,
       "align_items": null,
       "align_self": null,
       "border": null,
       "bottom": null,
       "display": null,
       "flex": null,
       "flex_flow": null,
       "grid_area": null,
       "grid_auto_columns": null,
       "grid_auto_flow": null,
       "grid_auto_rows": null,
       "grid_column": null,
       "grid_gap": null,
       "grid_row": null,
       "grid_template_areas": null,
       "grid_template_columns": null,
       "grid_template_rows": null,
       "height": null,
       "justify_content": null,
       "justify_items": null,
       "left": null,
       "margin": null,
       "max_height": null,
       "max_width": null,
       "min_height": null,
       "min_width": null,
       "object_fit": null,
       "object_position": null,
       "order": null,
       "overflow": null,
       "overflow_x": null,
       "overflow_y": null,
       "padding": null,
       "right": null,
       "top": null,
       "visibility": null,
       "width": null
      }
     },
     "8564546a028c469c95c8276d764d29d4": {
      "model_module": "@jupyter-widgets/controls",
      "model_module_version": "1.5.0",
      "model_name": "DescriptionStyleModel",
      "state": {
       "_model_module": "@jupyter-widgets/controls",
       "_model_module_version": "1.5.0",
       "_model_name": "DescriptionStyleModel",
       "_view_count": null,
       "_view_module": "@jupyter-widgets/base",
       "_view_module_version": "1.2.0",
       "_view_name": "StyleView",
       "description_width": ""
      }
     },
     "8b8325c3ac674a74b0eab05684e54a40": {
      "model_module": "@jupyter-widgets/base",
      "model_module_version": "1.2.0",
      "model_name": "LayoutModel",
      "state": {
       "_model_module": "@jupyter-widgets/base",
       "_model_module_version": "1.2.0",
       "_model_name": "LayoutModel",
       "_view_count": null,
       "_view_module": "@jupyter-widgets/base",
       "_view_module_version": "1.2.0",
       "_view_name": "LayoutView",
       "align_content": null,
       "align_items": null,
       "align_self": null,
       "border": null,
       "bottom": null,
       "display": null,
       "flex": null,
       "flex_flow": null,
       "grid_area": null,
       "grid_auto_columns": null,
       "grid_auto_flow": null,
       "grid_auto_rows": null,
       "grid_column": null,
       "grid_gap": null,
       "grid_row": null,
       "grid_template_areas": null,
       "grid_template_columns": null,
       "grid_template_rows": null,
       "height": null,
       "justify_content": null,
       "justify_items": null,
       "left": null,
       "margin": null,
       "max_height": null,
       "max_width": null,
       "min_height": null,
       "min_width": null,
       "object_fit": null,
       "object_position": null,
       "order": null,
       "overflow": null,
       "overflow_x": null,
       "overflow_y": null,
       "padding": null,
       "right": null,
       "top": null,
       "visibility": null,
       "width": null
      }
     },
     "8bef588957fb40a0b10889bdc9117fdc": {
      "model_module": "@jupyter-widgets/base",
      "model_module_version": "1.2.0",
      "model_name": "LayoutModel",
      "state": {
       "_model_module": "@jupyter-widgets/base",
       "_model_module_version": "1.2.0",
       "_model_name": "LayoutModel",
       "_view_count": null,
       "_view_module": "@jupyter-widgets/base",
       "_view_module_version": "1.2.0",
       "_view_name": "LayoutView",
       "align_content": null,
       "align_items": null,
       "align_self": null,
       "border": null,
       "bottom": null,
       "display": null,
       "flex": null,
       "flex_flow": null,
       "grid_area": null,
       "grid_auto_columns": null,
       "grid_auto_flow": null,
       "grid_auto_rows": null,
       "grid_column": null,
       "grid_gap": null,
       "grid_row": null,
       "grid_template_areas": null,
       "grid_template_columns": null,
       "grid_template_rows": null,
       "height": null,
       "justify_content": null,
       "justify_items": null,
       "left": null,
       "margin": null,
       "max_height": null,
       "max_width": null,
       "min_height": null,
       "min_width": null,
       "object_fit": null,
       "object_position": null,
       "order": null,
       "overflow": null,
       "overflow_x": null,
       "overflow_y": null,
       "padding": null,
       "right": null,
       "top": null,
       "visibility": null,
       "width": null
      }
     },
     "8c31c76762c740339443773871410978": {
      "model_module": "@jupyter-widgets/controls",
      "model_module_version": "1.5.0",
      "model_name": "HBoxModel",
      "state": {
       "_dom_classes": [],
       "_model_module": "@jupyter-widgets/controls",
       "_model_module_version": "1.5.0",
       "_model_name": "HBoxModel",
       "_view_count": null,
       "_view_module": "@jupyter-widgets/controls",
       "_view_module_version": "1.5.0",
       "_view_name": "HBoxView",
       "box_style": "",
       "children": [
        "IPY_MODEL_9b9558c452b944c3a6607269c1c26a7c",
        "IPY_MODEL_63616e40c787480d929446981f7a666a",
        "IPY_MODEL_321eb7b9aca04713a516aff5cfc68f5a"
       ],
       "layout": "IPY_MODEL_3337637ffb3a40e997aa6cf586a5b2b9"
      }
     },
     "8dc0646f1bb94faea1b0ad80318f7074": {
      "model_module": "@jupyter-widgets/controls",
      "model_module_version": "1.5.0",
      "model_name": "DescriptionStyleModel",
      "state": {
       "_model_module": "@jupyter-widgets/controls",
       "_model_module_version": "1.5.0",
       "_model_name": "DescriptionStyleModel",
       "_view_count": null,
       "_view_module": "@jupyter-widgets/base",
       "_view_module_version": "1.2.0",
       "_view_name": "StyleView",
       "description_width": ""
      }
     },
     "8fa4e39c177a4933abf37c33b4ddd08a": {
      "model_module": "@jupyter-widgets/controls",
      "model_module_version": "1.5.0",
      "model_name": "ProgressStyleModel",
      "state": {
       "_model_module": "@jupyter-widgets/controls",
       "_model_module_version": "1.5.0",
       "_model_name": "ProgressStyleModel",
       "_view_count": null,
       "_view_module": "@jupyter-widgets/base",
       "_view_module_version": "1.2.0",
       "_view_name": "StyleView",
       "bar_color": null,
       "description_width": ""
      }
     },
     "90266f3d92524b58b3fe3230f89cdd0b": {
      "model_module": "@jupyter-widgets/base",
      "model_module_version": "1.2.0",
      "model_name": "LayoutModel",
      "state": {
       "_model_module": "@jupyter-widgets/base",
       "_model_module_version": "1.2.0",
       "_model_name": "LayoutModel",
       "_view_count": null,
       "_view_module": "@jupyter-widgets/base",
       "_view_module_version": "1.2.0",
       "_view_name": "LayoutView",
       "align_content": null,
       "align_items": null,
       "align_self": null,
       "border": null,
       "bottom": null,
       "display": null,
       "flex": null,
       "flex_flow": null,
       "grid_area": null,
       "grid_auto_columns": null,
       "grid_auto_flow": null,
       "grid_auto_rows": null,
       "grid_column": null,
       "grid_gap": null,
       "grid_row": null,
       "grid_template_areas": null,
       "grid_template_columns": null,
       "grid_template_rows": null,
       "height": null,
       "justify_content": null,
       "justify_items": null,
       "left": null,
       "margin": null,
       "max_height": null,
       "max_width": null,
       "min_height": null,
       "min_width": null,
       "object_fit": null,
       "object_position": null,
       "order": null,
       "overflow": null,
       "overflow_x": null,
       "overflow_y": null,
       "padding": null,
       "right": null,
       "top": null,
       "visibility": null,
       "width": null
      }
     },
     "91b5a48cab854a32a2bd08c524b5ffbc": {
      "model_module": "@jupyter-widgets/controls",
      "model_module_version": "1.5.0",
      "model_name": "HTMLModel",
      "state": {
       "_dom_classes": [],
       "_model_module": "@jupyter-widgets/controls",
       "_model_module_version": "1.5.0",
       "_model_name": "HTMLModel",
       "_view_count": null,
       "_view_module": "@jupyter-widgets/controls",
       "_view_module_version": "1.5.0",
       "_view_name": "HTMLView",
       "description": "",
       "description_tooltip": null,
       "layout": "IPY_MODEL_90266f3d92524b58b3fe3230f89cdd0b",
       "placeholder": "​",
       "style": "IPY_MODEL_ab767bcbfbf340919cdd2fa66e519ce6",
       "value": " 455k/455k [00:00&lt;00:00, 5.42MB/s]"
      }
     },
     "92c0b2fb75274d5288b95e73ecfecb5b": {
      "model_module": "@jupyter-widgets/base",
      "model_module_version": "1.2.0",
      "model_name": "LayoutModel",
      "state": {
       "_model_module": "@jupyter-widgets/base",
       "_model_module_version": "1.2.0",
       "_model_name": "LayoutModel",
       "_view_count": null,
       "_view_module": "@jupyter-widgets/base",
       "_view_module_version": "1.2.0",
       "_view_name": "LayoutView",
       "align_content": null,
       "align_items": null,
       "align_self": null,
       "border": null,
       "bottom": null,
       "display": null,
       "flex": null,
       "flex_flow": null,
       "grid_area": null,
       "grid_auto_columns": null,
       "grid_auto_flow": null,
       "grid_auto_rows": null,
       "grid_column": null,
       "grid_gap": null,
       "grid_row": null,
       "grid_template_areas": null,
       "grid_template_columns": null,
       "grid_template_rows": null,
       "height": null,
       "justify_content": null,
       "justify_items": null,
       "left": null,
       "margin": null,
       "max_height": null,
       "max_width": null,
       "min_height": null,
       "min_width": null,
       "object_fit": null,
       "object_position": null,
       "order": null,
       "overflow": null,
       "overflow_x": null,
       "overflow_y": null,
       "padding": null,
       "right": null,
       "top": null,
       "visibility": null,
       "width": null
      }
     },
     "9b9558c452b944c3a6607269c1c26a7c": {
      "model_module": "@jupyter-widgets/controls",
      "model_module_version": "1.5.0",
      "model_name": "HTMLModel",
      "state": {
       "_dom_classes": [],
       "_model_module": "@jupyter-widgets/controls",
       "_model_module_version": "1.5.0",
       "_model_name": "HTMLModel",
       "_view_count": null,
       "_view_module": "@jupyter-widgets/controls",
       "_view_module_version": "1.5.0",
       "_view_name": "HTMLView",
       "description": "",
       "description_tooltip": null,
       "layout": "IPY_MODEL_5cf0a4c4745e440f8460e8f4e0489082",
       "placeholder": "​",
       "style": "IPY_MODEL_73703450e5ef4d9aa7ae2fd309655cae",
       "value": "Downloading: 100%"
      }
     },
     "9c7da03f568e4a7999acf625bea9673d": {
      "model_module": "@jupyter-widgets/base",
      "model_module_version": "1.2.0",
      "model_name": "LayoutModel",
      "state": {
       "_model_module": "@jupyter-widgets/base",
       "_model_module_version": "1.2.0",
       "_model_name": "LayoutModel",
       "_view_count": null,
       "_view_module": "@jupyter-widgets/base",
       "_view_module_version": "1.2.0",
       "_view_name": "LayoutView",
       "align_content": null,
       "align_items": null,
       "align_self": null,
       "border": null,
       "bottom": null,
       "display": null,
       "flex": null,
       "flex_flow": null,
       "grid_area": null,
       "grid_auto_columns": null,
       "grid_auto_flow": null,
       "grid_auto_rows": null,
       "grid_column": null,
       "grid_gap": null,
       "grid_row": null,
       "grid_template_areas": null,
       "grid_template_columns": null,
       "grid_template_rows": null,
       "height": null,
       "justify_content": null,
       "justify_items": null,
       "left": null,
       "margin": null,
       "max_height": null,
       "max_width": null,
       "min_height": null,
       "min_width": null,
       "object_fit": null,
       "object_position": null,
       "order": null,
       "overflow": null,
       "overflow_x": null,
       "overflow_y": null,
       "padding": null,
       "right": null,
       "top": null,
       "visibility": null,
       "width": null
      }
     },
     "a120dd2b2179424187cc8163591ce5f0": {
      "model_module": "@jupyter-widgets/controls",
      "model_module_version": "1.5.0",
      "model_name": "DescriptionStyleModel",
      "state": {
       "_model_module": "@jupyter-widgets/controls",
       "_model_module_version": "1.5.0",
       "_model_name": "DescriptionStyleModel",
       "_view_count": null,
       "_view_module": "@jupyter-widgets/base",
       "_view_module_version": "1.2.0",
       "_view_name": "StyleView",
       "description_width": ""
      }
     },
     "a2eb17c4123542bfa329ee9bcba833e6": {
      "model_module": "@jupyter-widgets/controls",
      "model_module_version": "1.5.0",
      "model_name": "ProgressStyleModel",
      "state": {
       "_model_module": "@jupyter-widgets/controls",
       "_model_module_version": "1.5.0",
       "_model_name": "ProgressStyleModel",
       "_view_count": null,
       "_view_module": "@jupyter-widgets/base",
       "_view_module_version": "1.2.0",
       "_view_name": "StyleView",
       "bar_color": null,
       "description_width": ""
      }
     },
     "a3f3d8ec13d64502aa0fdc079f5dbc44": {
      "model_module": "@jupyter-widgets/base",
      "model_module_version": "1.2.0",
      "model_name": "LayoutModel",
      "state": {
       "_model_module": "@jupyter-widgets/base",
       "_model_module_version": "1.2.0",
       "_model_name": "LayoutModel",
       "_view_count": null,
       "_view_module": "@jupyter-widgets/base",
       "_view_module_version": "1.2.0",
       "_view_name": "LayoutView",
       "align_content": null,
       "align_items": null,
       "align_self": null,
       "border": null,
       "bottom": null,
       "display": null,
       "flex": null,
       "flex_flow": null,
       "grid_area": null,
       "grid_auto_columns": null,
       "grid_auto_flow": null,
       "grid_auto_rows": null,
       "grid_column": null,
       "grid_gap": null,
       "grid_row": null,
       "grid_template_areas": null,
       "grid_template_columns": null,
       "grid_template_rows": null,
       "height": null,
       "justify_content": null,
       "justify_items": null,
       "left": null,
       "margin": null,
       "max_height": null,
       "max_width": null,
       "min_height": null,
       "min_width": null,
       "object_fit": null,
       "object_position": null,
       "order": null,
       "overflow": null,
       "overflow_x": null,
       "overflow_y": null,
       "padding": null,
       "right": null,
       "top": null,
       "visibility": null,
       "width": null
      }
     },
     "a6bdf975062a49cd96ac862d6fcbfb3f": {
      "model_module": "@jupyter-widgets/controls",
      "model_module_version": "1.5.0",
      "model_name": "HTMLModel",
      "state": {
       "_dom_classes": [],
       "_model_module": "@jupyter-widgets/controls",
       "_model_module_version": "1.5.0",
       "_model_name": "HTMLModel",
       "_view_count": null,
       "_view_module": "@jupyter-widgets/controls",
       "_view_module_version": "1.5.0",
       "_view_name": "HTMLView",
       "description": "",
       "description_tooltip": null,
       "layout": "IPY_MODEL_c051ff14761342f089e451c90dc640ad",
       "placeholder": "​",
       "style": "IPY_MODEL_52ff7a9e47f743a6a7c58be5589a263d",
       "value": "Downloading: 100%"
      }
     },
     "a775b2cf664d42f8afd74631dfa6fc03": {
      "model_module": "@jupyter-widgets/controls",
      "model_module_version": "1.5.0",
      "model_name": "HTMLModel",
      "state": {
       "_dom_classes": [],
       "_model_module": "@jupyter-widgets/controls",
       "_model_module_version": "1.5.0",
       "_model_name": "HTMLModel",
       "_view_count": null,
       "_view_module": "@jupyter-widgets/controls",
       "_view_module_version": "1.5.0",
       "_view_name": "HTMLView",
       "description": "",
       "description_tooltip": null,
       "layout": "IPY_MODEL_64a473bd83044d659d47317e71be28db",
       "placeholder": "​",
       "style": "IPY_MODEL_8564546a028c469c95c8276d764d29d4",
       "value": "Downloading: 100%"
      }
     },
     "a7bb90c292c6458d9ef2cb6b2a019dc9": {
      "model_module": "@jupyter-widgets/controls",
      "model_module_version": "1.5.0",
      "model_name": "ProgressStyleModel",
      "state": {
       "_model_module": "@jupyter-widgets/controls",
       "_model_module_version": "1.5.0",
       "_model_name": "ProgressStyleModel",
       "_view_count": null,
       "_view_module": "@jupyter-widgets/base",
       "_view_module_version": "1.2.0",
       "_view_name": "StyleView",
       "bar_color": null,
       "description_width": ""
      }
     },
     "a80538e0596a427b89c8cc883b27fabf": {
      "model_module": "@jupyter-widgets/controls",
      "model_module_version": "1.5.0",
      "model_name": "HBoxModel",
      "state": {
       "_dom_classes": [],
       "_model_module": "@jupyter-widgets/controls",
       "_model_module_version": "1.5.0",
       "_model_name": "HBoxModel",
       "_view_count": null,
       "_view_module": "@jupyter-widgets/controls",
       "_view_module_version": "1.5.0",
       "_view_name": "HBoxView",
       "box_style": "",
       "children": [
        "IPY_MODEL_c41a9e3e7a974d5ca279e135d9a1a109",
        "IPY_MODEL_43be282ccfb7474ba0c1520e6c279a62",
        "IPY_MODEL_7bdb0aca76fd4d178b2e6b07f81aff04"
       ],
       "layout": "IPY_MODEL_3b8b4cfdb6d6496a86fc408544bbcfff"
      }
     },
     "ab767bcbfbf340919cdd2fa66e519ce6": {
      "model_module": "@jupyter-widgets/controls",
      "model_module_version": "1.5.0",
      "model_name": "DescriptionStyleModel",
      "state": {
       "_model_module": "@jupyter-widgets/controls",
       "_model_module_version": "1.5.0",
       "_model_name": "DescriptionStyleModel",
       "_view_count": null,
       "_view_module": "@jupyter-widgets/base",
       "_view_module_version": "1.2.0",
       "_view_name": "StyleView",
       "description_width": ""
      }
     },
     "b3255151a6e343bbbae78984ab8f5860": {
      "model_module": "@jupyter-widgets/controls",
      "model_module_version": "1.5.0",
      "model_name": "DescriptionStyleModel",
      "state": {
       "_model_module": "@jupyter-widgets/controls",
       "_model_module_version": "1.5.0",
       "_model_name": "DescriptionStyleModel",
       "_view_count": null,
       "_view_module": "@jupyter-widgets/base",
       "_view_module_version": "1.2.0",
       "_view_name": "StyleView",
       "description_width": ""
      }
     },
     "b59b8f220b9649388f407fddfa451083": {
      "model_module": "@jupyter-widgets/controls",
      "model_module_version": "1.5.0",
      "model_name": "HBoxModel",
      "state": {
       "_dom_classes": [],
       "_model_module": "@jupyter-widgets/controls",
       "_model_module_version": "1.5.0",
       "_model_name": "HBoxModel",
       "_view_count": null,
       "_view_module": "@jupyter-widgets/controls",
       "_view_module_version": "1.5.0",
       "_view_name": "HBoxView",
       "box_style": "",
       "children": [
        "IPY_MODEL_58bfe2bfdec44261a7d4a80432489af9",
        "IPY_MODEL_391cc7e591a54e4994431c54966f5b45",
        "IPY_MODEL_e5e8de4899354d73813c6364d629af36"
       ],
       "layout": "IPY_MODEL_ecad39bc66584bbe9dda45cb0d9a9298"
      }
     },
     "ba2de774f0df4c68806bb2f84d90b0b7": {
      "model_module": "@jupyter-widgets/controls",
      "model_module_version": "1.5.0",
      "model_name": "HTMLModel",
      "state": {
       "_dom_classes": [],
       "_model_module": "@jupyter-widgets/controls",
       "_model_module_version": "1.5.0",
       "_model_name": "HTMLModel",
       "_view_count": null,
       "_view_module": "@jupyter-widgets/controls",
       "_view_module_version": "1.5.0",
       "_view_name": "HTMLView",
       "description": "",
       "description_tooltip": null,
       "layout": "IPY_MODEL_eb5b4ecc575345718c335da43db8941d",
       "placeholder": "​",
       "style": "IPY_MODEL_dc0e1c2e5af847c1b177b77264d82690",
       "value": " 48.0/48.0 [00:00&lt;00:00, 1.83kB/s]"
      }
     },
     "ba39817012e343c8986d21f73da7cdd7": {
      "model_module": "@jupyter-widgets/controls",
      "model_module_version": "1.5.0",
      "model_name": "HTMLModel",
      "state": {
       "_dom_classes": [],
       "_model_module": "@jupyter-widgets/controls",
       "_model_module_version": "1.5.0",
       "_model_name": "HTMLModel",
       "_view_count": null,
       "_view_module": "@jupyter-widgets/controls",
       "_view_module_version": "1.5.0",
       "_view_name": "HTMLView",
       "description": "",
       "description_tooltip": null,
       "layout": "IPY_MODEL_8b8325c3ac674a74b0eab05684e54a40",
       "placeholder": "​",
       "style": "IPY_MODEL_ddb11d8287fb47c8bd9743cbd5ed5022",
       "value": " 481/481 [00:00&lt;00:00, 17.1kB/s]"
      }
     },
     "bb7acb65586d4f989cd309e206bcdc45": {
      "model_module": "@jupyter-widgets/controls",
      "model_module_version": "1.5.0",
      "model_name": "HTMLModel",
      "state": {
       "_dom_classes": [],
       "_model_module": "@jupyter-widgets/controls",
       "_model_module_version": "1.5.0",
       "_model_name": "HTMLModel",
       "_view_count": null,
       "_view_module": "@jupyter-widgets/controls",
       "_view_module_version": "1.5.0",
       "_view_name": "HTMLView",
       "description": "",
       "description_tooltip": null,
       "layout": "IPY_MODEL_fc7fab9b25434243a209a61726cdb0c8",
       "placeholder": "​",
       "style": "IPY_MODEL_fa190a606e1142e79448e8ccb90e91b2",
       "value": " 570/570 [00:00&lt;00:00, 20.6kB/s]"
      }
     },
     "bcbe5c2657c6424ab80bc34f776c5639": {
      "model_module": "@jupyter-widgets/controls",
      "model_module_version": "1.5.0",
      "model_name": "HTMLModel",
      "state": {
       "_dom_classes": [],
       "_model_module": "@jupyter-widgets/controls",
       "_model_module_version": "1.5.0",
       "_model_name": "HTMLModel",
       "_view_count": null,
       "_view_module": "@jupyter-widgets/controls",
       "_view_module_version": "1.5.0",
       "_view_name": "HTMLView",
       "description": "",
       "description_tooltip": null,
       "layout": "IPY_MODEL_7fae43b4b05b44dfbc6faea4b2e24b2a",
       "placeholder": "​",
       "style": "IPY_MODEL_a120dd2b2179424187cc8163591ce5f0",
       "value": "Downloading: 100%"
      }
     },
     "bf0642eedabf47e1ac39155503a524f6": {
      "model_module": "@jupyter-widgets/base",
      "model_module_version": "1.2.0",
      "model_name": "LayoutModel",
      "state": {
       "_model_module": "@jupyter-widgets/base",
       "_model_module_version": "1.2.0",
       "_model_name": "LayoutModel",
       "_view_count": null,
       "_view_module": "@jupyter-widgets/base",
       "_view_module_version": "1.2.0",
       "_view_name": "LayoutView",
       "align_content": null,
       "align_items": null,
       "align_self": null,
       "border": null,
       "bottom": null,
       "display": null,
       "flex": null,
       "flex_flow": null,
       "grid_area": null,
       "grid_auto_columns": null,
       "grid_auto_flow": null,
       "grid_auto_rows": null,
       "grid_column": null,
       "grid_gap": null,
       "grid_row": null,
       "grid_template_areas": null,
       "grid_template_columns": null,
       "grid_template_rows": null,
       "height": null,
       "justify_content": null,
       "justify_items": null,
       "left": null,
       "margin": null,
       "max_height": null,
       "max_width": null,
       "min_height": null,
       "min_width": null,
       "object_fit": null,
       "object_position": null,
       "order": null,
       "overflow": null,
       "overflow_x": null,
       "overflow_y": null,
       "padding": null,
       "right": null,
       "top": null,
       "visibility": null,
       "width": null
      }
     },
     "c051ff14761342f089e451c90dc640ad": {
      "model_module": "@jupyter-widgets/base",
      "model_module_version": "1.2.0",
      "model_name": "LayoutModel",
      "state": {
       "_model_module": "@jupyter-widgets/base",
       "_model_module_version": "1.2.0",
       "_model_name": "LayoutModel",
       "_view_count": null,
       "_view_module": "@jupyter-widgets/base",
       "_view_module_version": "1.2.0",
       "_view_name": "LayoutView",
       "align_content": null,
       "align_items": null,
       "align_self": null,
       "border": null,
       "bottom": null,
       "display": null,
       "flex": null,
       "flex_flow": null,
       "grid_area": null,
       "grid_auto_columns": null,
       "grid_auto_flow": null,
       "grid_auto_rows": null,
       "grid_column": null,
       "grid_gap": null,
       "grid_row": null,
       "grid_template_areas": null,
       "grid_template_columns": null,
       "grid_template_rows": null,
       "height": null,
       "justify_content": null,
       "justify_items": null,
       "left": null,
       "margin": null,
       "max_height": null,
       "max_width": null,
       "min_height": null,
       "min_width": null,
       "object_fit": null,
       "object_position": null,
       "order": null,
       "overflow": null,
       "overflow_x": null,
       "overflow_y": null,
       "padding": null,
       "right": null,
       "top": null,
       "visibility": null,
       "width": null
      }
     },
     "c1e02b235dda4927af6f1a8b2796dfae": {
      "model_module": "@jupyter-widgets/controls",
      "model_module_version": "1.5.0",
      "model_name": "HTMLModel",
      "state": {
       "_dom_classes": [],
       "_model_module": "@jupyter-widgets/controls",
       "_model_module_version": "1.5.0",
       "_model_name": "HTMLModel",
       "_view_count": null,
       "_view_module": "@jupyter-widgets/controls",
       "_view_module_version": "1.5.0",
       "_view_name": "HTMLView",
       "description": "",
       "description_tooltip": null,
       "layout": "IPY_MODEL_3ac3b59f62e1426b9adc56a4641202ae",
       "placeholder": "​",
       "style": "IPY_MODEL_8dc0646f1bb94faea1b0ad80318f7074",
       "value": " 878k/878k [00:00&lt;00:00, 6.06MB/s]"
      }
     },
     "c28c317b07b94df891ec778544f47544": {
      "model_module": "@jupyter-widgets/controls",
      "model_module_version": "1.5.0",
      "model_name": "ProgressStyleModel",
      "state": {
       "_model_module": "@jupyter-widgets/controls",
       "_model_module_version": "1.5.0",
       "_model_name": "ProgressStyleModel",
       "_view_count": null,
       "_view_module": "@jupyter-widgets/base",
       "_view_module_version": "1.2.0",
       "_view_name": "StyleView",
       "bar_color": null,
       "description_width": ""
      }
     },
     "c3a727e30fdc40ada12fdcf790147615": {
      "model_module": "@jupyter-widgets/base",
      "model_module_version": "1.2.0",
      "model_name": "LayoutModel",
      "state": {
       "_model_module": "@jupyter-widgets/base",
       "_model_module_version": "1.2.0",
       "_model_name": "LayoutModel",
       "_view_count": null,
       "_view_module": "@jupyter-widgets/base",
       "_view_module_version": "1.2.0",
       "_view_name": "LayoutView",
       "align_content": null,
       "align_items": null,
       "align_self": null,
       "border": null,
       "bottom": null,
       "display": null,
       "flex": null,
       "flex_flow": null,
       "grid_area": null,
       "grid_auto_columns": null,
       "grid_auto_flow": null,
       "grid_auto_rows": null,
       "grid_column": null,
       "grid_gap": null,
       "grid_row": null,
       "grid_template_areas": null,
       "grid_template_columns": null,
       "grid_template_rows": null,
       "height": null,
       "justify_content": null,
       "justify_items": null,
       "left": null,
       "margin": null,
       "max_height": null,
       "max_width": null,
       "min_height": null,
       "min_width": null,
       "object_fit": null,
       "object_position": null,
       "order": null,
       "overflow": null,
       "overflow_x": null,
       "overflow_y": null,
       "padding": null,
       "right": null,
       "top": null,
       "visibility": null,
       "width": null
      }
     },
     "c41a9e3e7a974d5ca279e135d9a1a109": {
      "model_module": "@jupyter-widgets/controls",
      "model_module_version": "1.5.0",
      "model_name": "HTMLModel",
      "state": {
       "_dom_classes": [],
       "_model_module": "@jupyter-widgets/controls",
       "_model_module_version": "1.5.0",
       "_model_name": "HTMLModel",
       "_view_count": null,
       "_view_module": "@jupyter-widgets/controls",
       "_view_module_version": "1.5.0",
       "_view_name": "HTMLView",
       "description": "",
       "description_tooltip": null,
       "layout": "IPY_MODEL_9c7da03f568e4a7999acf625bea9673d",
       "placeholder": "​",
       "style": "IPY_MODEL_266f4cbd8c8941c5a7642c023a132fa7",
       "value": "Downloading: 100%"
      }
     },
     "c6104b9648bc491cba94095a0f026c2a": {
      "model_module": "@jupyter-widgets/base",
      "model_module_version": "1.2.0",
      "model_name": "LayoutModel",
      "state": {
       "_model_module": "@jupyter-widgets/base",
       "_model_module_version": "1.2.0",
       "_model_name": "LayoutModel",
       "_view_count": null,
       "_view_module": "@jupyter-widgets/base",
       "_view_module_version": "1.2.0",
       "_view_name": "LayoutView",
       "align_content": null,
       "align_items": null,
       "align_self": null,
       "border": null,
       "bottom": null,
       "display": null,
       "flex": null,
       "flex_flow": null,
       "grid_area": null,
       "grid_auto_columns": null,
       "grid_auto_flow": null,
       "grid_auto_rows": null,
       "grid_column": null,
       "grid_gap": null,
       "grid_row": null,
       "grid_template_areas": null,
       "grid_template_columns": null,
       "grid_template_rows": null,
       "height": null,
       "justify_content": null,
       "justify_items": null,
       "left": null,
       "margin": null,
       "max_height": null,
       "max_width": null,
       "min_height": null,
       "min_width": null,
       "object_fit": null,
       "object_position": null,
       "order": null,
       "overflow": null,
       "overflow_x": null,
       "overflow_y": null,
       "padding": null,
       "right": null,
       "top": null,
       "visibility": null,
       "width": null
      }
     },
     "ca9039ae616145b09ed7dc1941a3c2c2": {
      "model_module": "@jupyter-widgets/controls",
      "model_module_version": "1.5.0",
      "model_name": "FloatProgressModel",
      "state": {
       "_dom_classes": [],
       "_model_module": "@jupyter-widgets/controls",
       "_model_module_version": "1.5.0",
       "_model_name": "FloatProgressModel",
       "_view_count": null,
       "_view_module": "@jupyter-widgets/controls",
       "_view_module_version": "1.5.0",
       "_view_name": "ProgressView",
       "bar_style": "success",
       "description": "",
       "description_tooltip": null,
       "layout": "IPY_MODEL_31173dc8b8904026b31a959029b8f49d",
       "max": 657434796.0,
       "min": 0.0,
       "orientation": "horizontal",
       "style": "IPY_MODEL_f368a4c01a954abd881eb4d014e1df1a",
       "value": 657434796.0
      }
     },
     "cb96c23e633f453ab4c320bdd6e8a0f6": {
      "model_module": "@jupyter-widgets/base",
      "model_module_version": "1.2.0",
      "model_name": "LayoutModel",
      "state": {
       "_model_module": "@jupyter-widgets/base",
       "_model_module_version": "1.2.0",
       "_model_name": "LayoutModel",
       "_view_count": null,
       "_view_module": "@jupyter-widgets/base",
       "_view_module_version": "1.2.0",
       "_view_name": "LayoutView",
       "align_content": null,
       "align_items": null,
       "align_self": null,
       "border": null,
       "bottom": null,
       "display": null,
       "flex": null,
       "flex_flow": null,
       "grid_area": null,
       "grid_auto_columns": null,
       "grid_auto_flow": null,
       "grid_auto_rows": null,
       "grid_column": null,
       "grid_gap": null,
       "grid_row": null,
       "grid_template_areas": null,
       "grid_template_columns": null,
       "grid_template_rows": null,
       "height": null,
       "justify_content": null,
       "justify_items": null,
       "left": null,
       "margin": null,
       "max_height": null,
       "max_width": null,
       "min_height": null,
       "min_width": null,
       "object_fit": null,
       "object_position": null,
       "order": null,
       "overflow": null,
       "overflow_x": null,
       "overflow_y": null,
       "padding": null,
       "right": null,
       "top": null,
       "visibility": null,
       "width": null
      }
     },
     "cefae18071d943558480e183972dcc37": {
      "model_module": "@jupyter-widgets/controls",
      "model_module_version": "1.5.0",
      "model_name": "HBoxModel",
      "state": {
       "_dom_classes": [],
       "_model_module": "@jupyter-widgets/controls",
       "_model_module_version": "1.5.0",
       "_model_name": "HBoxModel",
       "_view_count": null,
       "_view_module": "@jupyter-widgets/controls",
       "_view_module_version": "1.5.0",
       "_view_name": "HBoxView",
       "box_style": "",
       "children": [
        "IPY_MODEL_f5f2fb60a9f1497eab2b4ceea8d0e67f",
        "IPY_MODEL_0d7a6d4156c44cbb95322353f5e4ac94",
        "IPY_MODEL_d24aa2e9ab354d26b617745f7b40b247"
       ],
       "layout": "IPY_MODEL_086b212cc4a348ec96839e491582770b"
      }
     },
     "cf52b7aae2e94735a2d1a47359d7b8aa": {
      "model_module": "@jupyter-widgets/base",
      "model_module_version": "1.2.0",
      "model_name": "LayoutModel",
      "state": {
       "_model_module": "@jupyter-widgets/base",
       "_model_module_version": "1.2.0",
       "_model_name": "LayoutModel",
       "_view_count": null,
       "_view_module": "@jupyter-widgets/base",
       "_view_module_version": "1.2.0",
       "_view_name": "LayoutView",
       "align_content": null,
       "align_items": null,
       "align_self": null,
       "border": null,
       "bottom": null,
       "display": null,
       "flex": null,
       "flex_flow": null,
       "grid_area": null,
       "grid_auto_columns": null,
       "grid_auto_flow": null,
       "grid_auto_rows": null,
       "grid_column": null,
       "grid_gap": null,
       "grid_row": null,
       "grid_template_areas": null,
       "grid_template_columns": null,
       "grid_template_rows": null,
       "height": null,
       "justify_content": null,
       "justify_items": null,
       "left": null,
       "margin": null,
       "max_height": null,
       "max_width": null,
       "min_height": null,
       "min_width": null,
       "object_fit": null,
       "object_position": null,
       "order": null,
       "overflow": null,
       "overflow_x": null,
       "overflow_y": null,
       "padding": null,
       "right": null,
       "top": null,
       "visibility": null,
       "width": null
      }
     },
     "d241a79fb5384eba9eae0a77364e13ad": {
      "model_module": "@jupyter-widgets/controls",
      "model_module_version": "1.5.0",
      "model_name": "ProgressStyleModel",
      "state": {
       "_model_module": "@jupyter-widgets/controls",
       "_model_module_version": "1.5.0",
       "_model_name": "ProgressStyleModel",
       "_view_count": null,
       "_view_module": "@jupyter-widgets/base",
       "_view_module_version": "1.2.0",
       "_view_name": "StyleView",
       "bar_color": null,
       "description_width": ""
      }
     },
     "d24aa2e9ab354d26b617745f7b40b247": {
      "model_module": "@jupyter-widgets/controls",
      "model_module_version": "1.5.0",
      "model_name": "HTMLModel",
      "state": {
       "_dom_classes": [],
       "_model_module": "@jupyter-widgets/controls",
       "_model_module_version": "1.5.0",
       "_model_name": "HTMLModel",
       "_view_count": null,
       "_view_module": "@jupyter-widgets/controls",
       "_view_module_version": "1.5.0",
       "_view_name": "HTMLView",
       "description": "",
       "description_tooltip": null,
       "layout": "IPY_MODEL_70248deb26f3464491c2e14e28a4d0b2",
       "placeholder": "​",
       "style": "IPY_MODEL_dcc9c823846c42f8a37b1db3b0abc3e1",
       "value": " 25.0/25.0 [00:00&lt;00:00, 899B/s]"
      }
     },
     "d4664ec087f34b979f40220a970ff6f6": {
      "model_module": "@jupyter-widgets/base",
      "model_module_version": "1.2.0",
      "model_name": "LayoutModel",
      "state": {
       "_model_module": "@jupyter-widgets/base",
       "_model_module_version": "1.2.0",
       "_model_name": "LayoutModel",
       "_view_count": null,
       "_view_module": "@jupyter-widgets/base",
       "_view_module_version": "1.2.0",
       "_view_name": "LayoutView",
       "align_content": null,
       "align_items": null,
       "align_self": null,
       "border": null,
       "bottom": null,
       "display": null,
       "flex": null,
       "flex_flow": null,
       "grid_area": null,
       "grid_auto_columns": null,
       "grid_auto_flow": null,
       "grid_auto_rows": null,
       "grid_column": null,
       "grid_gap": null,
       "grid_row": null,
       "grid_template_areas": null,
       "grid_template_columns": null,
       "grid_template_rows": null,
       "height": null,
       "justify_content": null,
       "justify_items": null,
       "left": null,
       "margin": null,
       "max_height": null,
       "max_width": null,
       "min_height": null,
       "min_width": null,
       "object_fit": null,
       "object_position": null,
       "order": null,
       "overflow": null,
       "overflow_x": null,
       "overflow_y": null,
       "padding": null,
       "right": null,
       "top": null,
       "visibility": null,
       "width": null
      }
     },
     "d78b90f9e79b4ff89d1b168c85dd58fd": {
      "model_module": "@jupyter-widgets/controls",
      "model_module_version": "1.5.0",
      "model_name": "HBoxModel",
      "state": {
       "_dom_classes": [],
       "_model_module": "@jupyter-widgets/controls",
       "_model_module_version": "1.5.0",
       "_model_name": "HBoxModel",
       "_view_count": null,
       "_view_module": "@jupyter-widgets/controls",
       "_view_module_version": "1.5.0",
       "_view_name": "HBoxView",
       "box_style": "",
       "children": [
        "IPY_MODEL_a6bdf975062a49cd96ac862d6fcbfb3f",
        "IPY_MODEL_ca9039ae616145b09ed7dc1941a3c2c2",
        "IPY_MODEL_1c3ad33ecc2349988af14293f7337fcd"
       ],
       "layout": "IPY_MODEL_76598ebd725045128dbb83c84b99d7d0"
      }
     },
     "d79e99ab145445acb0afaf12a1bfe1c0": {
      "model_module": "@jupyter-widgets/controls",
      "model_module_version": "1.5.0",
      "model_name": "FloatProgressModel",
      "state": {
       "_dom_classes": [],
       "_model_module": "@jupyter-widgets/controls",
       "_model_module_version": "1.5.0",
       "_model_name": "FloatProgressModel",
       "_view_count": null,
       "_view_module": "@jupyter-widgets/controls",
       "_view_module_version": "1.5.0",
       "_view_name": "ProgressView",
       "bar_style": "success",
       "description": "",
       "description_tooltip": null,
       "layout": "IPY_MODEL_a3f3d8ec13d64502aa0fdc079f5dbc44",
       "max": 48.0,
       "min": 0.0,
       "orientation": "horizontal",
       "style": "IPY_MODEL_d241a79fb5384eba9eae0a77364e13ad",
       "value": 48.0
      }
     },
     "daf230a41e204b17b0506ec012a24996": {
      "model_module": "@jupyter-widgets/base",
      "model_module_version": "1.2.0",
      "model_name": "LayoutModel",
      "state": {
       "_model_module": "@jupyter-widgets/base",
       "_model_module_version": "1.2.0",
       "_model_name": "LayoutModel",
       "_view_count": null,
       "_view_module": "@jupyter-widgets/base",
       "_view_module_version": "1.2.0",
       "_view_name": "LayoutView",
       "align_content": null,
       "align_items": null,
       "align_self": null,
       "border": null,
       "bottom": null,
       "display": null,
       "flex": null,
       "flex_flow": null,
       "grid_area": null,
       "grid_auto_columns": null,
       "grid_auto_flow": null,
       "grid_auto_rows": null,
       "grid_column": null,
       "grid_gap": null,
       "grid_row": null,
       "grid_template_areas": null,
       "grid_template_columns": null,
       "grid_template_rows": null,
       "height": null,
       "justify_content": null,
       "justify_items": null,
       "left": null,
       "margin": null,
       "max_height": null,
       "max_width": null,
       "min_height": null,
       "min_width": null,
       "object_fit": null,
       "object_position": null,
       "order": null,
       "overflow": null,
       "overflow_x": null,
       "overflow_y": null,
       "padding": null,
       "right": null,
       "top": null,
       "visibility": null,
       "width": null
      }
     },
     "dc0e1c2e5af847c1b177b77264d82690": {
      "model_module": "@jupyter-widgets/controls",
      "model_module_version": "1.5.0",
      "model_name": "DescriptionStyleModel",
      "state": {
       "_model_module": "@jupyter-widgets/controls",
       "_model_module_version": "1.5.0",
       "_model_name": "DescriptionStyleModel",
       "_view_count": null,
       "_view_module": "@jupyter-widgets/base",
       "_view_module_version": "1.2.0",
       "_view_name": "StyleView",
       "description_width": ""
      }
     },
     "dcc9c823846c42f8a37b1db3b0abc3e1": {
      "model_module": "@jupyter-widgets/controls",
      "model_module_version": "1.5.0",
      "model_name": "DescriptionStyleModel",
      "state": {
       "_model_module": "@jupyter-widgets/controls",
       "_model_module_version": "1.5.0",
       "_model_name": "DescriptionStyleModel",
       "_view_count": null,
       "_view_module": "@jupyter-widgets/base",
       "_view_module_version": "1.2.0",
       "_view_name": "StyleView",
       "description_width": ""
      }
     },
     "ddb11d8287fb47c8bd9743cbd5ed5022": {
      "model_module": "@jupyter-widgets/controls",
      "model_module_version": "1.5.0",
      "model_name": "DescriptionStyleModel",
      "state": {
       "_model_module": "@jupyter-widgets/controls",
       "_model_module_version": "1.5.0",
       "_model_name": "DescriptionStyleModel",
       "_view_count": null,
       "_view_module": "@jupyter-widgets/base",
       "_view_module_version": "1.2.0",
       "_view_name": "StyleView",
       "description_width": ""
      }
     },
     "e00dffa4798f427ebfa2664a1fb7f457": {
      "model_module": "@jupyter-widgets/base",
      "model_module_version": "1.2.0",
      "model_name": "LayoutModel",
      "state": {
       "_model_module": "@jupyter-widgets/base",
       "_model_module_version": "1.2.0",
       "_model_name": "LayoutModel",
       "_view_count": null,
       "_view_module": "@jupyter-widgets/base",
       "_view_module_version": "1.2.0",
       "_view_name": "LayoutView",
       "align_content": null,
       "align_items": null,
       "align_self": null,
       "border": null,
       "bottom": null,
       "display": null,
       "flex": null,
       "flex_flow": null,
       "grid_area": null,
       "grid_auto_columns": null,
       "grid_auto_flow": null,
       "grid_auto_rows": null,
       "grid_column": null,
       "grid_gap": null,
       "grid_row": null,
       "grid_template_areas": null,
       "grid_template_columns": null,
       "grid_template_rows": null,
       "height": null,
       "justify_content": null,
       "justify_items": null,
       "left": null,
       "margin": null,
       "max_height": null,
       "max_width": null,
       "min_height": null,
       "min_width": null,
       "object_fit": null,
       "object_position": null,
       "order": null,
       "overflow": null,
       "overflow_x": null,
       "overflow_y": null,
       "padding": null,
       "right": null,
       "top": null,
       "visibility": null,
       "width": null
      }
     },
     "e08f41ffeaa0430fbe1e4c4a66f8a687": {
      "model_module": "@jupyter-widgets/controls",
      "model_module_version": "1.5.0",
      "model_name": "DescriptionStyleModel",
      "state": {
       "_model_module": "@jupyter-widgets/controls",
       "_model_module_version": "1.5.0",
       "_model_name": "DescriptionStyleModel",
       "_view_count": null,
       "_view_module": "@jupyter-widgets/base",
       "_view_module_version": "1.2.0",
       "_view_name": "StyleView",
       "description_width": ""
      }
     },
     "e0d85f3c844a485e858c625341c1029f": {
      "model_module": "@jupyter-widgets/controls",
      "model_module_version": "1.5.0",
      "model_name": "FloatProgressModel",
      "state": {
       "_dom_classes": [],
       "_model_module": "@jupyter-widgets/controls",
       "_model_module_version": "1.5.0",
       "_model_name": "FloatProgressModel",
       "_view_count": null,
       "_view_module": "@jupyter-widgets/controls",
       "_view_module_version": "1.5.0",
       "_view_name": "ProgressView",
       "bar_style": "success",
       "description": "",
       "description_tooltip": null,
       "layout": "IPY_MODEL_bf0642eedabf47e1ac39155503a524f6",
       "max": 456318.0,
       "min": 0.0,
       "orientation": "horizontal",
       "style": "IPY_MODEL_033b3960828e4f03a39964ed951e49f6",
       "value": 456318.0
      }
     },
     "e125982d3ca04fec8e525b238f88b4a5": {
      "model_module": "@jupyter-widgets/base",
      "model_module_version": "1.2.0",
      "model_name": "LayoutModel",
      "state": {
       "_model_module": "@jupyter-widgets/base",
       "_model_module_version": "1.2.0",
       "_model_name": "LayoutModel",
       "_view_count": null,
       "_view_module": "@jupyter-widgets/base",
       "_view_module_version": "1.2.0",
       "_view_name": "LayoutView",
       "align_content": null,
       "align_items": null,
       "align_self": null,
       "border": null,
       "bottom": null,
       "display": null,
       "flex": null,
       "flex_flow": null,
       "grid_area": null,
       "grid_auto_columns": null,
       "grid_auto_flow": null,
       "grid_auto_rows": null,
       "grid_column": null,
       "grid_gap": null,
       "grid_row": null,
       "grid_template_areas": null,
       "grid_template_columns": null,
       "grid_template_rows": null,
       "height": null,
       "justify_content": null,
       "justify_items": null,
       "left": null,
       "margin": null,
       "max_height": null,
       "max_width": null,
       "min_height": null,
       "min_width": null,
       "object_fit": null,
       "object_position": null,
       "order": null,
       "overflow": null,
       "overflow_x": null,
       "overflow_y": null,
       "padding": null,
       "right": null,
       "top": null,
       "visibility": null,
       "width": null
      }
     },
     "e5e8de4899354d73813c6364d629af36": {
      "model_module": "@jupyter-widgets/controls",
      "model_module_version": "1.5.0",
      "model_name": "HTMLModel",
      "state": {
       "_dom_classes": [],
       "_model_module": "@jupyter-widgets/controls",
       "_model_module_version": "1.5.0",
       "_model_name": "HTMLModel",
       "_view_count": null,
       "_view_module": "@jupyter-widgets/controls",
       "_view_module_version": "1.5.0",
       "_view_name": "HTMLView",
       "description": "",
       "description_tooltip": null,
       "layout": "IPY_MODEL_92c0b2fb75274d5288b95e73ecfecb5b",
       "placeholder": "​",
       "style": "IPY_MODEL_e08f41ffeaa0430fbe1e4c4a66f8a687",
       "value": " 511M/511M [00:12&lt;00:00, 44.0MB/s]"
      }
     },
     "e6584f5bf7064e649047ff3e9e92c90d": {
      "model_module": "@jupyter-widgets/controls",
      "model_module_version": "1.5.0",
      "model_name": "DescriptionStyleModel",
      "state": {
       "_model_module": "@jupyter-widgets/controls",
       "_model_module_version": "1.5.0",
       "_model_name": "DescriptionStyleModel",
       "_view_count": null,
       "_view_module": "@jupyter-widgets/base",
       "_view_module_version": "1.2.0",
       "_view_name": "StyleView",
       "description_width": ""
      }
     },
     "e8dbdc71c67e40ef9a42be6b697c864d": {
      "model_module": "@jupyter-widgets/base",
      "model_module_version": "1.2.0",
      "model_name": "LayoutModel",
      "state": {
       "_model_module": "@jupyter-widgets/base",
       "_model_module_version": "1.2.0",
       "_model_name": "LayoutModel",
       "_view_count": null,
       "_view_module": "@jupyter-widgets/base",
       "_view_module_version": "1.2.0",
       "_view_name": "LayoutView",
       "align_content": null,
       "align_items": null,
       "align_self": null,
       "border": null,
       "bottom": null,
       "display": null,
       "flex": null,
       "flex_flow": null,
       "grid_area": null,
       "grid_auto_columns": null,
       "grid_auto_flow": null,
       "grid_auto_rows": null,
       "grid_column": null,
       "grid_gap": null,
       "grid_row": null,
       "grid_template_areas": null,
       "grid_template_columns": null,
       "grid_template_rows": null,
       "height": null,
       "justify_content": null,
       "justify_items": null,
       "left": null,
       "margin": null,
       "max_height": null,
       "max_width": null,
       "min_height": null,
       "min_width": null,
       "object_fit": null,
       "object_position": null,
       "order": null,
       "overflow": null,
       "overflow_x": null,
       "overflow_y": null,
       "padding": null,
       "right": null,
       "top": null,
       "visibility": null,
       "width": null
      }
     },
     "e9936c816f1742fcb4c85b4a33f5d52d": {
      "model_module": "@jupyter-widgets/controls",
      "model_module_version": "1.5.0",
      "model_name": "DescriptionStyleModel",
      "state": {
       "_model_module": "@jupyter-widgets/controls",
       "_model_module_version": "1.5.0",
       "_model_name": "DescriptionStyleModel",
       "_view_count": null,
       "_view_module": "@jupyter-widgets/base",
       "_view_module_version": "1.2.0",
       "_view_name": "StyleView",
       "description_width": ""
      }
     },
     "eb5b4ecc575345718c335da43db8941d": {
      "model_module": "@jupyter-widgets/base",
      "model_module_version": "1.2.0",
      "model_name": "LayoutModel",
      "state": {
       "_model_module": "@jupyter-widgets/base",
       "_model_module_version": "1.2.0",
       "_model_name": "LayoutModel",
       "_view_count": null,
       "_view_module": "@jupyter-widgets/base",
       "_view_module_version": "1.2.0",
       "_view_name": "LayoutView",
       "align_content": null,
       "align_items": null,
       "align_self": null,
       "border": null,
       "bottom": null,
       "display": null,
       "flex": null,
       "flex_flow": null,
       "grid_area": null,
       "grid_auto_columns": null,
       "grid_auto_flow": null,
       "grid_auto_rows": null,
       "grid_column": null,
       "grid_gap": null,
       "grid_row": null,
       "grid_template_areas": null,
       "grid_template_columns": null,
       "grid_template_rows": null,
       "height": null,
       "justify_content": null,
       "justify_items": null,
       "left": null,
       "margin": null,
       "max_height": null,
       "max_width": null,
       "min_height": null,
       "min_width": null,
       "object_fit": null,
       "object_position": null,
       "order": null,
       "overflow": null,
       "overflow_x": null,
       "overflow_y": null,
       "padding": null,
       "right": null,
       "top": null,
       "visibility": null,
       "width": null
      }
     },
     "ecad39bc66584bbe9dda45cb0d9a9298": {
      "model_module": "@jupyter-widgets/base",
      "model_module_version": "1.2.0",
      "model_name": "LayoutModel",
      "state": {
       "_model_module": "@jupyter-widgets/base",
       "_model_module_version": "1.2.0",
       "_model_name": "LayoutModel",
       "_view_count": null,
       "_view_module": "@jupyter-widgets/base",
       "_view_module_version": "1.2.0",
       "_view_name": "LayoutView",
       "align_content": null,
       "align_items": null,
       "align_self": null,
       "border": null,
       "bottom": null,
       "display": null,
       "flex": null,
       "flex_flow": null,
       "grid_area": null,
       "grid_auto_columns": null,
       "grid_auto_flow": null,
       "grid_auto_rows": null,
       "grid_column": null,
       "grid_gap": null,
       "grid_row": null,
       "grid_template_areas": null,
       "grid_template_columns": null,
       "grid_template_rows": null,
       "height": null,
       "justify_content": null,
       "justify_items": null,
       "left": null,
       "margin": null,
       "max_height": null,
       "max_width": null,
       "min_height": null,
       "min_width": null,
       "object_fit": null,
       "object_position": null,
       "order": null,
       "overflow": null,
       "overflow_x": null,
       "overflow_y": null,
       "padding": null,
       "right": null,
       "top": null,
       "visibility": null,
       "width": null
      }
     },
     "f183d29fdc2f453dba699f22df0c3188": {
      "model_module": "@jupyter-widgets/base",
      "model_module_version": "1.2.0",
      "model_name": "LayoutModel",
      "state": {
       "_model_module": "@jupyter-widgets/base",
       "_model_module_version": "1.2.0",
       "_model_name": "LayoutModel",
       "_view_count": null,
       "_view_module": "@jupyter-widgets/base",
       "_view_module_version": "1.2.0",
       "_view_name": "LayoutView",
       "align_content": null,
       "align_items": null,
       "align_self": null,
       "border": null,
       "bottom": null,
       "display": null,
       "flex": null,
       "flex_flow": null,
       "grid_area": null,
       "grid_auto_columns": null,
       "grid_auto_flow": null,
       "grid_auto_rows": null,
       "grid_column": null,
       "grid_gap": null,
       "grid_row": null,
       "grid_template_areas": null,
       "grid_template_columns": null,
       "grid_template_rows": null,
       "height": null,
       "justify_content": null,
       "justify_items": null,
       "left": null,
       "margin": null,
       "max_height": null,
       "max_width": null,
       "min_height": null,
       "min_width": null,
       "object_fit": null,
       "object_position": null,
       "order": null,
       "overflow": null,
       "overflow_x": null,
       "overflow_y": null,
       "padding": null,
       "right": null,
       "top": null,
       "visibility": null,
       "width": null
      }
     },
     "f368a4c01a954abd881eb4d014e1df1a": {
      "model_module": "@jupyter-widgets/controls",
      "model_module_version": "1.5.0",
      "model_name": "ProgressStyleModel",
      "state": {
       "_model_module": "@jupyter-widgets/controls",
       "_model_module_version": "1.5.0",
       "_model_name": "ProgressStyleModel",
       "_view_count": null,
       "_view_module": "@jupyter-widgets/base",
       "_view_module_version": "1.2.0",
       "_view_name": "StyleView",
       "bar_color": null,
       "description_width": ""
      }
     },
     "f5cdf97b54f24e769a0c55a25dcbcb17": {
      "model_module": "@jupyter-widgets/controls",
      "model_module_version": "1.5.0",
      "model_name": "DescriptionStyleModel",
      "state": {
       "_model_module": "@jupyter-widgets/controls",
       "_model_module_version": "1.5.0",
       "_model_name": "DescriptionStyleModel",
       "_view_count": null,
       "_view_module": "@jupyter-widgets/base",
       "_view_module_version": "1.2.0",
       "_view_name": "StyleView",
       "description_width": ""
      }
     },
     "f5f2fb60a9f1497eab2b4ceea8d0e67f": {
      "model_module": "@jupyter-widgets/controls",
      "model_module_version": "1.5.0",
      "model_name": "HTMLModel",
      "state": {
       "_dom_classes": [],
       "_model_module": "@jupyter-widgets/controls",
       "_model_module_version": "1.5.0",
       "_model_name": "HTMLModel",
       "_view_count": null,
       "_view_module": "@jupyter-widgets/controls",
       "_view_module_version": "1.5.0",
       "_view_name": "HTMLView",
       "description": "",
       "description_tooltip": null,
       "layout": "IPY_MODEL_cb96c23e633f453ab4c320bdd6e8a0f6",
       "placeholder": "​",
       "style": "IPY_MODEL_e9936c816f1742fcb4c85b4a33f5d52d",
       "value": "Downloading: 100%"
      }
     },
     "f722fa8fd1e04921b84bd1ae4a0291f3": {
      "model_module": "@jupyter-widgets/controls",
      "model_module_version": "1.5.0",
      "model_name": "HBoxModel",
      "state": {
       "_dom_classes": [],
       "_model_module": "@jupyter-widgets/controls",
       "_model_module_version": "1.5.0",
       "_model_name": "HBoxModel",
       "_view_count": null,
       "_view_module": "@jupyter-widgets/controls",
       "_view_module_version": "1.5.0",
       "_view_name": "HBoxView",
       "box_style": "",
       "children": [
        "IPY_MODEL_a775b2cf664d42f8afd74631dfa6fc03",
        "IPY_MODEL_0c40eb7a274f4e33b1b6796361471982",
        "IPY_MODEL_91b5a48cab854a32a2bd08c524b5ffbc"
       ],
       "layout": "IPY_MODEL_3b1aa5da6670496cbd45adf54aaa3cdc"
      }
     },
     "fa190a606e1142e79448e8ccb90e91b2": {
      "model_module": "@jupyter-widgets/controls",
      "model_module_version": "1.5.0",
      "model_name": "DescriptionStyleModel",
      "state": {
       "_model_module": "@jupyter-widgets/controls",
       "_model_module_version": "1.5.0",
       "_model_name": "DescriptionStyleModel",
       "_view_count": null,
       "_view_module": "@jupyter-widgets/base",
       "_view_module_version": "1.2.0",
       "_view_name": "StyleView",
       "description_width": ""
      }
     },
     "fa5eec78b6c14e4795d9eea1a4c50652": {
      "model_module": "@jupyter-widgets/controls",
      "model_module_version": "1.5.0",
      "model_name": "HBoxModel",
      "state": {
       "_dom_classes": [],
       "_model_module": "@jupyter-widgets/controls",
       "_model_module_version": "1.5.0",
       "_model_name": "HBoxModel",
       "_view_count": null,
       "_view_module": "@jupyter-widgets/controls",
       "_view_module_version": "1.5.0",
       "_view_name": "HBoxView",
       "box_style": "",
       "children": [
        "IPY_MODEL_bcbe5c2657c6424ab80bc34f776c5639",
        "IPY_MODEL_e0d85f3c844a485e858c625341c1029f",
        "IPY_MODEL_46426b7ce91442f0abf324437d06d493"
       ],
       "layout": "IPY_MODEL_03b54f5e399c47ed98d166f49c68e1bc"
      }
     },
     "fae2f566fa664f9f942ea8b834d0b724": {
      "model_module": "@jupyter-widgets/base",
      "model_module_version": "1.2.0",
      "model_name": "LayoutModel",
      "state": {
       "_model_module": "@jupyter-widgets/base",
       "_model_module_version": "1.2.0",
       "_model_name": "LayoutModel",
       "_view_count": null,
       "_view_module": "@jupyter-widgets/base",
       "_view_module_version": "1.2.0",
       "_view_name": "LayoutView",
       "align_content": null,
       "align_items": null,
       "align_self": null,
       "border": null,
       "bottom": null,
       "display": null,
       "flex": null,
       "flex_flow": null,
       "grid_area": null,
       "grid_auto_columns": null,
       "grid_auto_flow": null,
       "grid_auto_rows": null,
       "grid_column": null,
       "grid_gap": null,
       "grid_row": null,
       "grid_template_areas": null,
       "grid_template_columns": null,
       "grid_template_rows": null,
       "height": null,
       "justify_content": null,
       "justify_items": null,
       "left": null,
       "margin": null,
       "max_height": null,
       "max_width": null,
       "min_height": null,
       "min_width": null,
       "object_fit": null,
       "object_position": null,
       "order": null,
       "overflow": null,
       "overflow_x": null,
       "overflow_y": null,
       "padding": null,
       "right": null,
       "top": null,
       "visibility": null,
       "width": null
      }
     },
     "fc7fab9b25434243a209a61726cdb0c8": {
      "model_module": "@jupyter-widgets/base",
      "model_module_version": "1.2.0",
      "model_name": "LayoutModel",
      "state": {
       "_model_module": "@jupyter-widgets/base",
       "_model_module_version": "1.2.0",
       "_model_name": "LayoutModel",
       "_view_count": null,
       "_view_module": "@jupyter-widgets/base",
       "_view_module_version": "1.2.0",
       "_view_name": "LayoutView",
       "align_content": null,
       "align_items": null,
       "align_self": null,
       "border": null,
       "bottom": null,
       "display": null,
       "flex": null,
       "flex_flow": null,
       "grid_area": null,
       "grid_auto_columns": null,
       "grid_auto_flow": null,
       "grid_auto_rows": null,
       "grid_column": null,
       "grid_gap": null,
       "grid_row": null,
       "grid_template_areas": null,
       "grid_template_columns": null,
       "grid_template_rows": null,
       "height": null,
       "justify_content": null,
       "justify_items": null,
       "left": null,
       "margin": null,
       "max_height": null,
       "max_width": null,
       "min_height": null,
       "min_width": null,
       "object_fit": null,
       "object_position": null,
       "order": null,
       "overflow": null,
       "overflow_x": null,
       "overflow_y": null,
       "padding": null,
       "right": null,
       "top": null,
       "visibility": null,
       "width": null
      }
     },
     "ff3d33cd9502485db00c3c4f61b29da8": {
      "model_module": "@jupyter-widgets/base",
      "model_module_version": "1.2.0",
      "model_name": "LayoutModel",
      "state": {
       "_model_module": "@jupyter-widgets/base",
       "_model_module_version": "1.2.0",
       "_model_name": "LayoutModel",
       "_view_count": null,
       "_view_module": "@jupyter-widgets/base",
       "_view_module_version": "1.2.0",
       "_view_name": "LayoutView",
       "align_content": null,
       "align_items": null,
       "align_self": null,
       "border": null,
       "bottom": null,
       "display": null,
       "flex": null,
       "flex_flow": null,
       "grid_area": null,
       "grid_auto_columns": null,
       "grid_auto_flow": null,
       "grid_auto_rows": null,
       "grid_column": null,
       "grid_gap": null,
       "grid_row": null,
       "grid_template_areas": null,
       "grid_template_columns": null,
       "grid_template_rows": null,
       "height": null,
       "justify_content": null,
       "justify_items": null,
       "left": null,
       "margin": null,
       "max_height": null,
       "max_width": null,
       "min_height": null,
       "min_width": null,
       "object_fit": null,
       "object_position": null,
       "order": null,
       "overflow": null,
       "overflow_x": null,
       "overflow_y": null,
       "padding": null,
       "right": null,
       "top": null,
       "visibility": null,
       "width": null
      }
     }
    },
    "version_major": 2,
    "version_minor": 0
   }
  }
 },
 "nbformat": 4,
 "nbformat_minor": 5
}
